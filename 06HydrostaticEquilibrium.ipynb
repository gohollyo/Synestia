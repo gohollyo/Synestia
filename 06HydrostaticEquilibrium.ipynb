{
 "cells": [
  {
   "cell_type": "markdown",
   "metadata": {},
   "source": [
    "### Pressure term is significant"
   ]
  },
  {
   "cell_type": "code",
   "execution_count": null,
   "metadata": {},
   "outputs": [],
   "source": [
    "# magnitude of pressure, particle doesn't have to orbit as quickly to maintain a stable orbit"
   ]
  },
  {
   "cell_type": "markdown",
   "metadata": {},
   "source": [
    "# Balance of Forces"
   ]
  },
  {
   "cell_type": "markdown",
   "metadata": {},
   "source": [
    "To understand the dynamics of a synestia, we must first understand its mechanics (balance of forces). There are three forces at work: the centripetal force, the pressure force from the gas, and gravity of components of the structure. A parcel of gas in a synestia is stably orbiting when it follows the following equation:\n",
    "$$\\omega^2r = \\frac{1}{\\rho}\\frac{dP}{dr} + \\frac{GM}{r^2}(1 + \\frac{3J_2a_{eq}^2}{2r^2}(\\frac{3z^2}{r^2} - 1))$$\n",
    "where $\\omega$ is the angular velocity of the parcel, r is the distance from the parcel to the center of the synestia (origin), $\\rho$ is the density of the parcel of gas, dP/dr is the radial pressure gradient at the location of the parcel, G is the gravitational constant, M is the mass of the synestia the parcel is orbiting in, J$_2$ is the oblateness of that synestia, a$_{eq}$ is the equatorial radius of this synestia, and z is the vertical distance off the midplane of the parcel of gas.\n",
    "\n",
    "Density of the gas will vary based on the parcel's location in a synestia. There is a radial dependency for density. Density decreases off the midplane to higher z, and also decreases at larger distances from a synestia's rotational axis, cylindrical radius r$_{xy}$. Density follows a power law dependence in r$_{xy}$ and an exponential decay dependence in z. Density will typically follow the form:\n",
    "$$\\rho = \\rho(r_{xy}, z) = \\rho_0a^{-b}e^{-z^2/z_s^2}$$\n",
    "where $\\rho_0$ is a reference density in the midplane, a is the base of the power law fit for the midplane, b is the exponent of the midplane's power law fit, z is the vertical position of the parcel of gas, and z$_s$ is the scale height. The scale height is a measure of how quickly the density decreases in z. It measures the e-folding time, or at what z the density reaches 1/e th of its midplane value. The scale height has a dependency on cylindrical radius $r_{xy}$ with the form:\n",
    "$$z_s = $$\n",
    "where . \n",
    "\n",
    "The pressure gradient term is significant in a synestia and allows a parcel of gas to orbit at a speed slower than would be allowed with gravity only (Keplerian). Parcels of gas in a synestia orbit at sub-Keplerian velocities. The z component of the pressure gradient allows a particle to orbit at the same z. In other words, gas parcels experience hydrostatic equilibrium in z. The parcel of gas's gravitational pull towards the midplane is balanced by the vertical pressure gradient. Gas parcels will not move in the z direction; they have zero movement in z. Hydrostatic equilibrium in z follows this equation:\n",
    "$\\frac{dP}{dz} = -\\rho g_z = $\n",
    "where g$_z$ is the z component of the gravitational acceleration acting at a particular location in a synestia. The magnitude of the pressure gradient in z will change according to the magnitude of the gas density and gravitational acceleration in z at a particular r$_xy$, z location.\n",
    "\n",
    "The pressure gradient term is responsible for the puffiness of a synestia. It causes a synestia to flare. Let's see below if a synestia truly is in hydrostatic equilibrium.\n",
    "\n",
    "\n",
    "## Sub-Keplerian Orbits of Moonlets in Synestias?\n",
    "Here we will look at the Sub-Keplerian orbits of variously sized moonlets within a synestia.  (see eqn above, talk about implications for gas and for condensate)\n",
    "### Sub-Keplerian Orbits: orbits balanced by gravity and pressure"
   ]
  },
  {
   "cell_type": "code",
   "execution_count": null,
   "metadata": {},
   "outputs": [],
   "source": [
    "from syndef import synfits\n",
    "import numpy as np\n",
    "from syndef import synfits\n",
    "import matplotlib.pyplot as plt\n",
    "rxy_Kep = np.linspace(0.,300.e6,100)\n",
    "angvel_Kep = ((G*np.sum(synfits.SNAP_CukStewart.m)/rxy_Kep**3)**0.5)*3600*180/math.pi\n",
    "fig,ax1 = plt.subplots(figsize=(8,4))\n",
    "plt.title('Angular Velocity Profile of a Synestia')\n",
    "ax1.plot(synfits.SNAP_CukStewart.rxy[synfits.SNAP_CukStewart.ind_mid]/1e3,synfits.SNAP_CukStewart.omg_z[synfits.SNAP_CukStewart.ind_mid]*3600*180/math.pi,'.')\n",
    "ax1.plot(rxy_Kep/1e3,angvel_Kep,'--',label='Keplerian orbit')\n",
    "ax1.set_xlabel('Distance from Rotational Axis (km)')\n",
    "ax1.set_ylabel('Angular Velocity (degrees/hr)',color='tab:blue')\n",
    "ax1.tick_params(axis='y', labelcolor='tab:blue')\n",
    "ax1.set_ylim([np.amin(synfits.SNAP_CukStewart.omg_z[synfits.SNAP_CukStewart.ind_mid]*3600*180/math.pi),np.amax(synfits.SNAP_CukStewart.omg_z[synfits.SNAP_CukStewart.ind_mid]*3600*180/math.pi)])\n",
    "plt.xlim([0.1,100.e3])\n",
    "plt.legend()\n",
    "ax2 = ax1.twinx()\n",
    "period = 2.*math.pi/(synfits.SNAP_CukStewart.omg_z[synfits.SNAP_CukStewart.ind_mid]*3600)\n",
    "ax2.plot(synfits.SNAP_CukStewart.rxy[synfits.SNAP_CukStewart.ind_mid]/1e3,period,'.',color='grey')#,alpha=0)\n",
    "ax2.set_ylabel('Corresponding Orbital Period (hr)',color='dimgrey')\n",
    "ax2.set_ylim([np.amin(period),250])\n",
    "ax2.tick_params(axis='y', labelcolor='dimgrey')\n",
    "plt.show()"
   ]
  },
  {
   "cell_type": "markdown",
   "metadata": {},
   "source": [
    "This is a plot of the midplane (z = 0) angular velocity profile. The profile is continuous because there are no dynamically distinct features of a synestia. It is a connected body. Notice that the profile is flat at smaller radii. This is the corotating portion of a synestia. All material rotates about its axis together at the same (rapid) angular velocity. At larger radii, the profile drops off, where material in a synestia can no longer corotate.\n",
    "\n",
    "The angular velocity is lower than what it would be for a Keplerian orbit. A Keplerian orbit is a stable (no inward or outward spiralling) elliptical orbit. The orbiting body is moving fast enough through a vacuum around its central body to resist the inward pull of the central body's first-order gravity. In other words, the only force that is acting (and is balanced) is gravity. In the non-corotating region of a synestia, the material experiences a sub-Keplerian orbit. There is sufficient pressure support to counteract gravity. This allows the gas to orbit at an angular velocity that is slower than it would be for an equivalent Keplerian orbit."
   ]
  },
  {
   "cell_type": "code",
   "execution_count": null,
   "metadata": {},
   "outputs": [],
   "source": [
    "#draw interactive below\n",
    "#angular velocity profile with length of day (rotation speed)\n",
    "#have Keplerian\n",
    "#another section: why make very puffy, very big\n",
    "#INSERT FIGURE OF ANGULAR VELOCITY PROFILE OF SYNESTIA; CONTRAST WITH LINEAR VELOCITY\n",
    "\n",
    "#how does pressure change? slower velocity at that location\n",
    "#plot difference, slider bar for pressure effect\n",
    "#diff in vel is headwind\n",
    "#put in the equation: adjustable parameter (adding pressure support)\n",
    "#how does this change"
   ]
  }
 ],
 "metadata": {
  "kernelspec": {
   "display_name": "Python 3",
   "language": "python",
   "name": "python3"
  },
  "language_info": {
   "codemirror_mode": {
    "name": "ipython",
    "version": 3
   },
   "file_extension": ".py",
   "mimetype": "text/x-python",
   "name": "python",
   "nbconvert_exporter": "python",
   "pygments_lexer": "ipython3",
   "version": "3.6.8"
  }
 },
 "nbformat": 4,
 "nbformat_minor": 2
}
