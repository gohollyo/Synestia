{
 "cells": [
  {
   "cell_type": "code",
   "execution_count": null,
   "metadata": {},
   "outputs": [],
   "source": [
    "#CHANGE EQUATION TO ACCOMODATE GAS DRAG (No longer pressure supported)\n",
    "#EQUATION IS FOR CONDENSATE\n",
    "#Comparison to how quickly lunar seed can grow\n",
    "#Expand to larger overall picture of what is going on during moon formation/growth.\n",
    "#Torrential rain (thermal buffer, collisions)\n",
    "#Convection?\n",
    "#Most material beyond Moon would probably collect onto lunar seed\n",
    "#Invoke torques to keep lunar seed alive?\n",
    "### Chemistry? Pressure and temperature path of moonlets - calculations?"
   ]
  },
  {
   "cell_type": "markdown",
   "metadata": {},
   "source": [
    "#chemistry diagram"
   ]
  },
  {
   "cell_type": "code",
   "execution_count": null,
   "metadata": {},
   "outputs": [],
   "source": []
  }
 ],
 "metadata": {
  "kernelspec": {
   "display_name": "Python 3",
   "language": "python",
   "name": "python3"
  },
  "language_info": {
   "codemirror_mode": {
    "name": "ipython",
    "version": 3
   },
   "file_extension": ".py",
   "mimetype": "text/x-python",
   "name": "python",
   "nbconvert_exporter": "python",
   "pygments_lexer": "ipython3",
   "version": "3.6.8"
  }
 },
 "nbformat": 4,
 "nbformat_minor": 2
}
