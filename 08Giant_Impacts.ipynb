{
 "cells": [
  {
   "cell_type": "markdown",
   "metadata": {},
   "source": [
    "# The Moon formed from a giant impact..."
   ]
  },
  {
   "cell_type": "markdown",
   "metadata": {},
   "source": [
    "Apollo missions increased our knowledge and understanding of the Moon (insert diagram of rocks). Basalt and glassy soils (volcanism), old surface littered with meteorite impacts (breccias), and highlands (flotation crust that forms from a magma ocean [think of it as a liquified, molten crust that has since cooled]). So the Moon must have been liquified at some point, makes sens\n",
    "\n",
    "1. small Fe core\n",
    "2. large relative mass of Moon relative to Earth: could not be captured\n",
    "3. similar bulk chemical and isotopic compositions: would not expect to be the same if captured another planetary body\n",
    "4. the high angular momentum of the Earth-Moon system\n",
    "\n",
    "others: fission, accretion theory (problems with angular momentum of sys and if broke off or formed near Earth, proportion and type of minerals should be similar to earth, but slightly different, The minerals on the Moon contain less water than similar terrestrial rocks. The Moon is rich in material that forms quickly at a high temperature)\n",
    "\n",
    "Giant impacts would significantly liquify and vaporize impacting bodies (would be able to mix materials in post-impact disk), resulting in high temperatures, core of bodies are formed quickly, high system angular momentum transformed from kinetic energy of impact.\n",
    "\n",
    "https://www.nhm.ac.uk/discover/how-did-the-moon-form.html"
   ]
  },
  {
   "cell_type": "markdown",
   "metadata": {},
   "source": [
    "# ...just not the giant impact you're used to"
   ]
  },
  {
   "cell_type": "markdown",
   "metadata": {},
   "source": []
  },
  {
   "cell_type": "markdown",
   "metadata": {},
   "source": [
    "# Many different giant impact scenarios can result in a Moon-forming synestia"
   ]
  },
  {
   "cell_type": "markdown",
   "metadata": {},
   "source": []
  }
 ],
 "metadata": {
  "kernelspec": {
   "display_name": "Python 3",
   "language": "python",
   "name": "python3"
  },
  "language_info": {
   "codemirror_mode": {
    "name": "ipython",
    "version": 3
   },
   "file_extension": ".py",
   "mimetype": "text/x-python",
   "name": "python",
   "nbconvert_exporter": "python",
   "pygments_lexer": "ipython3",
   "version": "3.6.8"
  }
 },
 "nbformat": 4,
 "nbformat_minor": 2
}
