{
 "cells": [
  {
   "cell_type": "markdown",
   "metadata": {},
   "source": [
    "# What are synestias and why do they matter?"
   ]
  },
  {
   "cell_type": "markdown",
   "metadata": {},
   "source": [
    "## How were synestias discovered?"
   ]
  },
  {
   "cell_type": "markdown",
   "metadata": {},
   "source": [
    "Synestias are a new type of planetary structure (think planets, moons, and planetary disks) discovered by Lock and Stewart (2017). Lock and Stewart were searching for an alternative hypothesis that could account for some of the loose ends of the prevailing Moon-formation model. There is strong evidence that a giant impact formed the Moon. However, the specifics of the Moon-forming giant impact have been hotly debated within the lunar science community.\n",
    "\n",
    "Since the 1970's, the main hypothesis for the formation of the Moon (known as the canonical model) has been that a Mars-sized object slowly glanced a young Earth. This is what people outside lunar research circles are most familiar with. However, some lunar researchers felt that the canonical giant impact was too limiting. In particular, the assumption that the angular momentum of the Earth-Moon system has not changed throughout the life of our solar system. It is true that unless acted upon by a non-conservative force, a system will conserve its angular momentum. However, there was not a definitive reason as to why a non-conservative force would not be expected to act on the Earth-Moon system. It took a while for the science of giant impacts and orbital dynamics to catch up with the canonical model. (insert authors here) were able to provide mechanisms for decreasing the angular momentum of the Earth-Moon system over time, and (insert authors here) simulated higher-energy, higher-angular-momentum giant impacts with better understanding of the behavior of rocky materials under extreme pressure and temperature conditions.\n",
    "\n",
    "As Lock and Stewart studied a range of initial conditions for their database of higher-energy, higher-angular-momentum Moon-forming giant impacts, they noticed that some of the impacts resulted in a structure that was not a typical moon-forming disk. They had flared structures similar to those of traditional disks but did not have the same dynamics. These new structures were continuous bodies (as opposed to a distinct planet with a disk that separately orbits the planet). They had rapidly rotating centers, emplacing more mass in their moon-forming regions, and a gaseous disk-like structure, resulting in higher pressures (thus higher chemical equilibrium) in their moon-forming regions. Lock and Stewart called these structures <i>synestias</i>, after \"syn-\" meaning together and the goddess Hestia, who rules over architecture."
   ]
  },
  {
   "cell_type": "markdown",
   "metadata": {},
   "source": [
    "## What does a synestia look like?"
   ]
  },
  {
   "cell_type": "markdown",
   "metadata": {},
   "source": [
    "Synestias have a physical shape resembling that of a giant donut (about 8000 times as wide as Earth is now) with no hole at the center. Below is a conceptual artist rendering of a synestia. It is based on researchers' best knowledge of what a synestia might look like based on fluid-particle simulations of giant impacts (a synestia has not been observed in space yet). The easiest way to form synestias is through giant impacts: collisions between planet-sized bodies with enough energy to liquify and vaporize a sizeable proportion of the impacting bodies. The coliding bodies will quickly (on the order of an Earth day or two) form one continuous swirling mass of molten and vaporous rock - a synestia. Most of the interior of a synestia is made of turbulent rock vapor, which is opaque to visible light (e.g. we can't see through a synestia) and gives a synestia its flared, disk-like shape. The surface of a synestia is essentially a cloud cover; it's comprised of many molten rock droplets that have condensed from gas after radiating their heat into space. These condensates are very hot (2300 K) so the surface of a synestia glows like magma does on Earth."
   ]
  },
  {
   "cell_type": "markdown",
   "metadata": {},
   "source": [
    "![title](Figures/FigureSynestiaSciAmer.png)"
   ]
  },
  {
   "cell_type": "markdown",
   "metadata": {},
   "source": [
    "Image Credit: <i>Scientific American</i>, from Lock and Stewart (2019)."
   ]
  },
  {
   "cell_type": "markdown",
   "metadata": {},
   "source": [
    "In the artist's rendering above, you'll notice there is a moon (small glowing sphere in lower right corner) orbiting the synestia. This is supposed to represent the fully-formed Moon, now that the synestia has cooled and retracted from the Moon.\n",
    "\n",
    "At the surface of a synestia, rock vapor is free to radiate its heat away into cold space (in other words, the rock vapor cools) until it condenses into droplets. The surrounding gas cannot support the droplets, so they rain towards the midplane. Small moons coalesce from this rock rain over time, and eventually accrete into one large moon. Since the Moon is essentially a large, hot rock droplet at this point, it too will glow (like lava) as heat radiates from its surface, cooling the Moon. The Moon appears darker in the image above to indicate the formation of a crust (whereas the synestia does not). When the Moon is no longer surrounded by gas (in a synestia), it forms a crust before the synestia can, as it is a smaller body and needs less time for its surface to solidify."
   ]
  },
  {
   "cell_type": "markdown",
   "metadata": {},
   "source": [
    "## How does a synestia become the Earth we know today?"
   ]
  },
  {
   "cell_type": "markdown",
   "metadata": {},
   "source": [
    "What is so interesting about the origin of the Moon is that <b>the Moon-forming giant impact shapes both the Moon and Earth</b>. If the post-giant-impact outcome is a synestia, then the Moon forms from within a synestia. This means <b>the Moon forms within Earth, because Earth would have been the synestia</b>. How cool is that?\n",
    "\n",
    "The conceptual image above shows what a synestia looks like a couple of days after the giant impact that formed it. However, a synestia is not a static body. Unlike a planet, a synestia will drastically evolve with time. This transition is quick relative to geological timescales; it can be on the order of 10's of years.\n",
    "\n",
    "A synestia's shape will remain flared (disk-like) for some time. The photosphere of a synestia, the optically thin layer enveloping a synestia, is in contact with cold (200 K), vacuum-like space. The photosphere (the surface where vapor saturates and is able to condense, think of it as a synsetia's cloud layer) will radiate away heat, causing the outer layers of vapor to condense into rock rain. As a synestia continues to shrink and condense, its outer edges recede with time. Eventually, a synestia will cool and shrink to a more spherical shape and transition into a rapidly rotating, molten planet. Since the planet is rapidly rotating, it will have a bulge around its equator; taking on an ellipsoidal shape is described as oblate. Watch the video below (Stewart et al, 2019) to see a conceptual animation of a giant impact that creates a synestia that transitions into the Earth-Moon system over time."
   ]
  },
  {
   "cell_type": "code",
   "execution_count": 2,
   "metadata": {},
   "outputs": [
    {
     "data": {
      "text/html": [
       "\n",
       "        <iframe\n",
       "            width=\"640\"\n",
       "            height=\"360\"\n",
       "            src=\"https://player.vimeo.com/video/323548879\"\n",
       "            frameborder=\"0\"\n",
       "            allowfullscreen\n",
       "        ></iframe>\n",
       "        "
      ],
      "text/plain": [
       "<IPython.lib.display.IFrame at 0x1112c7e10>"
      ]
     },
     "execution_count": 2,
     "metadata": {},
     "output_type": "execute_result"
    }
   ],
   "source": [
    "from IPython.display import IFrame\n",
    "IFrame(src=\"https://player.vimeo.com/video/323548879\", width=640, height=360)"
   ]
  },
  {
   "cell_type": "markdown",
   "metadata": {},
   "source": [
    "For comparison, the video below (Canup et al, 2018) shows the formation of a planet-disk system via a giant impact."
   ]
  },
  {
   "cell_type": "code",
   "execution_count": 3,
   "metadata": {},
   "outputs": [
    {
     "data": {
      "text/html": [
       "\n",
       "        <iframe\n",
       "            width=\"560\"\n",
       "            height=\"315\"\n",
       "            src=\"https://www.youtube.com/embed/PnhflL7-I3I\"\n",
       "            frameborder=\"0\"\n",
       "            allowfullscreen\n",
       "        ></iframe>\n",
       "        "
      ],
      "text/plain": [
       "<IPython.lib.display.IFrame at 0x1112061d0>"
      ]
     },
     "execution_count": 3,
     "metadata": {},
     "output_type": "execute_result"
    }
   ],
   "source": [
    "IFrame(src=\"https://www.youtube.com/embed/PnhflL7-I3I\", width=560, height=315)"
   ]
  },
  {
   "cell_type": "markdown",
   "metadata": {},
   "source": [
    "References:  \n",
    "Lock, S.J., and S.T. Stewart (2019). When Earth and the Moon Were One. <i>Scientific American</i>. Image retrieved from https://www.scientificamerican.com/article/when-earth-and-the-moon-were-one/ (May 2020)  \n",
    "Stewart, S.T., M. SubbaRao, D. Cox, R. Patterson, S. Levy, A.J. Christensen, and K. Borkiewicz (2019). Making a Synestia. <i>Vimeo</i>. Video retrieved from https://vimeo.com/323548879 (May 2020)  \n",
    "Canup, R., D. Cox, R. Patterson, S. Levy, K. Borkiewicz, and A.J. Christensen (2018). Moon Formation Simulation. <i>YouTube</i>. Video retrieved from https://youtu.be/PnhflL7-I3I (May 2020)"
   ]
  }
 ],
 "metadata": {
  "kernelspec": {
   "display_name": "Python 3",
   "language": "python",
   "name": "python3"
  },
  "language_info": {
   "codemirror_mode": {
    "name": "ipython",
    "version": 3
   },
   "file_extension": ".py",
   "mimetype": "text/x-python",
   "name": "python",
   "nbconvert_exporter": "python",
   "pygments_lexer": "ipython3",
   "version": "3.6.8"
  }
 },
 "nbformat": 4,
 "nbformat_minor": 2
}
