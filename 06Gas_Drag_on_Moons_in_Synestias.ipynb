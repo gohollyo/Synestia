{
 "cells": [
  {
   "cell_type": "markdown",
   "metadata": {},
   "source": [
    "# Gas Drag on Moons in Synestias"
   ]
  },
  {
   "cell_type": "markdown",
   "metadata": {},
   "source": [
    "Synestias can form moons. It is a natural consequence of the cooling process a synestia undergoes as its photosphere (where cloud cover is, where rock vapor condenses) radiates heat into the cold vacuum of space. There is a great deal of silicate vapor (also referred to as gas) in the moon-forming region of a synestia, which provides a significant source of material with which to grow a moon.\n",
    "\n",
    "Before a moon can coalesce out of a synestia, the smaller building blocks of a moon, moonlets (also called condensates and liquid droplets), must condense out of the cooled vapor in a synestia. Similarly, before a puddle can be pool on Earth's surface, water vapor must condense in Earth's atmosphere and rain to the surface.\n",
    "\n",
    "Once a parcel of gas from the synestia condenses into a liquid droplet, that parcel is no longer coupled to its fellow gas parcels. The surrounding gas cannot support the condensate. The moonlet loses pressure support from the surrounding gas and begins to fall towards the midplane (z = 0), pulled by gravitational forces. As the droplet falls, it passes through gas, which imparts a drag on the moonlet and causes the droplet to slow down and lose angular velocity. The orbit of the moonlets will decay over time in accord with the strength of the gas drag acceleration.\n",
    "\n",
    "Will this droplet make it to the midplane and help form a moon? Will this droplet re-vaporize? Or will this droplet be lost to the planet-like central region of the synestia? To answer this, we need to know how strong the gas drag force is. What affects the strength of gas drag?"
   ]
  },
  {
   "cell_type": "markdown",
   "metadata": {},
   "source": [
    "## Gas Drag Equation"
   ]
  },
  {
   "attachments": {},
   "cell_type": "markdown",
   "metadata": {},
   "source": [
    "![title](Figures/FigureGasDrag.png)"
   ]
  },
  {
   "cell_type": "markdown",
   "metadata": {},
   "source": [
    "Gas drag acting on a sphere with a cross sectional area A of $\\pi$r$^2$. The sphere has a mass m and is moving with a velocity v$_{body}$ (u$_{body}$ in the equation below) through a gas with density $\\rho_g$ ($\\rho_{gas}$ in the equation below) moving at a velocity v$_g$ (u$_{gas}$ in the equation below). As the sphere moves through the gas, gas particles will pile up in front of the sphere, creating a high pressure reigon. The gas drag that arises as a result of the velocity differential between the gas and sphere imparts an acceleration a$_{drag}$ on the sphere. Credit: adapted from Figure 15-11 of Gudmundsson, S. (2014) Aircraft Drag Analysis in General Aviation Aircraft Design: Applied Methods and Procedures, p. 661-760."
   ]
  },
  {
   "cell_type": "markdown",
   "metadata": {},
   "source": [
    "Let's get a sense for the magnitude of gas drag acceleration that we're dealing with. It is assumed that the moonlets experience a simple gas drag (known as laminar flow). The equation is as follows:\n",
    "$$a_{drag}=\\frac{C_D\\ A \\ \\rho_{gas} \\ (u_{gas} - u_{body})^2}{2 \\ m_{body}}$$"
   ]
  },
  {
   "cell_type": "markdown",
   "metadata": {},
   "source": [
    "Simple gas drag acceleration a$_{drag}$ is dependent on:\n",
    "the gas with density $\\rho_{gas}$ that drags a body of mass $m_{body}$, the cross sectional area A of the body that the gas is interacting with (typically we assume solar system bodies are spherical, so they would have a circular cross section), the gas drag coefficient C$_D$ (what thermal regime we are in), and the relative velocity between the gas and the body being dragged u$_{gas}$-u$_{body}$.\n",
    "\n",
    "If the body were traveling at the same speed and in the same direction as the gas surrounding it, it wouldn't matter how fast the body was traveling, there would be no gas drag acting on the body. The differential between the speeds is what affects the gas drag's magnitude the most. Note that if the body is traveling at the same speed of the gas but in the <i>opposite direction</i>, gas drag <i>would</i> act on the body. Think of the difference in velocity between a synestia's gas field and a moonlet as the headwind a moonlet must battle as it orbits within a synestia. If the gas and moonlet are moving in the same direction, but the gas is moving faster, the gas will help pull the moonlet along, much like how wind might push you from behind and help you run or move faster. If the gas and moonlet are moving in opposite directions, then the gas will slow the moonlet, much like how you might struggle to step or bicycle against a strong gust of a wind.\n",
    "\n",
    "The gas drag acceleration is output below in units of m/s$^2$, but for a more intuitive idea of how strong these accelerations are, see the different accelerations you may encounter on Earth displayed below the plot. They are output in terms of 'g' where 1 g = 9.8 m/s$^2$. In other words, 1 g is the gravitational acceleration here on (the surface of) Earth. These are next to various speeds in m/s for reference to the speed of each relative velocity."
   ]
  },
  {
   "cell_type": "code",
   "execution_count": 1,
   "metadata": {},
   "outputs": [
    {
     "data": {
      "application/vnd.jupyter.widget-view+json": {
       "model_id": "1ce6dc1a1b764d71b467fbe889f5c7e8",
       "version_major": 2,
       "version_minor": 0
      },
      "text/plain": [
       "interactive(children=(FloatLogSlider(value=1.0, description='Size of moonlet (m)', layout=Layout(width='400px'…"
      ]
     },
     "metadata": {},
     "output_type": "display_data"
    },
    {
     "data": {
      "application/vnd.jupyter.widget-view+json": {
       "model_id": "363fb9133dfa4d2a913de1954d200d49",
       "version_major": 2,
       "version_minor": 0
      },
      "text/plain": [
       "HBox(children=(VBox(children=(Label(value='on board space shuttle ISS'), Label(value='elevator headed up'), La…"
      ]
     },
     "metadata": {},
     "output_type": "display_data"
    }
   ],
   "source": [
    "import numpy as np\n",
    "import math\n",
    "from ipywidgets import *\n",
    "import matplotlib.pyplot as plt\n",
    "\n",
    "vel_rel = np.linspace(0.0, 1000., 100) #relative velocity between gas and body in m/s\n",
    "dens = 3000. #lunar density in kg/m3; 3.0 g/cc\n",
    "\n",
    "def dragfunc(rad_body, C_D, dens_gas):\n",
    "    #mass of body in kg; assume spherical body (and spherical cross section)\n",
    "    mass_body = dens*(4./3.)*math.pi*(rad_body**3)\n",
    "    #acceleration imparted on body due to gas drag in m/s^2\n",
    "    a_drag = 0.5*C_D*math.pi*(rad_body**2)*dens_gas*(vel_rel**2)/mass_body\n",
    "    plt.plot(vel_rel, a_drag)\n",
    "    plt.xlabel('velocity of the gas relative to the velocity of the moonlet (m/s)')\n",
    "    plt.ylabel('gas drag acceleration (m/s$^2$)')\n",
    "    plt.show()\n",
    "    plt.close()\n",
    "   \n",
    "#RELATIVE SCALE IN GENERAL: how big the moonlets are (marble, golf ball, grain of sand,\n",
    "#yoga ball, soccer field, etc.), how fast the relative and absolute velocity is   \n",
    "style = {'description_width': 'initial'}\n",
    "layout = {'width': '400px'}\n",
    "%matplotlib inline\n",
    "interact(dragfunc,\n",
    "         rad_body=FloatLogSlider(value=1, base=10, min=-3, max=6, step=1,\n",
    "                                 description='Size of moonlet (m)', style=style, layout=layout),\n",
    "         C_D=FloatSlider(value=2, min=0, max=2.5, step=0.5, description='Gas drag coefficient C$_D$ (-)',\n",
    "                         continuous_update=False, readout=True, readout_format='.1f', style=style, layout=layout),\n",
    "         dens_gas=FloatLogSlider(value=1, base=10, min=-3, max=3, step=1,\n",
    "                                 description='Gas density (kg/m$^3$)', style=style, layout=layout)\n",
    "        )\n",
    "\n",
    "#acceleration in terms of what we experience on Earth\n",
    "accel_label=['on board space shuttle ISS','elevator headed up','gravitational pull on surface of Earth',\n",
    "             'roller coaster launch','space shuttle launch, gravitron amusement ride','top of roller coaster loop',\n",
    "             'maximum heavy braking on Formula One Car','maximum acceleration permitted on piloted planes',\n",
    "             'hard slap to the face, car crash','shock capacity of mechanical wrist watch',\n",
    "             'Mantis Shrimp claw strike','proton in Large Hadron Collider']\n",
    "accel_g=['1e-6 g','0.2 g','1 g','1.5 g','3 g','5 g','6.3 g','10 g','100 g','5000 g','10400 g','1.9e8 g']\n",
    "left_box0=widgets.VBox([widgets.Label(str(i)) for i in accel_label])\n",
    "right_box0=widgets.VBox([widgets.Label(str(i)) for i in accel_g])\n",
    "\n",
    "#velocity in terms of what we experience on Earth\n",
    "vel_label=['Walking','Biking','Usain Bolt sprinting','Train','Car moving 100 mph (160 km/h)',\n",
    "           'Helicopter','Commerical airplane','Speed of sound in air (sound barrier)']\n",
    "vel_ms=['1.5 m/s','4.5 m/s','12.5 m/s','27 m/s','45 m/s','70 m/s','220 m/s','343 m/s']\n",
    "left_box1=widgets.VBox([widgets.Label(str(i)) for i in vel_label])\n",
    "right_box1=widgets.VBox([widgets.Label(str(i)) for i in vel_ms])\n",
    "\n",
    "widgets.HBox([left_box0,right_box0,left_box1,right_box1])"
   ]
  },
  {
   "cell_type": "markdown",
   "metadata": {},
   "source": [
    "As expected, for the same gas field, gas drag acceleration is greater when the mass of the moonlet is smaller and the gas drag coefficient and relative velocity are larger. Gas drag will be stronger in a denser gas field."
   ]
  },
  {
   "cell_type": "markdown",
   "metadata": {},
   "source": [
    "## Decaying Orbits: Moonlets Dragged by Gas in a Synestia"
   ]
  },
  {
   "cell_type": "markdown",
   "metadata": {},
   "source": [
    "We would like to see how this gas drag affects how a single moonlet travels through the vapor in a synestia.\n",
    "\n",
    "In order to form a moon, these moonlets must survive long enough to collide and grow into a large enough body that is not heavily affected by gas drag and will remain in orbit around the synestia without breaking up from tidal forces. Otherwise, the masses of the moonlets will be added to the center of a synestia (extends to about 10,000 km) and lost to the moon-forming region of a synestia.\n",
    "\n",
    "When a moonlet is formed, it will condense as a droplet at the photosphere (where the vapor saturates and has a pressure that lies on the vapor dome; think of this as the \"cloud line\"). Pressure from the surrounding gas will no longer be able to buoy the now dense droplet at its current height, so it will fall towards the midplane, pulled by gravity. The moon will oscillate near the midplane until it equilibrates; this should happen relatively quickly. Bigger moons are formed in the midplane, because they grow from colliding with other moonlets that reach the midplane. You will see how the gas drag significantly decays and circularizes the orbit of the moonlet over time.\n",
    "\n",
    "You will have four options in the interactives below. You will be able to initialize the moonlet at the photosphere or in the midplane. Where you initialize a moonlet indicates where that moonlet condensed from the vapor in a synestia. You can control the size of the moonlets, though it is more likely for smaller mass moonlets (roughly cm-sized) to form at the photosphere and for moonlets in the midplane to be more massive (due to the addition of moonlets raining from the photosphere). In potential Moon-forming synestias, the gas drag coefficient is 2 (changing the coefficient has a relatively minimal effect on the gas drag magnitude anyways), so this has been set for you. The velocity of the moonlet and the surrounding gas will be calculated according to what is expected in a typical Moon-forming synestia, so you won't have control over the velocity differential either. However, you will have control of the gas density gradient and will be able to change how quickly density decreases radially and off the midplane. An orbit without gas drag is on the plot for reference."
   ]
  },
  {
   "cell_type": "code",
   "execution_count": 2,
   "metadata": {},
   "outputs": [
    {
     "data": {
      "application/vnd.jupyter.widget-view+json": {
       "model_id": "a4f1193b64f147f2911cacc30edcc351",
       "version_major": 2,
       "version_minor": 0
      },
      "text/plain": [
       "interactive(children=(Dropdown(description='Size (diameter) of moonlet:', index=4, options=(('Coarse sand (mm)…"
      ]
     },
     "metadata": {},
     "output_type": "display_data"
    },
    {
     "data": {
      "text/plain": [
       "<function __main__.pltdrag(r0, x0, y0, z0)>"
      ]
     },
     "execution_count": 2,
     "metadata": {},
     "output_type": "execute_result"
    }
   ],
   "source": [
    "import math\n",
    "import numpy as np\n",
    "import rebound\n",
    "import matplotlib.pyplot as plt\n",
    "\n",
    "Mass_syn=5e24 #Earth mass synestia in kg\n",
    "dens=3000. #density of moonlet kg/m3\n",
    "G_hr=(6.674e-11)*(3600**2) #gravitational constant converted to m^3 kg^-1 hr^-2\n",
    "const1=10.55#10.55#10 to 11\n",
    "const2=0.86#0.86#0.85 to 0.9\n",
    "const3=0.9e35#0.9e35 #1e33 to 1e37\n",
    "const4=-4.7#-4.7 #-4.5 to -5\n",
    "\n",
    "def pltdrag(r0,x0,y0,z0):\n",
    "    m0=4.*math.pi*dens*(r0**3)/3. #mass of moonlet in kg\n",
    "    s0=(x0**2 + y0**2)**0.5 #initial moonlet distance from rotational axis in m\n",
    "    v_gas=0.95*(G_hr*Mass_syn/s0)**0.5 #sub-Keplerian gas velocity m/hr #0.01*(10.**(0.15599001870969695*np.log10(s0) - 1.6401471197424731))*((G_hr*Mass_syn/s0)**0.5)\n",
    "    vx0=-v_gas*y0/s0 #x-component of sub-Keplerian gas velocity m/hr\n",
    "    vy0=v_gas*x0/s0 #y-component of sub-Keplerian gas velocity m/hr\n",
    "\n",
    "    #intialize orbit simulation\n",
    "    sim_drag = rebound.Simulation() #start simulation\n",
    "    sim_drag.units = ('Hr', 'M', 'Kg') #use SI units, seconds not available\n",
    "    sim_drag.add(m=Mass_syn) #add central body: Earth mass synestia\n",
    "    sim_drag.add(m=m0,r=r0) #add moonlet to simulation\n",
    "    ps_drag = sim_drag.particles #initialize particle class (holds xyz position information)\n",
    "    ps_drag[1].x=x0 #set initial x position of moonlet in m\n",
    "    ps_drag[1].y=y0 #set initial y position of moonlet in m\n",
    "    ps_drag[1].z=z0 #set initial z position of moonlet in m\n",
    "    ps_drag[1].vx=vx0 #set initial x velocity of moonlet in m/hr #intial velocities will be same as gas\n",
    "    ps_drag[1].vy=vy0 #set initial y velocity of moonlet in m/hr\n",
    "    ps_drag[1].vz=0 #set initial z velocity of moonlet in m/hr #assume gas is not moving in z\n",
    "    sim_drag.integrator = \"ias15\"#\"whfast\"#\"leapfrog\"#symplectic integrator #\"ias15\" #default integrator; adaptive time-stepping\n",
    "    sim_drag.min_dt=0.001 #make sure doesn't pick too small of a time step\n",
    "    sim_drag.dt=0.001 #start with this time step\n",
    "\n",
    "    #define gas drag acceleration\n",
    "    def drag(sim_drag):\n",
    "        #drag coefficient is 2 in potential Moon-forming synestias\n",
    "        ps_x = ps_drag[1].x\n",
    "        ps_y = ps_drag[1].y\n",
    "        ps_z = ps_drag[1].z\n",
    "        ps_vx = ps_drag[1].vx\n",
    "        ps_vy = ps_drag[1].vy\n",
    "        ps_vz = ps_drag[1].vz\n",
    "        s=np.sqrt(ps_x**2 + ps_y**2) #cylindrical radius of moonlet in m\n",
    "        z_s=const1*(s**const2) #scale height fit in m\n",
    "        rho_g=const3*(s**const4)*np.exp(-(ps_z/z_s)**2) #gas density fit in kg/m^3\n",
    "        v_g=0.95*np.sqrt(G_hr*Mass_syn/s) #sub-Keplerian gas velocity in m/hr #(10.**(0.15599001870969695*np.log10(s) - 1.6401471197424731))*((reb_sim.G*Mass_syn/s)**0.5)\n",
    "        theta=np.arctan(ps_y/ps_x)\n",
    "        v_gx=-np.abs(v_g*np.sin(theta))*np.sign(ps_y) #x component of gas velocity in m/hr\n",
    "        v_gy=np.abs(v_g*np.cos(theta))*np.sign(ps_x) #y component of gas velocity in m/hr\n",
    "        #assumption: speed of gas in z, v_gz, will be zero for synestia in hydrostatic equilibrium\n",
    "        v_rel_x=ps_vx - v_gx\n",
    "        v_rel_y=ps_vy - v_gy\n",
    "        v_rel=np.sqrt(v_rel_x**2 + v_rel_y**2 + ps_vz**2)\n",
    "        factor = math.pi*(ps_drag[1].r**2)*rho_g*v_rel/ps_drag[1].m #common factor for gas drag in components\n",
    "        ps_drag[1].ax += -factor*v_rel_x\n",
    "        ps_drag[1].ay += -factor*v_rel_y\n",
    "        ps_drag[1].az += -factor*ps_vz\n",
    "\n",
    "    #tell simulation to add gas drag and update velocities with each time step\n",
    "    sim_drag.additional_forces = drag\n",
    "    sim_drag.force_is_velocity_dependent = 1\n",
    "    sim_drag.move_to_com() #move to center of mass (central body is at origin)\n",
    "\n",
    "    Noutputs = 2000 #increase this to get a smoother curve for orbit\n",
    "    if r0 < 10:\n",
    "        times = np.linspace(0.,600., Noutputs)\n",
    "    elif r0 > 1e4:\n",
    "        times = np.linspace(0.,600., Noutputs)\n",
    "    else:\n",
    "        times = np.linspace(0.,200., Noutputs) #times to output position information of particle\n",
    "\n",
    "    #intialize holder arrays for positional output from simulation\n",
    "    xholder = np.zeros(Noutputs)\n",
    "    yholder = np.zeros(Noutputs)\n",
    "    zholder = np.zeros(Noutputs)\n",
    "    sholder = np.zeros(Noutputs)\n",
    "    for k,time in enumerate(times):\n",
    "        sim_drag.integrate(time)\n",
    "        xtemp = ps_drag[1].x\n",
    "        ytemp = ps_drag[1].y\n",
    "        stemp = np.sqrt(xtemp**2 + ytemp**2)\n",
    "        if stemp <= 10e6:\n",
    "            #exit out of simulation when reach the inner region (10,000,000 m)\n",
    "            #shorten arrays to exclude zeros at end\n",
    "            xholder = xholder[:k]\n",
    "            yholder = yholder[:k]\n",
    "            zholder = zholder[:k]\n",
    "            sholder = sholder[:k]\n",
    "            times = times[:k]\n",
    "            print('The length of time the moonlet spends in the moon-forming region is {0:.1f} hr.'.format(times[-1]))\n",
    "            break\n",
    "        else:\n",
    "            xholder[k] = xtemp  # This stores the data which allows us to plot it later\n",
    "            yholder[k] = ytemp\n",
    "            zholder[k] = ps_drag[1].z\n",
    "            sholder[k] = stemp\n",
    "    xholder = xholder*(1e-3)\n",
    "    yholder = yholder*(1e-3)\n",
    "    zholder = zholder*(1e-3)\n",
    "    sholder = sholder*(1e-3)\n",
    "    rholder = np.sqrt(sholder**2 + zholder**2)\n",
    "    ymax=np.amax(rholder)\n",
    "\n",
    "    #plot\n",
    "    fig = plt.figure(figsize=(18,4))\n",
    "    ax = plt.subplot(131)\n",
    "    plt.plot(xholder, yholder)\n",
    "    plt.plot(x0/1e3,y0/1e3,'x',markersize=10)\n",
    "    plt.plot(0,0,'k*')\n",
    "    plt.plot(xholder[-1], yholder[-1],'o')\n",
    "    plt.xlabel('x (km)')\n",
    "    plt.ylabel('y (km)')\n",
    "    plt.ylim([-ymax,ymax])\n",
    "    plt.xlim([-ymax,ymax])\n",
    "    ax.set_aspect(1)\n",
    "\n",
    "    ax2 = plt.subplot(132)\n",
    "    plt.plot(sholder, zholder)\n",
    "    plt.plot(s0/1e3,z0/1e3,'x',markersize=10)\n",
    "    plt.plot(0,0,'k*')\n",
    "    plt.plot(sholder[-1], zholder[-1],'o')\n",
    "    plt.xlabel('distance to rotational axis r$_{xy}$ (km)')\n",
    "    plt.ylabel('vertical distance off midplane z (km)')\n",
    "    plt.ylim([-ymax,ymax])\n",
    "    plt.xlim(xmin=0)\n",
    "    ax2.axis('equal')\n",
    "\n",
    "    ax3 = plt.subplot(133)\n",
    "    plt.plot(times,rholder)\n",
    "    plt.plot(0,rholder[0],'x',markersize=10)\n",
    "    plt.plot(times[-1],rholder[-1],'o')\n",
    "    plt.xlabel('time (hr)')\n",
    "    plt.ylabel('radius r (km)')\n",
    "    plt.show()\n",
    "    plt.close()\n",
    "\n",
    "interact(pltdrag,\n",
    "         r0=widgets.Dropdown(\n",
    "             options=[('Coarse sand (mm)', 1.e-3),\n",
    "                      ('Diameter of a belly button (cm)', 1.e-2),\n",
    "                      ('Coconut (dm)', 0.1),\n",
    "                      ('Cow (m)', 1.),\n",
    "                      ('230 story building (km)', 1.e3),\n",
    "                      ('Width of the United States (Mm)', 1.e6),\n",
    "                      ('The Moon (3.5 Mm)', 3.5e6)],\n",
    "             value=1.e3, description='Size (diameter) of moonlet:', style=style),\n",
    "         x0=FloatSlider(value=20e6, min=0, max=60e6, step=20e6, description='x starting position of moon (m)',\n",
    "                         continuous_update=False, readout=True, readout_format='.0f', style=style, layout=layout),\n",
    "         y0=FloatSlider(value=20e6, min=0, max=60e6, step=20e6, description='y starting position of moon (m)',\n",
    "                         continuous_update=False, readout=True, readout_format='.0f', style=style, layout=layout),\n",
    "         z0=FloatSlider(value=0, min=0, max=30e6, step=5e6, description='z starting position of moon (m)',\n",
    "                         continuous_update=False, readout=True, readout_format='.1f', style=style, layout=layout),\n",
    "    )"
   ]
  },
  {
   "cell_type": "markdown",
   "metadata": {},
   "source": [
    "You may have noticed that a moonlet decays more quickly when:  \n",
    "1) the gas field of a synestia is denser,  \n",
    "2) a moonlet condenses in the midplane (z = 0) as opposed to in the photosphere (high z), and  \n",
    "3) a moonlet condenses closer to the center of a synestia.\n",
    "\n",
    "Why is this?\n",
    "\n",
    "The balance of forces changes for a condensate:\n",
    "$$\\omega^2r = GM/r^2(1 + \\frac{3J_2a_{eq}^2}{2r^2}(\\frac{5z^2}{r^2} - 1)) + a_{drag}$$\n",
    "where the gas tries to slow down the condensate instead of supporting it.\n",
    "\n",
    "As a moonlet travels in a synestia, gas drag and gravity continuously compete with one another. As a moonlet moves in the z direction, gravity wants to accelerate the moonlet towards the midplane; gas drag wants to slow the moonlet down to match the z velocity of the gas (zero). It is only when a moonlet equilibrates in the midplane that gas drag vanishes in z and gravity holds the moonlet in the midplane. In terms of the x and y (or otherwise, r$_{xy}$) directions, the moonlet will try to settle into a Keplerian orbit now that it has lost its pressure support and only has gravity to stabilize its orbit. However, because the moonlet will try to move at a slightly higher angular velocity than the sub-Keplerian gas around it, gas drag will always try to slow the moonlet down, so the moonlet must compensate and drift inwards toward the center of its synestia to try again and settle into a stable Keplerian orbit. This results in the spiral decay you see above.\n",
    "\n",
    "When a moonlet condenses out of a synestia near the photosphere, it will lose pressure support, but it will initially have the same velocity as the gas around it. The gas is moving at just below Keplerian velocities in r$_{xy}$ = (x, y) with zero velocity in z. At the start, the moonlet experiences very little gas drag and is being pulled towards the midplane (z = 0) by gravity, no longer balanced by gas pressure in z.\n",
    "\n",
    "As gravity accelerates the moonlet towards the midplane, this creates a large velocity differential between the gas (zero velocity in z) and the moonlet. As gas drag begins to act in z, the particle slows in its descent to the midplane. Gas drag perturbs the moonlet's orbit, resulting in an elliptical, or eccentric, orbit. The higher off the midplane and closer to the central body the droplet starts its decay, the more elliptical the orbit. This temporarily prevents inward spiraling of the particle since the elliptical orbit moves the moonlet away from the center of its synestia.\n",
    "\n",
    "The particle oscillates a bit around the midplane as it settles into gravitational equilibrium. The particle overshoots the midplane a little initially because it cannot slow down immediately at the midplane, loses speed as it turns back around but gains a little speed as it gets accelerated back up towards the midplane, and so on, until there is no movement in z.\n",
    "\n",
    "The particle's orbit circularizes once the particle reaches the midplane, dampened by gas drag in the midplane.\n",
    "\n",
    "The moonlet will approach the central body closely on one side of the orbit (nearest approach). The location of the moon's nearest approach will travel closer to the central body with time. Eventually, the moonlet will travel close enough to the central body that it will become a part of the interior (planet-like center) of a synestia. In this particular case, that distance is 10e6 m. The simulation ends when the moonlet reaches this point. The time it takes the moonlet to reach this distance is called the decay time. The shorter the decay time, the faster the moonlet decays and the shorter survival time the moonlet has in an Earth-mass synestia.\n",
    "\n",
    "The higher off the midplane and farther away from the rotational axis the droplet condensed and began its orbital decay, the slower the particle decays. Very small droplets and very large moonlets survive the longest in the interior of a synestia, whereas medium-sized particles decay the quickest.\n",
    "\n",
    "Based on the fastest accretion time for the Moon in cooling simulations of Earth-mass synestias, the minimum time in which a Moon-mass could grow is about 10 years (87,600 hrs). Compared to this, for orbits that begin in the midplane close to the central body, a single 1-km-sized moonlet could survive 10's of hours for orbits, which is the fastest decay time of all the moonlet sizes. In contrast, the quickest decay times for a cm-sized moonlet and a Moon-sized moonlet are at least several orders of magnitude longer. The quick decay of km-sized moonlets is a barrier for lunar growth within a synestia. As smaller moonlets grow and reach km-scale, they must grow quickly to enter a size regime where the gas won't decay the moonlet's orbit as quickly. Gas drag has a smaller effect on large particles (it is difficult to change their motion due to their large mass) and small particles (very little surface area for the gas to drag on).\n",
    "\n",
    "However, there is material in the midplane a moonlet can accrete to, and therefore slow its decay by, essentially, increasing its mass. In the stages just after the giant impact that forms a synestia, material either quickly binds together via gravitational clumping or was part of the impacting bodies and didn't fully melt or vaporize, and acts as a lunar seed for moonlets to hold onto as they spiral past. a remnant of the giant impact that forms a synestia, the lunar seed (a small dense core, a remnant of the giant impact, whether by material that quickly accreted together through gravitational clumping or was material from the impactors that did not fully melt or vaporize) scoop up, particle could merge with other particles, structure of gas changing with time The lunar seed acts as the core of the moon and scoops up moonlets within reach (under the moon's gravitational influence). Orbital decay can hurt or help grow the moon, depending on where a given moonlet is in relation to the lunar seed.\n",
    "\n",
    "It is important to note that a single moonlet within a synestia is not alone. There are many droplets condensing out of the photosphere at once, which creates a nearly continuous torrential downpour of rock rain as the synestia cools. These moonlets will collide with one another and grow. How quickly the moonlets combine into larger masses relative to the decay of their orbits via gas drag is what will dictate whether a lunar mass could survive.\n",
    "\n",
    "There is another factor as well. As a droplet descends into a synestia, the temperature and pressure of the gas surrounding the droplet will increase, with maximum temperature and pressure values at the midplane. A droplet must combat vaporization in order to provide liquid material for the moon to grow from. The good news is that if a droplet vaporizes, its decay ceases as it buoys up towards the photosphere and remains in the moon-forming region of a synestia. This is a bit more complicated considering there are interactions with other droplets occurring, which may involve thermal buffering (some droplets at lower z act as shields and provide temperature buffers for the droplets behind them at greater z). I will not explore the effects of vaporization here but keep it in mind as you evaluate the decay times."
   ]
  },
  {
   "cell_type": "markdown",
   "metadata": {},
   "source": [
    "????????????????  \n",
    "Salmon and Canup (2012) don't resolve inner roche, spit out characteristic size, gravitational instability clumping in the disk 10 km Thompson and Stevenson, outer disk could clump, inner disk too hot, molten, sometimes self-gravitating clump that survives in the outer disk\n",
    "synestia outer parts mized phase disk, liquid blebs and gas, inner is gas and rain from top, outer disk is like canonical disk -> clumps that would accrete quickly, spiral in and hit lunar seed then fine, but no lunar seed then sprialing in\n",
    "here is an example low density case, example high density case"
   ]
  }
 ],
 "metadata": {
  "kernelspec": {
   "display_name": "Python 3",
   "language": "python",
   "name": "python3"
  },
  "language_info": {
   "codemirror_mode": {
    "name": "ipython",
    "version": 3
   },
   "file_extension": ".py",
   "mimetype": "text/x-python",
   "name": "python",
   "nbconvert_exporter": "python",
   "pygments_lexer": "ipython3",
   "version": "3.6.8"
  }
 },
 "nbformat": 4,
 "nbformat_minor": 2
}
