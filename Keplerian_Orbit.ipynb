{
 "cells": [
  {
   "cell_type": "markdown",
   "metadata": {},
   "source": [
    "# Keplerian Orbit\n",
    "\n",
    "The following equation describes the motion of a body in orbit around a central body where gravity is the only force involved. This equation will hold true for any stably orbiting mass subject only to first-order gravitational forces. An orbit balanced only by first order gravity is known as a Keplerian orbit. The angular velocity $\\omega$ for a Keplerian orbit is dependent on the mass of the central body M (the body being orbited e.g. the corotating region of a synestia) and how much distance, r, there is between the center of the orbiting body and the center of the orbited body.\n",
    "\n",
    "$$\\omega^2 r - \\frac{GM}{r^2} = 0$$\n",
    "\n",
    "The gravitional force of the central body on the moonlet is much greater when the orbital radius (r) of the moonlet is smaller. To avoid impacting the central body at smaller orbital radii, and conserve the moonlet's angular velocity, the moonlet's linear velocity must increase so that the distance the moonlet travels inwards as it is pulled towards the central body is minimal. In fact, a moonlet is always moving towards the central body, but because of its perpendicular linear motion, it maintains the same average distance away from the central body.\n",
    "\n",
    "INSERT DIAGRAM HERE\n",
    "\n",
    "A circular orbit is a Keplerian orbit with zero eccentricity. This means the path traced by the orbiting body is a circle. If the eccentricity of a Keplerian orbit is greater than zero but less than one, the orbital path becomes an ellipse and no longer follows a circular orbit.\n",
    "\n",
    "Below is an interactive plot of what a Keplerian orbit should look like for a moonlet (dot) orbiting an Earth-mass body (star). Feel free to play with the semi-major axis (half the distance between the farthest parts of the orbit), inclination (how rotated the orbital plane with comparison to the midplane), and eccentricity of the moonlet's orbit and see how it affects the moonlet's trajectory. Inclination is in radians, where 0&deg; is 0 radians and 180&deg; is $\\pi$ radians. To convert from radians to degrees, multiply the number in radians by 180/$\\pi$."
   ]
  },
  {
   "cell_type": "code",
   "execution_count": 36,
   "metadata": {},
   "outputs": [
    {
     "data": {
      "application/vnd.jupyter.widget-view+json": {
       "model_id": "c029cc4b98734ea5a8c51b84196d4f12",
       "version_major": 2,
       "version_minor": 0
      },
      "text/plain": [
       "interactive(children=(FloatSlider(value=1.0, continuous_update=False, description='Body radius of moonlet (m)'…"
      ]
     },
     "metadata": {},
     "output_type": "display_data"
    },
    {
     "data": {
      "text/plain": [
       "<function __main__.pltKep(rad_moon, sma, i, ecc)>"
      ]
     },
     "execution_count": 36,
     "metadata": {},
     "output_type": "execute_result"
    }
   ],
   "source": [
    "import numpy as np\n",
    "import math\n",
    "from ipywidgets import *\n",
    "import rebound\n",
    "from syndef import synfits #import synestia snapshot (impact database)\n",
    "\n",
    "G=6.674e-11 #gravitational constant in SI\n",
    "Mass_syn=np.sum(synfits.SNAP_CukStewart.m) #Earth mass synestia in kg\n",
    "dens=3300. #kg/m^3 lunar density\n",
    "\n",
    "def pltKep(rad_moon,sma,i,ecc):\n",
    "    #rad_moon is the bodily radius of the moon\n",
    "    #i is the inclination of the moon's orbital plane\n",
    "    #sma is the semi-major axis of the moon's orbit\n",
    "    #ecc is the eccentricity of the moon's orbit\n",
    "    m_moon = 4.*math.pi*dens*(rad_moon**3)/3.\n",
    "    sim = rebound.Simulation() #start simulation\n",
    "    sim.units = ('Hr', 'M', 'Kg') #use SI units\n",
    "    sim.add(m=Mass_syn) #add central body\n",
    "    sim.add(m=m_moon,a=sma,inc=i,e=ecc)\n",
    "    #sim.getWidget()\n",
    "    #orbit = sim.particles[1].calculate_orbit(sim.particles[0])\n",
    "    fig,ax_main,ax_sub1,ax_sub2 = rebound.OrbitPlot(sim,slices=1,xlim=[-120000000,60000000],ylim=[-60000000,60000000],unitlabel='(m)')\n",
    "    #sim.refreshWidgets()\n",
    "\n",
    "style = {'description_width': 'initial'}\n",
    "layout = {'width': '400px'}\n",
    "interact(pltKep,\n",
    "         rad_moon=FloatSlider(value=1, min=1, max=100, step=10, description='Body radius of moonlet (m)',\n",
    "                            continuous_update=False, readout=True, readout_format='.1f', style=style, layout=layout),\n",
    "         sma=FloatSlider(value=20e6, min=10e6, max=60e6, step=10e6, description='Semi-major axis (m)',\n",
    "                        continuous_update=False, readout=True, readout_format='.1f', style=style, layout=layout),\n",
    "         i=FloatSlider(value=0, max=2.*math.pi, step=0.2, description='Inclination of orbit (radians)',\n",
    "                        continuous_update=False, readout=True, readout_format='.1f', style=style, layout=layout),\n",
    "         ecc=FloatSlider(value=0, max=0.9, step=0.1, description='Eccentricity of orbit (unitless)',\n",
    "                        continuous_update=False, readout=True, readout_format='.1f', style=style, layout=layout),\n",
    "         )"
   ]
  },
  {
   "cell_type": "markdown",
   "metadata": {},
   "source": [
    "The more inclined the orbit, the farther the moonlet will travel off the midplane (z = 0). The more eccentric the orbit, the more elliptical it becomes. Increasing the semi-major axis will increase the maximum distance the moonlet travels away from the central body. You might have noticed there are a variety of orbits that satisfy a Keplerian orbit. You may have also noticed that the size (thus mass) of the moonlet does not affect the orbit. If you could play around with the mass of the central body, that would affect the angular velocity of the moonlet, but not the path of the orbit."
   ]
  }
 ],
 "metadata": {
  "kernelspec": {
   "display_name": "Python 3",
   "language": "python",
   "name": "python3"
  },
  "language_info": {
   "codemirror_mode": {
    "name": "ipython",
    "version": 3
   },
   "file_extension": ".py",
   "mimetype": "text/x-python",
   "name": "python",
   "nbconvert_exporter": "python",
   "pygments_lexer": "ipython3",
   "version": "3.6.8"
  }
 },
 "nbformat": 4,
 "nbformat_minor": 2
}
