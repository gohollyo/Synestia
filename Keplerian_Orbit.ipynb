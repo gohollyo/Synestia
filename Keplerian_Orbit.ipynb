{
 "cells": [
  {
   "cell_type": "markdown",
   "metadata": {},
   "source": [
    "# Keplerian Orbit\n",
    "A Keplerian orbit is an orbit balanced by first order gravity only.\n",
    "\n",
    "The following equation describes the motion of a body in orbit around a central body where gravity is the only force involved. This equation will hold true for any orbiting mass subject only to first-order gravitational forces. A Keplerian orbit is dependent on the mass of the central body (the body being orbited e.g. the corotating region of a synestia) and how much distance there is between the orbiting body and the orbited body.\n",
    "\n",
    "A circular orbit is a Keplerian orbit with zero eccentricity. This means the path traced by the orbiting body is a circle. If the eccentricity of a Keplerian orbit is greater than zero, the orbital path becomes an ellipse and no longer follows a circular orbit.\n",
    "\n",
    "Below is what a circular Keplerian orbit should look like for a moonlet orbiting within the dimensions of a typical Moon-forming synestia."
   ]
  },
  {
   "cell_type": "code",
   "execution_count": null,
   "metadata": {},
   "outputs": [],
   "source": [
    "Regular Keplerian Orbit equation:\n",
    "$$"
   ]
  },
  {
   "cell_type": "code",
   "execution_count": null,
   "metadata": {},
   "outputs": [],
   "source": []
  }
 ],
 "metadata": {
  "kernelspec": {
   "display_name": "Python 3",
   "language": "python",
   "name": "python3"
  },
  "language_info": {
   "codemirror_mode": {
    "name": "ipython",
    "version": 3
   },
   "file_extension": ".py",
   "mimetype": "text/x-python",
   "name": "python",
   "nbconvert_exporter": "python",
   "pygments_lexer": "ipython3",
   "version": "3.6.8"
  }
 },
 "nbformat": 4,
 "nbformat_minor": 2
}
