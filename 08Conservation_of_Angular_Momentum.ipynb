{
 "cells": [
  {
   "cell_type": "markdown",
   "metadata": {},
   "source": [
    "# Synestias Obey Conservation of Angular Momentum"
   ]
  },
  {
   "cell_type": "markdown",
   "metadata": {},
   "source": [
    "Synestias are massive, quickly-rotating bodies with liquid and vapor that extends far from the center of its body. They have high angular momentum (compare this to something). Earth-mass synestias have more angular momentum than the present Earth-Moon system. The high angular momentum in a synestia allows a couple of interesting consequences. The moonlets growing in a synestia move based on exchange of angular momentum with the gas surrounding them. The corotating region of a synestia will spin faster if it accretes more mass from decaying moonlets. Why does this happen? There is one physical law of nature that synestias cannot violate: conservation of angular momentum."
   ]
  },
  {
   "cell_type": "markdown",
   "metadata": {},
   "source": [
    "## ...as does everything else in the universe\n",
    "\n",
    "Everything in the universe must obey the laws of conservation. Physics demands that angular momentum must be conserved in the universe. In other words, angular momentum L does not change with time t such that\n",
    "$$\\frac{dL}{dt} = 0 = \\sum \\tau = \\sum r \\times F$$\n",
    "where there are no external rotational forces (or torques $\\tau$, where F is a force that is perpendicular to the rotational axis, a radial distance r away,) acting on a given system. There may be many torques that act summatively on a system, which is indicated by sigma $\\sum$, the symbol for sum."
   ]
  },
  {
   "cell_type": "code",
   "execution_count": null,
   "metadata": {},
   "outputs": [],
   "source": [
    "#door diagram"
   ]
  },
  {
   "cell_type": "markdown",
   "metadata": {},
   "source": [
    "We deal with torques on a daily basis. Every time we open a door, we are exerting a torque on the door handle to swing the door open. Handles on doors are always farthest from the hinges of a door because it requires less effort (force F) on your part if the distance to the axis of rotation r (the vertical line where the hinges of the door meet a wall) is larger. Try this for yourself -- have you noticed how much more difficult it is to open a door when you are pushing on it close to the door's hinges?\n",
    "\n",
    "If a body or system needs to lose angular momentum, a torque must displace it somehwere else. There is no way to remove angular momentum from the universe. Conversely, there is no way to generate more angular momentum in the universe. Angular momentum is gained by transferring it from somewhere else.\n",
    "\n",
    "## What is angular momentum?\n",
    "\n",
    "Angular momentum L is\n",
    "$$L = r \\times p = r \\times m v = m r^2 \\omega$$\n",
    "where p is linear momentum (equal to the product of a body's mass m and linear velocity v) and r is the radial distance from the rotational axis to the body. The radius r must be perpendicular to the direction of the body's linear motion. The body has an angular velocity $\\omega$ about the rotational axis. Angular momentum is a measure of the resistance of the rotational motion of a body to outside forces. The more massive a body is, the faster the body is moving, and the larger distance from the rotational axis a body is, the more angular momentum the body has. The more angular momentum a body has, the harder it will be to change its angular momentum significantly [e.g. the applied torque (rotational force) to change the body's angular momentum must be greater]. You can think of it as a rotational inertia.\n",
    "\n",
    "Similar to angular velocity, angular momentum can describe the rotational inertia of either: 1) smaller components within a solid body undergoing rotation or 2) an orbiting body."
   ]
  },
  {
   "cell_type": "markdown",
   "metadata": {},
   "source": [
    "<b>Case 1</b>: Solid body rotation\n",
    "\n",
    "Say a figure skater is spinning with her limbs extended. According to conservation of angular momentum, she must bring her limbs in close to her body in order to spin faster. Her overall mass will not change, so if she wants to increase her rotational velocity, she must reduce the distance between the outermost parts of her body and her rotational axis. A figure skater who is more massive would have greater overall angular momentum, but would still be subject to the same law of conservation."
   ]
  },
  {
   "cell_type": "code",
   "execution_count": null,
   "metadata": {},
   "outputs": [],
   "source": [
    "#figure skater diagram\n",
    "#interactive?"
   ]
  },
  {
   "cell_type": "markdown",
   "metadata": {},
   "source": [
    "<b>Case 2</b>: Orbital motion\n",
    "\n",
    "Elliptical orbits are possible due to conservation of angular momentum. Say a planet is stably orbiting about a central mass (a star). In the farthest part of its eccentric orbit, the planet will transit at its slowest orbital velocity (minimum $\\omega$ of orbit) because it is far from its star (large r) and the planet's mass does not change. At the planet's closest approach, the planet will be traveling at its fastest orbital velocity (maximum $\\omega$ of orbit) since it is very close to its star (small r) and, again, the planet's mass does not change.\n",
    "\n",
    "However, if the planet grew as the result of a collision with other planetary material (let's say a planet for now), the planet's total mass will increase. To conserve its angular momentum and maintain a Keplerian orbit, the planet must decrease its orbital velocity."
   ]
  },
  {
   "cell_type": "code",
   "execution_count": 1,
   "metadata": {},
   "outputs": [],
   "source": [
    "#interactive playing with moon (changing mass, radius, velocity)"
   ]
  },
  {
   "cell_type": "markdown",
   "metadata": {},
   "source": [
    "## The Role of Angular Momentum in a Synestia"
   ]
  },
  {
   "cell_type": "markdown",
   "metadata": {},
   "source": [
    "### During the Synestia-Forming Giant Impact"
   ]
  },
  {
   "cell_type": "code",
   "execution_count": null,
   "metadata": {},
   "outputs": [],
   "source": [
    "#GI rmv frame of reference from target body, impactor is spiraling in towards "
   ]
  },
  {
   "cell_type": "markdown",
   "metadata": {},
   "source": [
    "GI at an angle -> generate AM arm from the moment of impact, estimate from Canup, scaling relationship for satellite-forming impact, guess of final AM based on 2 bodies"
   ]
  },
  {
   "cell_type": "markdown",
   "metadata": {},
   "source": [
    "### In a Synestia's Interior Dynamics"
   ]
  },
  {
   "cell_type": "code",
   "execution_count": null,
   "metadata": {},
   "outputs": [],
   "source": [
    "#droplet spiraling in"
   ]
  },
  {
   "cell_type": "markdown",
   "metadata": {},
   "source": [
    "A droplet condenses at the photosphere of a synestia as it radiates heat into space. The droplet falls (towards the midplane of a synestia) into the interior, surrounded by gas. As gas drags on the droplet, the droplet spirals in towards the center of a synestia, losing velocity and distance from the rotational axis. The droplet transfers its angular momentum to the gas around it. The velocity of the gas increases in response. Since the droplet will always move faster than the gas, the increase in velocity will mean a smaller velocity differential between the gas and a droplet at the gas particle's location. It's too late for this to affect the first droplet that spiralled in, but if there were another droplet traveling behind the first droplet, the gas drag on the droplet would be weaker."
   ]
  },
  {
   "cell_type": "code",
   "execution_count": null,
   "metadata": {},
   "outputs": [],
   "source": [
    "#moon falling onto planet"
   ]
  },
  {
   "cell_type": "markdown",
   "metadata": {},
   "source": [
    "moon falls onto planet and planet has to spin up"
   ]
  },
  {
   "cell_type": "markdown",
   "metadata": {},
   "source": [
    "## Decreasing the Angular Momentum of the Earth-Moon System"
   ]
  },
  {
   "cell_type": "code",
   "execution_count": null,
   "metadata": {},
   "outputs": [],
   "source": [
    "#figure of early Earth-Moon versus present-day Earth-Moon, scaled for comparison"
   ]
  },
  {
   "cell_type": "markdown",
   "metadata": {},
   "source": [
    "When a high-angular-momentum synestia cools enough that it transitions into a system consisting of a molten, rapidly-rotating (oblate) planet and a closely-orbiting, liquid moon, there are still a few steps to reach the Earth-Moon system we know of today. The first you might be familiar with. Earth must cool over a long time period in order to form a solid crust. This will happen naturally, as heat radiates from the planet into space. The second has to do with Earth's shape. Present-day Earth is nearly spherical with a slow rotation relative to that of an oblate synestia. Somehow, Earth's spin rate needs to slow. We'll get to this shortly. The third has to do with the Moon. In present-day, the Moon is very far from Earth and continues to move farther away, whereas a synestia will form the Moon very close to early Earth. Due to tidal (gravitational) interactions between Earth and the Moon, the Moon will transfer angular momentum to the Earth in order to move away. In response, the Earth's angular momentum must increase, which means Earth will spin even faster than before. How can Earth's spin slow if the Earth-Moon system has to conserve angular momentum? Simply, the excess angular momentum (relative to present-day angular momentum of the Earth-Moon system) has to be removed.\n",
    "\n",
    "You may be thinking, \"Doesn't this violate conservation of angular momentum?\" If a mechanism can provide the means to transfer angular momentum to another system or body, then the angular momentum of one system may decrease, while the angular momentum of the other increases. This maintains conservation of angular momentum in the universe."
   ]
  },
  {
   "cell_type": "code",
   "execution_count": null,
   "metadata": {},
   "outputs": [],
   "source": [
    "#diagram of moon-earth transfer then sun transfer\n",
    "#the moon is moving away from tides therefore days get longer??"
   ]
  },
  {
   "cell_type": "markdown",
   "metadata": {},
   "source": [
    "A synestia must conserve its angular momentum if it is an isolated system, but a synestia is not one. Synestias are giant-impact-created planet- and moon- forming bodies that orbit their host star. Tidal (gravitational) interactions between a synestia and its moon(s) affect the star as well. The Earth-Moon system, freshly formed from a synestia with higher angular momentum than the present-day Earth-Moon system, can decrease its Earth-Moon system angular momentum by transferring it to its sun when the three body system is aligned just right (this is known as a resonance). The transfer will barely increase the rotation rate of the sun, but significantly decrease the rotation of Earth.\n",
    "\n",
    "This transfer of angular momentum from Earth to the sun is important, because otherwise the hypothesis that a synestia with a bulk Earth composition formed the Earth-Moon system would not be plausible. Additionally, as a result of starting with higher angular momentum, there is a wide range of impact scenarios that can form a lunar mass out of a synestia, compared to the canonical model for lunar formation."
   ]
  }
 ],
 "metadata": {
  "kernelspec": {
   "display_name": "Python 3",
   "language": "python",
   "name": "python3"
  },
  "language_info": {
   "codemirror_mode": {
    "name": "ipython",
    "version": 3
   },
   "file_extension": ".py",
   "mimetype": "text/x-python",
   "name": "python",
   "nbconvert_exporter": "python",
   "pygments_lexer": "ipython3",
   "version": "3.6.8"
  }
 },
 "nbformat": 4,
 "nbformat_minor": 2
}
