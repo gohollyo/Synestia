{
 "cells": [
  {
   "cell_type": "markdown",
   "metadata": {},
   "source": [
    "# Midplane"
   ]
  },
  {
   "cell_type": "markdown",
   "metadata": {},
   "source": [
    "The midplane is an xy plane that is positioned at z = 0. In other words, the midplane intersects the boundary between the northern and southern hemispheres of a planetary body. It is a two-dimensional plane that lies along the middle of the body and is perpendicular (90&deg;) to the planetary body's rotational (z) axis."
   ]
  },
  {
   "attachments": {},
   "cell_type": "markdown",
   "metadata": {},
   "source": [
    "![title](Figures/FigureMidplane.png)"
   ]
  },
  {
   "cell_type": "markdown",
   "metadata": {},
   "source": [
    "The midplane in a synestia is a region in which moons form. Moonlets are pulled towards the midplane (either down towards the midplane if they are above it, z > 0, or up towards the midplane if they are below it, z < 0) as they move around in a synestia. It is a place of gravitational equilibrium in z."
   ]
  }
 ],
 "metadata": {
  "kernelspec": {
   "display_name": "Python 3",
   "language": "python",
   "name": "python3"
  },
  "language_info": {
   "codemirror_mode": {
    "name": "ipython",
    "version": 3
   },
   "file_extension": ".py",
   "mimetype": "text/x-python",
   "name": "python",
   "nbconvert_exporter": "python",
   "pygments_lexer": "ipython3",
   "version": "3.6.8"
  }
 },
 "nbformat": 4,
 "nbformat_minor": 2
}
