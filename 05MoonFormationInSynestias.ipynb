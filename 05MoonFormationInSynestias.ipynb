{
 "cells": [
  {
   "cell_type": "code",
   "execution_count": null,
   "metadata": {},
   "outputs": [],
   "source": [
    "#hide cells with html: see JupyterBook\n",
    "#extension cell tags\n",
    "#break down forces operating on particles\n",
    "#Link to index -> manual short way of navigating around\n",
    "#multiple short pages\n",
    "#anchor index\n",
    "#table of contents in different places\n",
    "#may open new pages -- annoying; book helps but doesn't have interactivity\n",
    "#be able to go on to next section\n",
    "#html versions of everything: don't have to have python to open jupyter notebook\n",
    "#shows what you want to show, export, download as html"
   ]
  },
  {
   "cell_type": "markdown",
   "metadata": {},
   "source": [
    "# Gas Drag in Synestias"
   ]
  },
  {
   "cell_type": "markdown",
   "metadata": {},
   "source": [
    "There is a great deal of silicate vapor (also referred to as gas) in the moon-forming region of a synestia. Before a moon can coalesce out of a synestia, the smaller building blocks of a moon, moonlets (also called condensates and liquid droplets), must condense out of the cooled vapor in a synestia. Similarly, before a puddle can be pool on Earth's surface, water vapor must condense in Earth's atmosphere and rain to the surface.\n",
    "\n",
    "Once a parcel of gas from the synestia condenses into a liquid droplet, that parcel is no longer coupled to its fellow gas parcels. The surrounding gas cannot support the condensate. The moonlet loses pressure support from the surrounding gas and begins to fall towards the midplane (z = 0), pulled by gravitational forces. As the droplet falls, it passes through gas, which imparts a drag on the moonlet and causes the droplet to slow down and lose angular velocity. The orbit of the moonlets will decay over time in accord with the strength of the gas drag acceleration.\n",
    "\n",
    "Will this droplet make it to the midplane and help form a moon? Will this droplet re-vaporize? Or will this droplet be lost to the planet-like central region of the synestia? To answer this, we need to know how strong the gas drag force is. What affects the strength of gas drag?"
   ]
  },
  {
   "cell_type": "markdown",
   "metadata": {},
   "source": [
    "## Gas Drag Equation"
   ]
  },
  {
   "cell_type": "code",
   "execution_count": null,
   "metadata": {},
   "outputs": [],
   "source": [
    "#INSERT DIAGRAM HERE"
   ]
  },
  {
   "cell_type": "markdown",
   "metadata": {},
   "source": [
    "Let's get a sense for the magnitude of gas drag acceleration that we're dealing with. It is assumed that the moonlets experience a simple gas drag (known as laminar flow). The equation is as follows:\n",
    "$$a_{drag}=\\frac{C_D\\ A \\ \\rho_{gas} \\ (u_{gas} - u_{body})^2}{2 \\ m_{body}}$$"
   ]
  },
  {
   "cell_type": "markdown",
   "metadata": {},
   "source": [
    "Simple gas drag acceleration a$_{drag}$ is dependent on:\n",
    "the gas with density $\\rho_{gas}$ that drags a body of mass $m_{body}$, the cross sectional area A of the body that the gas is interacting with (typically we assume solar system bodies are spherical, so they would have a circular cross section), the gas drag coefficient C$_D$ (what thermal regime we are in), and the relative velocity between the gas and the body being dragged u$_{gas}$-u$_{body}$. If the body were traveling at the same speed and in the same direction as the gas surrounding it, it wouldn't matter how fast the body was traveling, there would be no gas drag acting on the body. The differential between the speeds is what affects the gas drag's magnitude the most. Note that if the body is traveling at the same speed of the gas but in the <i>opposite direction</i>, gas drag <i>would</i> act on the body.\n",
    "\n",
    "The gas drag acceleration is output in units of m/s$^2$, but for a more intuitive idea of how strong these accelerations are, see the different accelerations you may encounter on Earth displayed below the plot. They are output in terms of 'g' where 1 g = 9.8 m/s$^2$. In other words, 1 g is the gravitational acceleration here on (the surface of) Earth. These are next to various speeds in m/s for reference to the speed of each relative velocity."
   ]
  },
  {
   "cell_type": "code",
   "execution_count": 3,
   "metadata": {},
   "outputs": [
    {
     "data": {
      "application/vnd.jupyter.widget-view+json": {
       "model_id": "e24bb7734c644a30971a40aec85a1c82",
       "version_major": 2,
       "version_minor": 0
      },
      "text/plain": [
       "interactive(children=(FloatLogSlider(value=1.0, description='Size of moonlet (m)', layout=Layout(width='400px'…"
      ]
     },
     "metadata": {},
     "output_type": "display_data"
    },
    {
     "data": {
      "application/vnd.jupyter.widget-view+json": {
       "model_id": "e37a8701ad684523a20d856da385bbf2",
       "version_major": 2,
       "version_minor": 0
      },
      "text/plain": [
       "HBox(children=(VBox(children=(Label(value='on board space shuttle ISS'), Label(value='elevator headed up'), La…"
      ]
     },
     "metadata": {},
     "output_type": "display_data"
    }
   ],
   "source": [
    "import numpy as np\n",
    "import math\n",
    "from ipywidgets import *\n",
    "import matplotlib.pyplot as plt\n",
    "\n",
    "v_rel = np.arange(0.0, 300., 1.) #relative velocity between gas and body in m/s\n",
    "Moon_density = 3300. #lunar density in kg/m3; 3.3 g/cc\n",
    "gas_density0 = 1000. #kg/m^3 VERY dense gas in midplane\n",
    "gas_density1 = 10. #kg/m^3 average gas in midplane at larger radii \n",
    "gas_density2 = .1 #kg/m^3 less dense gas (photosphere)\n",
    "\n",
    "def pltdrag(rad_body, C_D, dens_gas):\n",
    "    mass_body = Moon_density*(4./3.)*math.pi*(rad_body**3) #mass of body in kg; assume spherical body (and spherical cross section)\n",
    "    a_drag = 0.5*C_D*math.pi*(rad_body**2)*dens_gas*(v_rel**2)/mass_body #acceleration imparted on body due to gas drag in m/s2\n",
    "    plt.plot(v_rel, a_drag)\n",
    "    plt.xlabel('velocity of the gas relative to the velocity of the moonlet (m/s)')\n",
    "    plt.ylabel('gas drag acceleration (m/s$^2$)')\n",
    "    plt.show()\n",
    "    plt.close()\n",
    "\n",
    "#PLOT ACCELERATION RELATIVE TO SOMETHING ELSE (g's, roller coasters, astronauts, etc.)    \n",
    "#RELATIVE SCALE IN GENERAL: how big the moonlets are (marble, golf ball, grain of sand, yoga ball, soccer field, etc.), how fast the relative and absolute velocity is\n",
    "#MAYBE THIS SHOULD BE PRINTED OUTPUT?    \n",
    "style = {'description_width': 'initial'}\n",
    "layout = {'width': '400px'}\n",
    "%matplotlib inline\n",
    "interact(pltdrag, rad_body=FloatLogSlider(value=1, base=10, min=-3, max=6, step=1, description='Size of moonlet (m)', style=style, layout=layout),\n",
    "         C_D=FloatSlider(value=2, min=0, max=2.5, step=0.5, description='Gas drag coefficient C$_D$ (-)', continuous_update=False, readout=True, readout_format='.1f', style=style, layout=layout),\n",
    "         dens_gas=FloatLogSlider(value=1, base=10, min=-3, max=3, step=1, description='Gas density (kg/m$^3$)', style=style, layout=layout)\n",
    "        )\n",
    "\n",
    "#acceleration in terms of what we experience on Earth\n",
    "accel_label=['on board space shuttle ISS','elevator headed up','gravitational pull on surface of Earth','roller coaster launch','space shuttle launch, gravitron amusement ride','top of roller coaster loop','maximum heavy braking on Formula One Car','maximum acceleration permitted on piloted planes','hard slap to the face, car crash','shock capacity of mechanical wrist watch','Mantis Shrimp claw strike','proton in Large Hadron Collider']\n",
    "accel_g=['1e-6 g','0.2 g','1 g','1.5 g','3 g','5 g','6.3 g','10 g','100 g','5000 g','10400 g','190000000 g']\n",
    "left_box0=widgets.VBox([widgets.Label(str(i)) for i in accel_label])\n",
    "right_box0=widgets.VBox([widgets.Label(str(i)) for i in accel_g])\n",
    "\n",
    "#velocity in terms of what we experience on Earth\n",
    "vel_label=['Walking','Biking','Usain Bolt sprinting','Train','Car moving 100 mph (160 km/h)','Helicopter','Commerical airplane','Speed of sound in air (sound barrier)']\n",
    "vel_ms=['1.5 m/s','4.5 m/s','12.5 m/s','27 m/s','45 m/s','70 m/s','220 m/s','343 m/s']\n",
    "left_box1=widgets.VBox([widgets.Label(str(i)) for i in vel_label])\n",
    "right_box1=widgets.VBox([widgets.Label(str(i)) for i in vel_ms])\n",
    "\n",
    "widgets.HBox([left_box0,right_box0,left_box1,right_box1])"
   ]
  },
  {
   "cell_type": "markdown",
   "metadata": {},
   "source": [
    "As expected, for the same gas field, gas drag acceleration is greater when the mass of the moonlet is smaller and the gas drag coefficient and relative velocity are larger. Gas drag will be stronger in a more dense gas field.\n",
    "\n",
    "Now, we would like to see how this gas drag affects how a single moonlet travels through the vapor in a synestia. For comparison, here is a plot of the orbit without the gas drag. The second plot shows the initial setup of the first plot with the addition of gas drag.\n",
    "\n",
    "In the first plot, you can see how a moon travels when only a synestia's gravity (first and second order) is at play, so that we have a baseline to compare to. The oblateness of a synestia's gravity field is non-negligible. A synestia's gravity field has extra gravitational acceleration closest to both the midplane and center of a synestia due to the oblateness of a synestia. Notice how any orbits off the midplane are affected by the J$_2$ term in a synestia's gravity. The orbit of a moonlet within the gravity field of an Earth-mass synestia is shown below. The equivalent Keplerian orbit (first order gravity only) is shown for reference.\n",
    "\n",
    "In the second plot, you can see how the gas drag significantly decays and circularizes the orbit of the moonlet. In order to form a moon, these moonlets must survive long enough to collide and grow into a large enough body that is not heavily affected by gas drag and will remain in orbit around the synestia without breaking up from tidal forces. Otherwise, the masses of the moonlets will be added to the center of a synestia (extends to about 7,000-10,000 km) and lost to the moon-forming region of a synestia.\n",
    "\n",
    "When a moonlet is formed, it will condense as a droplet at the photosphere (where the vapor saturates and has a pressure that lies on the vapor dome; think of this as the \"cloud line\"). Pressure from the surrounding gas will no longer be able to buoy the now dense droplet at its current height, so it will fall towards the midplane, pulled by gravity. The moon will oscillate near the midplane until it equilibrates; this should happen relatively quickly. Bigger moons are formed in the midplane, because they grow from colliding with other moonlets that reach the midplane.\n",
    "\n",
    "You will have four options in the interactives below. You will be able to initialize the moonlet at the photosphere or in the midplane. You can control the size of the moonlets, though it is more likely for smaller mass moonlets (roughly cm-sized) to form at the photosphere and for moonlets in the midplane to be more massive (due to the addition of moonlets raining from the photosphere). In potential Moon-forming synestias, the gas drag coefficient is 2 (has a minimal effect on the gas drag magnitude anyways), so this has been set for you. The velocity of the moonlet and the surrounding gas will be calculated according to what is expected in a typical Moon-forming synestia, so you won't have control over these either. However, you will have control of the gas density gradient and be able to change how quickly density decreases radially and off the midplane."
   ]
  },
  {
   "cell_type": "code",
   "execution_count": 4,
   "metadata": {},
   "outputs": [
    {
     "ename": "FileNotFoundError",
     "evalue": "[Errno 2] No such file or directory: 'TE_Example01_Cool05_snapshot_4096_long'",
     "output_type": "error",
     "traceback": [
      "\u001b[0;31m---------------------------------------------------------------------------\u001b[0m",
      "\u001b[0;31mFileNotFoundError\u001b[0m                         Traceback (most recent call last)",
      "\u001b[0;32m<ipython-input-4-bdead404df8e>\u001b[0m in \u001b[0;36m<module>\u001b[0;34m\u001b[0m\n\u001b[1;32m      2\u001b[0m \u001b[0;31m#put with gas drag, so can compare side-by-side\u001b[0m\u001b[0;34m\u001b[0m\u001b[0;34m\u001b[0m\u001b[0;34m\u001b[0m\u001b[0m\n\u001b[1;32m      3\u001b[0m \u001b[0;32mimport\u001b[0m \u001b[0mrebound\u001b[0m\u001b[0;34m\u001b[0m\u001b[0;34m\u001b[0m\u001b[0m\n\u001b[0;32m----> 4\u001b[0;31m \u001b[0;32mfrom\u001b[0m \u001b[0msyndef\u001b[0m \u001b[0;32mimport\u001b[0m \u001b[0msynfits\u001b[0m \u001b[0;31m#import synestia snapshot (impact database)\u001b[0m\u001b[0;34m\u001b[0m\u001b[0;34m\u001b[0m\u001b[0m\n\u001b[0m\u001b[1;32m      5\u001b[0m \u001b[0;34m\u001b[0m\u001b[0m\n\u001b[1;32m      6\u001b[0m \u001b[0;31m#G=6.674e-11 #gravitational constant in SI\u001b[0m\u001b[0;34m\u001b[0m\u001b[0;34m\u001b[0m\u001b[0;34m\u001b[0m\u001b[0m\n",
      "\u001b[0;32m~/syndef/synfits.py\u001b[0m in \u001b[0;36m<module>\u001b[0;34m\u001b[0m\n\u001b[1;32m   1166\u001b[0m \u001b[0;32mfrom\u001b[0m \u001b[0mpathlib\u001b[0m \u001b[0;32mimport\u001b[0m \u001b[0mPath\u001b[0m\u001b[0;34m\u001b[0m\u001b[0;34m\u001b[0m\u001b[0m\n\u001b[1;32m   1167\u001b[0m \u001b[0mSNAP_Canup\u001b[0m\u001b[0;34m=\u001b[0m\u001b[0mSnapshot\u001b[0m\u001b[0;34m(\u001b[0m\u001b[0;34m)\u001b[0m\u001b[0;34m\u001b[0m\u001b[0;34m\u001b[0m\u001b[0m\n\u001b[0;32m-> 1168\u001b[0;31m \u001b[0mSNAP_Canup\u001b[0m\u001b[0;34m.\u001b[0m\u001b[0mload\u001b[0m\u001b[0;34m(\u001b[0m\u001b[0;34m'TE_Example01_Cool05_snapshot_4096_long'\u001b[0m\u001b[0;34m,\u001b[0m\u001b[0mthermo\u001b[0m\u001b[0;34m=\u001b[0m\u001b[0;32mTrue\u001b[0m\u001b[0;34m)\u001b[0m \u001b[0;31m#Canup 2012 style giant impact\u001b[0m\u001b[0;34m\u001b[0m\u001b[0;34m\u001b[0m\u001b[0m\n\u001b[0m\u001b[1;32m   1169\u001b[0m \u001b[0mSNAP_CukStewart\u001b[0m\u001b[0;34m=\u001b[0m\u001b[0mSnapshot\u001b[0m\u001b[0;34m(\u001b[0m\u001b[0;34m)\u001b[0m\u001b[0;34m\u001b[0m\u001b[0;34m\u001b[0m\u001b[0m\n\u001b[1;32m   1170\u001b[0m \u001b[0mSNAP_CukStewart\u001b[0m\u001b[0;34m.\u001b[0m\u001b[0mload\u001b[0m\u001b[0;34m(\u001b[0m\u001b[0;34m'TE_Example03_Cool01_snapshot_10500_long'\u001b[0m\u001b[0;34m,\u001b[0m\u001b[0mthermo\u001b[0m\u001b[0;34m=\u001b[0m\u001b[0;32mTrue\u001b[0m\u001b[0;34m)\u001b[0m \u001b[0;31m#Cuk & Stewart 2012 style giant impact\u001b[0m\u001b[0;34m\u001b[0m\u001b[0;34m\u001b[0m\u001b[0m\n",
      "\u001b[0;32m~/syndef/synfits.py\u001b[0m in \u001b[0;36mload\u001b[0;34m(self, fname, thermo)\u001b[0m\n\u001b[1;32m    856\u001b[0m \u001b[0;31m#\u001b[0m\u001b[0;34m\u001b[0m\u001b[0;34m\u001b[0m\u001b[0;34m\u001b[0m\u001b[0m\n\u001b[1;32m    857\u001b[0m     \u001b[0;32mdef\u001b[0m \u001b[0mload\u001b[0m\u001b[0;34m(\u001b[0m\u001b[0mself\u001b[0m\u001b[0;34m,\u001b[0m \u001b[0mfname\u001b[0m\u001b[0;34m,\u001b[0m \u001b[0mthermo\u001b[0m\u001b[0;34m=\u001b[0m\u001b[0;32mFalse\u001b[0m\u001b[0;34m)\u001b[0m\u001b[0;34m:\u001b[0m\u001b[0;34m\u001b[0m\u001b[0;34m\u001b[0m\u001b[0m\n\u001b[0;32m--> 858\u001b[0;31m         \u001b[0mf\u001b[0m \u001b[0;34m=\u001b[0m \u001b[0mopen\u001b[0m\u001b[0;34m(\u001b[0m\u001b[0mfname\u001b[0m\u001b[0;34m,\u001b[0m \u001b[0;34m'rb'\u001b[0m\u001b[0;34m)\u001b[0m\u001b[0;34m\u001b[0m\u001b[0;34m\u001b[0m\u001b[0m\n\u001b[0m\u001b[1;32m    859\u001b[0m         \u001b[0mstruct\u001b[0m\u001b[0;34m.\u001b[0m\u001b[0munpack\u001b[0m\u001b[0;34m(\u001b[0m\u001b[0;34m'i'\u001b[0m\u001b[0;34m,\u001b[0m \u001b[0mf\u001b[0m\u001b[0;34m.\u001b[0m\u001b[0mread\u001b[0m\u001b[0;34m(\u001b[0m\u001b[0;36m4\u001b[0m\u001b[0;34m)\u001b[0m\u001b[0;34m)\u001b[0m\u001b[0;34m\u001b[0m\u001b[0;34m\u001b[0m\u001b[0m\n\u001b[1;32m    860\u001b[0m         \u001b[0;31m#HEADER\u001b[0m\u001b[0;34m\u001b[0m\u001b[0;34m\u001b[0m\u001b[0;34m\u001b[0m\u001b[0m\n",
      "\u001b[0;31mFileNotFoundError\u001b[0m: [Errno 2] No such file or directory: 'TE_Example01_Cool05_snapshot_4096_long'"
     ]
    }
   ],
   "source": [
    "#J2 gravity orbits\n",
    "#put with gas drag, so can compare side-by-side\n",
    "import rebound\n",
    "from syndef import synfits #import synestia snapshot (impact database)\n",
    "\n",
    "#G=6.674e-11 #gravitational constant in SI\n",
    "Mass_syn=np.sum(synfits.SNAP_CukStewart.m) #Earth mass synestia in kg\n",
    "dens=3300. #kg/m^3 lunar density\n",
    "\n",
    "def pltKep(rad_moon,sma,i,ecc):\n",
    "    #rad_moon is the bodily radius of the moon\n",
    "    #i is the inclination of the moon's orbital plane\n",
    "    #sma is the semi-major axis of the moon's orbit\n",
    "    #ecc is the eccentricity of the moon's orbit\n",
    "    m_moon = 4.*math.pi*dens*(rad_moon**3)/3.\n",
    "    sim = rebound.Simulation() #start simulation\n",
    "    sim.units = ('Hr', 'M', 'Kg') #use SI units\n",
    "    sim.add(m=Mass_syn) #add central body\n",
    "    sim.add(m=m_moon,a=sma,inc=i,e=ecc)\n",
    "    fig,ax_main,ax_sub1,ax_sub2 = rebound.OrbitPlot(sim,slices=1,xlim=[-120000000,60000000],ylim=[-60000000,60000000],unitlabel='(m)')\n",
    "\n",
    "J2Ma2 = synfits.SNAP_Canup.J2Ma2 #some value\n",
    "def J2(reb_sim):\n",
    "    r_orb = (reb_sim.contents.particles[1].x**2 + reb_sim.contents.particles[1].y**2 + reb_sim.contents.particles[1].z**2)**0.5\n",
    "    costheta = reb_sim.contents.particles[1].z/r_orb\n",
    "    grav2 = 3.0*reb_sim.G*J2Ma2*(rpart**(-5))\n",
    "    reb_sim.contents.particles[1].ax -= reb_sim.contents.particles[1].x*grav2*( 2.5*costheta*costheta - 0.5 )\n",
    "    reb_sim.contents.particles[1].ay -= reb_sim.contents.particles[1].y*grav2*( 2.5*costheta*costheta - 0.5 )\n",
    "    reb_sim.contents.particles[1].az -= reb_sim.contents.particles[1].z*grav2*( 2.5*costheta*costheta - 1.5 )\n",
    "    \n",
    "def pltJ2(rad_moon,sma,i,ecc):\n",
    "        #rad_moon is the bodily radius of the moon\n",
    "    #i is the inclination of the moon's orbital plane\n",
    "    #sma is the semi-major axis of the moon's orbit\n",
    "    #ecc is the eccentricity of the moon's orbit\n",
    "    m_moon = 4.*math.pi*dens*(rad_moon**3)/3.\n",
    "    sim = rebound.Simulation() #start simulation\n",
    "    sim.units = ('Hr', 'M', 'Kg') #use SI units\n",
    "    sim.add(m=Mass_syn) #add central body\n",
    "    sim.add(m=m_moon,a=sma,inc=i,e=ecc)\n",
    "    sim.additional_forces = J2\n",
    "    fig,ax_main,ax_sub1,ax_sub2 = rebound.OrbitPlot(sim,slices=1,xlim=[-120000000,60000000],ylim=[-60000000,60000000],unitlabel='(m)',color=True)\n",
    "\n",
    "style = {'description_width': 'initial'}\n",
    "layout = {'width': '400px'}\n",
    "interact(pltJ2,\n",
    "         rad_moon=FloatSlider(value=1, min=1, max=100, step=10, description='Body radius of moonlet (m)',\n",
    "                            continuous_update=False, readout=True, readout_format='.1f', style=style, layout=layout),\n",
    "         sma=FloatSlider(value=20e6, min=10e6, max=60e6, step=10e6, description='Semi-major axis (m)',\n",
    "                        continuous_update=False, readout=True, readout_format='.1f', style=style, layout=layout),\n",
    "         i=FloatSlider(value=0, max=2.*math.pi, step=0.2, description='Inclination of orbit (radians)',\n",
    "                        continuous_update=False, readout=True, readout_format='.1f', style=style, layout=layout),\n",
    "         ecc=FloatSlider(value=0, max=0.9, step=0.1, description='Eccentricity of orbit (unitless)',\n",
    "                        continuous_update=False, readout=True, readout_format='.1f', style=style, layout=layout),\n",
    "         )"
   ]
  },
  {
   "cell_type": "markdown",
   "metadata": {},
   "source": [
    "The corresponding decay timescales are plotted above as well."
   ]
  },
  {
   "cell_type": "markdown",
   "metadata": {},
   "source": [
    "### Decaying Orbits: moonlets dragged by gas in a synestia"
   ]
  },
  {
   "cell_type": "code",
   "execution_count": 2,
   "metadata": {},
   "outputs": [
    {
     "ename": "FileNotFoundError",
     "evalue": "[Errno 2] No such file or directory: 'TE_Example01_Cool05_snapshot_4096_long'",
     "output_type": "error",
     "traceback": [
      "\u001b[0;31m---------------------------------------------------------------------------\u001b[0m",
      "\u001b[0;31mFileNotFoundError\u001b[0m                         Traceback (most recent call last)",
      "\u001b[0;32m<ipython-input-2-432f79636f73>\u001b[0m in \u001b[0;36m<module>\u001b[0;34m\u001b[0m\n\u001b[0;32m----> 1\u001b[0;31m \u001b[0;32mfrom\u001b[0m \u001b[0msyndef\u001b[0m \u001b[0;32mimport\u001b[0m \u001b[0msynfits\u001b[0m \u001b[0;31m#import synestia snapshot (impact database)\u001b[0m\u001b[0;34m\u001b[0m\u001b[0;34m\u001b[0m\u001b[0m\n\u001b[0m\u001b[1;32m      2\u001b[0m \u001b[0mprint\u001b[0m\u001b[0;34m(\u001b[0m\u001b[0msynfits\u001b[0m\u001b[0;34m.\u001b[0m\u001b[0mSNAP_Canup\u001b[0m\u001b[0;34m.\u001b[0m\u001b[0mrhomidfit\u001b[0m\u001b[0;34m)\u001b[0m\u001b[0;34m\u001b[0m\u001b[0;34m\u001b[0m\u001b[0m\n\u001b[1;32m      3\u001b[0m \u001b[0mprint\u001b[0m\u001b[0;34m(\u001b[0m\u001b[0msynfits\u001b[0m\u001b[0;34m.\u001b[0m\u001b[0mSNAP_CukStewart\u001b[0m\u001b[0;34m.\u001b[0m\u001b[0mrhomidfit\u001b[0m\u001b[0;34m)\u001b[0m\u001b[0;34m\u001b[0m\u001b[0;34m\u001b[0m\u001b[0m\n\u001b[1;32m      4\u001b[0m \u001b[0mprint\u001b[0m\u001b[0;34m(\u001b[0m\u001b[0msynfits\u001b[0m\u001b[0;34m.\u001b[0m\u001b[0mSNAP_Quintana\u001b[0m\u001b[0;34m.\u001b[0m\u001b[0mrhomidfit\u001b[0m\u001b[0;34m)\u001b[0m\u001b[0;34m\u001b[0m\u001b[0;34m\u001b[0m\u001b[0m\n",
      "\u001b[0;32m~/syndef/synfits.py\u001b[0m in \u001b[0;36m<module>\u001b[0;34m\u001b[0m\n\u001b[1;32m   1166\u001b[0m \u001b[0;32mfrom\u001b[0m \u001b[0mpathlib\u001b[0m \u001b[0;32mimport\u001b[0m \u001b[0mPath\u001b[0m\u001b[0;34m\u001b[0m\u001b[0;34m\u001b[0m\u001b[0m\n\u001b[1;32m   1167\u001b[0m \u001b[0mSNAP_Canup\u001b[0m\u001b[0;34m=\u001b[0m\u001b[0mSnapshot\u001b[0m\u001b[0;34m(\u001b[0m\u001b[0;34m)\u001b[0m\u001b[0;34m\u001b[0m\u001b[0;34m\u001b[0m\u001b[0m\n\u001b[0;32m-> 1168\u001b[0;31m \u001b[0mSNAP_Canup\u001b[0m\u001b[0;34m.\u001b[0m\u001b[0mload\u001b[0m\u001b[0;34m(\u001b[0m\u001b[0;34m'TE_Example01_Cool05_snapshot_4096_long'\u001b[0m\u001b[0;34m,\u001b[0m\u001b[0mthermo\u001b[0m\u001b[0;34m=\u001b[0m\u001b[0;32mTrue\u001b[0m\u001b[0;34m)\u001b[0m \u001b[0;31m#Canup 2012 style giant impact\u001b[0m\u001b[0;34m\u001b[0m\u001b[0;34m\u001b[0m\u001b[0m\n\u001b[0m\u001b[1;32m   1169\u001b[0m \u001b[0mSNAP_CukStewart\u001b[0m\u001b[0;34m=\u001b[0m\u001b[0mSnapshot\u001b[0m\u001b[0;34m(\u001b[0m\u001b[0;34m)\u001b[0m\u001b[0;34m\u001b[0m\u001b[0;34m\u001b[0m\u001b[0m\n\u001b[1;32m   1170\u001b[0m \u001b[0mSNAP_CukStewart\u001b[0m\u001b[0;34m.\u001b[0m\u001b[0mload\u001b[0m\u001b[0;34m(\u001b[0m\u001b[0;34m'TE_Example03_Cool01_snapshot_10500_long'\u001b[0m\u001b[0;34m,\u001b[0m\u001b[0mthermo\u001b[0m\u001b[0;34m=\u001b[0m\u001b[0;32mTrue\u001b[0m\u001b[0;34m)\u001b[0m \u001b[0;31m#Cuk & Stewart 2012 style giant impact\u001b[0m\u001b[0;34m\u001b[0m\u001b[0;34m\u001b[0m\u001b[0m\n",
      "\u001b[0;32m~/syndef/synfits.py\u001b[0m in \u001b[0;36mload\u001b[0;34m(self, fname, thermo)\u001b[0m\n\u001b[1;32m    856\u001b[0m \u001b[0;31m#\u001b[0m\u001b[0;34m\u001b[0m\u001b[0;34m\u001b[0m\u001b[0;34m\u001b[0m\u001b[0m\n\u001b[1;32m    857\u001b[0m     \u001b[0;32mdef\u001b[0m \u001b[0mload\u001b[0m\u001b[0;34m(\u001b[0m\u001b[0mself\u001b[0m\u001b[0;34m,\u001b[0m \u001b[0mfname\u001b[0m\u001b[0;34m,\u001b[0m \u001b[0mthermo\u001b[0m\u001b[0;34m=\u001b[0m\u001b[0;32mFalse\u001b[0m\u001b[0;34m)\u001b[0m\u001b[0;34m:\u001b[0m\u001b[0;34m\u001b[0m\u001b[0;34m\u001b[0m\u001b[0m\n\u001b[0;32m--> 858\u001b[0;31m         \u001b[0mf\u001b[0m \u001b[0;34m=\u001b[0m \u001b[0mopen\u001b[0m\u001b[0;34m(\u001b[0m\u001b[0mfname\u001b[0m\u001b[0;34m,\u001b[0m \u001b[0;34m'rb'\u001b[0m\u001b[0;34m)\u001b[0m\u001b[0;34m\u001b[0m\u001b[0;34m\u001b[0m\u001b[0m\n\u001b[0m\u001b[1;32m    859\u001b[0m         \u001b[0mstruct\u001b[0m\u001b[0;34m.\u001b[0m\u001b[0munpack\u001b[0m\u001b[0;34m(\u001b[0m\u001b[0;34m'i'\u001b[0m\u001b[0;34m,\u001b[0m \u001b[0mf\u001b[0m\u001b[0;34m.\u001b[0m\u001b[0mread\u001b[0m\u001b[0;34m(\u001b[0m\u001b[0;36m4\u001b[0m\u001b[0;34m)\u001b[0m\u001b[0;34m)\u001b[0m\u001b[0;34m\u001b[0m\u001b[0;34m\u001b[0m\u001b[0m\n\u001b[1;32m    860\u001b[0m         \u001b[0;31m#HEADER\u001b[0m\u001b[0;34m\u001b[0m\u001b[0;34m\u001b[0m\u001b[0;34m\u001b[0m\u001b[0m\n",
      "\u001b[0;31mFileNotFoundError\u001b[0m: [Errno 2] No such file or directory: 'TE_Example01_Cool05_snapshot_4096_long'"
     ]
    }
   ],
   "source": [
    "from syndef import synfits #import synestia snapshot (impact database)\n",
    "print(synfits.SNAP_Canup.rhomidfit)\n",
    "print(synfits.SNAP_CukStewart.rhomidfit)\n",
    "print(synfits.SNAP_Quintana.rhomidfit)"
   ]
  },
  {
   "cell_type": "code",
   "execution_count": 24,
   "metadata": {},
   "outputs": [
    {
     "ename": "TypeError",
     "evalue": "'int' object is not subscriptable",
     "output_type": "error",
     "traceback": [
      "\u001b[0;31m---------------------------------------------------------------------------\u001b[0m",
      "\u001b[0;31mTypeError\u001b[0m                                 Traceback (most recent call last)",
      "\u001b[0;32m<ipython-input-24-26b31f133317>\u001b[0m in \u001b[0;36m<module>\u001b[0;34m\u001b[0m\n\u001b[1;32m      2\u001b[0m \u001b[0mrxy\u001b[0m\u001b[0;34m=\u001b[0m\u001b[0mnp\u001b[0m\u001b[0;34m.\u001b[0m\u001b[0mlog10\u001b[0m\u001b[0;34m(\u001b[0m\u001b[0mnp\u001b[0m\u001b[0;34m.\u001b[0m\u001b[0mlinspace\u001b[0m\u001b[0;34m(\u001b[0m\u001b[0;36m7e6\u001b[0m\u001b[0;34m,\u001b[0m\u001b[0;36m60e6\u001b[0m\u001b[0;34m,\u001b[0m\u001b[0;36m100\u001b[0m\u001b[0;34m)\u001b[0m\u001b[0;34m/\u001b[0m\u001b[0;36m1e6\u001b[0m\u001b[0;34m)\u001b[0m\u001b[0;34m\u001b[0m\u001b[0;34m\u001b[0m\u001b[0m\n\u001b[1;32m      3\u001b[0m \u001b[0my\u001b[0m\u001b[0;34m=\u001b[0m\u001b[0mnp\u001b[0m\u001b[0;34m.\u001b[0m\u001b[0mzeros\u001b[0m\u001b[0;34m(\u001b[0m\u001b[0mnp\u001b[0m\u001b[0;34m.\u001b[0m\u001b[0mshape\u001b[0m\u001b[0;34m(\u001b[0m\u001b[0mrxy\u001b[0m\u001b[0;34m)\u001b[0m\u001b[0;34m)\u001b[0m\u001b[0;34m\u001b[0m\u001b[0;34m\u001b[0m\u001b[0m\n\u001b[0;32m----> 4\u001b[0;31m \u001b[0mrho1\u001b[0m\u001b[0;34m=\u001b[0m\u001b[0msynfits\u001b[0m\u001b[0;34m.\u001b[0m\u001b[0mresfuncspl\u001b[0m\u001b[0;34m(\u001b[0m\u001b[0msynfits\u001b[0m\u001b[0;34m.\u001b[0m\u001b[0mSNAP_Canup\u001b[0m\u001b[0;34m.\u001b[0m\u001b[0mrhomidfit\u001b[0m\u001b[0;34m[\u001b[0m\u001b[0;36m1\u001b[0m\u001b[0;34m]\u001b[0m\u001b[0;34m,\u001b[0m\u001b[0mrxy\u001b[0m\u001b[0;34m,\u001b[0m\u001b[0my\u001b[0m\u001b[0;34m)\u001b[0m\u001b[0;34m\u001b[0m\u001b[0;34m\u001b[0m\u001b[0m\n\u001b[0m\u001b[1;32m      5\u001b[0m \u001b[0msnaprho\u001b[0m\u001b[0;34m=\u001b[0m\u001b[0mnp\u001b[0m\u001b[0;34m.\u001b[0m\u001b[0mlog10\u001b[0m\u001b[0;34m(\u001b[0m\u001b[0msynfits\u001b[0m\u001b[0;34m.\u001b[0m\u001b[0mSNAP_CukStewart\u001b[0m\u001b[0;34m.\u001b[0m\u001b[0mrho\u001b[0m\u001b[0;34m[\u001b[0m\u001b[0msynfits\u001b[0m\u001b[0;34m.\u001b[0m\u001b[0mSNAP_CukStewart\u001b[0m\u001b[0;34m.\u001b[0m\u001b[0mind_outer_mid\u001b[0m\u001b[0;34m]\u001b[0m\u001b[0;34m)\u001b[0m\u001b[0;34m\u001b[0m\u001b[0;34m\u001b[0m\u001b[0m\n\u001b[1;32m      6\u001b[0m \u001b[0msnaprxy\u001b[0m\u001b[0;34m=\u001b[0m\u001b[0mnp\u001b[0m\u001b[0;34m.\u001b[0m\u001b[0mlog10\u001b[0m\u001b[0;34m(\u001b[0m\u001b[0msynfits\u001b[0m\u001b[0;34m.\u001b[0m\u001b[0mSNAP_CukStewart\u001b[0m\u001b[0;34m.\u001b[0m\u001b[0mrxy\u001b[0m\u001b[0;34m[\u001b[0m\u001b[0msynfits\u001b[0m\u001b[0;34m.\u001b[0m\u001b[0mSNAP_CukStewart\u001b[0m\u001b[0;34m.\u001b[0m\u001b[0mind_outer_mid\u001b[0m\u001b[0;34m]\u001b[0m\u001b[0;34m/\u001b[0m\u001b[0;36m1e6\u001b[0m\u001b[0;34m)\u001b[0m\u001b[0;34m\u001b[0m\u001b[0;34m\u001b[0m\u001b[0m\n",
      "\u001b[0;32m~/syndef/synfits.py\u001b[0m in \u001b[0;36mresfuncspl\u001b[0;34m(params, x, y)\u001b[0m\n\u001b[1;32m   1118\u001b[0m \u001b[0;31m#\u001b[0m\u001b[0;34m\u001b[0m\u001b[0;34m\u001b[0m\u001b[0;34m\u001b[0m\u001b[0m\n\u001b[1;32m   1119\u001b[0m \u001b[0;32mdef\u001b[0m \u001b[0mresfuncspl\u001b[0m\u001b[0;34m(\u001b[0m\u001b[0mparams\u001b[0m\u001b[0;34m,\u001b[0m\u001b[0mx\u001b[0m\u001b[0;34m,\u001b[0m\u001b[0my\u001b[0m\u001b[0;34m)\u001b[0m\u001b[0;34m:\u001b[0m\u001b[0;34m\u001b[0m\u001b[0;34m\u001b[0m\u001b[0m\n\u001b[0;32m-> 1120\u001b[0;31m     \u001b[0;32mreturn\u001b[0m \u001b[0mparams\u001b[0m\u001b[0;34m[\u001b[0m\u001b[0;36m0\u001b[0m\u001b[0;34m]\u001b[0m\u001b[0;34m/\u001b[0m\u001b[0;34m(\u001b[0m\u001b[0mx\u001b[0m\u001b[0;34m*\u001b[0m\u001b[0mnp\u001b[0m\u001b[0;34m.\u001b[0m\u001b[0mexp\u001b[0m\u001b[0;34m(\u001b[0m\u001b[0mx\u001b[0m\u001b[0;34m*\u001b[0m\u001b[0mparams\u001b[0m\u001b[0;34m[\u001b[0m\u001b[0;36m1\u001b[0m\u001b[0;34m]\u001b[0m\u001b[0;34m)\u001b[0m \u001b[0;34m+\u001b[0m \u001b[0mparams\u001b[0m\u001b[0;34m[\u001b[0m\u001b[0;36m2\u001b[0m\u001b[0;34m]\u001b[0m\u001b[0;34m)\u001b[0m \u001b[0;34m+\u001b[0m \u001b[0mparams\u001b[0m\u001b[0;34m[\u001b[0m\u001b[0;36m3\u001b[0m\u001b[0;34m]\u001b[0m \u001b[0;34m-\u001b[0m \u001b[0my\u001b[0m\u001b[0;34m\u001b[0m\u001b[0;34m\u001b[0m\u001b[0m\n\u001b[0m\u001b[1;32m   1121\u001b[0m \u001b[0;31m#\u001b[0m\u001b[0;34m\u001b[0m\u001b[0;34m\u001b[0m\u001b[0;34m\u001b[0m\u001b[0m\n\u001b[1;32m   1122\u001b[0m \u001b[0;32mdef\u001b[0m \u001b[0mresfunclin\u001b[0m\u001b[0;34m(\u001b[0m\u001b[0mparams\u001b[0m\u001b[0;34m,\u001b[0m\u001b[0mx\u001b[0m\u001b[0;34m,\u001b[0m\u001b[0my\u001b[0m\u001b[0;34m)\u001b[0m\u001b[0;34m:\u001b[0m\u001b[0;34m\u001b[0m\u001b[0;34m\u001b[0m\u001b[0m\n",
      "\u001b[0;31mTypeError\u001b[0m: 'int' object is not subscriptable"
     ]
    }
   ],
   "source": [
    "from syndef import synfits #import synestia snapshot (impact database)\n",
    "rxy=np.log10(np.linspace(7e6,60e6,100)/1e6)\n",
    "y=np.zeros(np.shape(rxy))\n",
    "print(synfits.SNAP_Canup.rhomidfit)\n",
    "print(synfits.SNAP_CukStewart.rhomidfit)\n",
    "print(synfits.SNAP_Quintana.rhomidfit)\n",
    "rho1=synfits.resfuncspl(synfits.SNAP_Canup.rhomidfit[1],rxy,y)\n",
    "snaprho=np.log10(synfits.SNAP_Canup.rho[synfits.SNAP_Canup.ind_outer_mid])\n",
    "snaprxy=np.log10(synfits.SNAP_Canup.rxy[synfits.SNAP_Canup.ind_outer_mid]/1e6)\n",
    "plt.figure()\n",
    "plt.plot(rxy,rho1,'b')\n",
    "plt.plot(snaprxy,snaprho,'r')\n",
    "plt.xlabel('log r$_{xy}$ (Mm)')\n",
    "plt.ylabel('log midplane density (kg/m$^3$)')\n",
    "plt.show()\n",
    "plt.close()"
   ]
  },
  {
   "cell_type": "code",
   "execution_count": 6,
   "metadata": {},
   "outputs": [
    {
     "ename": "ValueError",
     "evalue": "Can't set e exactly to 1.",
     "output_type": "error",
     "traceback": [
      "\u001b[0;31m---------------------------------------------------------------------------\u001b[0m",
      "\u001b[0;31mValueError\u001b[0m                                Traceback (most recent call last)",
      "\u001b[0;32m<ipython-input-6-136c3a4d6288>\u001b[0m in \u001b[0;36m<module>\u001b[0;34m\u001b[0m\n\u001b[1;32m     30\u001b[0m \u001b[0msim_drag\u001b[0m\u001b[0;34m.\u001b[0m\u001b[0mforce_is_velocity_dependent\u001b[0m \u001b[0;34m=\u001b[0m \u001b[0;36m1\u001b[0m\u001b[0;34m\u001b[0m\u001b[0;34m\u001b[0m\u001b[0m\n\u001b[1;32m     31\u001b[0m \u001b[0msim_drag\u001b[0m\u001b[0;34m.\u001b[0m\u001b[0mexit_min_distance\u001b[0m \u001b[0;34m=\u001b[0m \u001b[0;36m7e6\u001b[0m \u001b[0;31m#m\u001b[0m\u001b[0;34m\u001b[0m\u001b[0;34m\u001b[0m\u001b[0m\n\u001b[0;32m---> 32\u001b[0;31m \u001b[0mfig\u001b[0m\u001b[0;34m,\u001b[0m\u001b[0max_main\u001b[0m\u001b[0;34m,\u001b[0m\u001b[0max_sub1\u001b[0m\u001b[0;34m,\u001b[0m\u001b[0max_sub2\u001b[0m \u001b[0;34m=\u001b[0m \u001b[0mrebound\u001b[0m\u001b[0;34m.\u001b[0m\u001b[0mOrbitPlot\u001b[0m\u001b[0;34m(\u001b[0m\u001b[0msim_drag\u001b[0m\u001b[0;34m,\u001b[0m\u001b[0mslices\u001b[0m\u001b[0;34m=\u001b[0m\u001b[0;36m1\u001b[0m\u001b[0;34m,\u001b[0m\u001b[0mxlim\u001b[0m\u001b[0;34m=\u001b[0m\u001b[0;34m[\u001b[0m\u001b[0;34m-\u001b[0m\u001b[0;36m120000000\u001b[0m\u001b[0;34m,\u001b[0m\u001b[0;36m60000000\u001b[0m\u001b[0;34m]\u001b[0m\u001b[0;34m,\u001b[0m\u001b[0mylim\u001b[0m\u001b[0;34m=\u001b[0m\u001b[0;34m[\u001b[0m\u001b[0;34m-\u001b[0m\u001b[0;36m60000000\u001b[0m\u001b[0;34m,\u001b[0m\u001b[0;36m60000000\u001b[0m\u001b[0;34m]\u001b[0m\u001b[0;34m,\u001b[0m\u001b[0munitlabel\u001b[0m\u001b[0;34m=\u001b[0m\u001b[0;34m'(m)'\u001b[0m\u001b[0;34m,\u001b[0m\u001b[0mcolor\u001b[0m\u001b[0;34m=\u001b[0m\u001b[0;32mTrue\u001b[0m\u001b[0;34m)\u001b[0m\u001b[0;34m\u001b[0m\u001b[0;34m\u001b[0m\u001b[0m\n\u001b[0m\u001b[1;32m     33\u001b[0m \u001b[0;34m\u001b[0m\u001b[0m\n\u001b[1;32m     34\u001b[0m widgets.Dropdown(\n",
      "\u001b[0;32m/anaconda3/lib/python3.6/site-packages/rebound/plotting.py\u001b[0m in \u001b[0;36mOrbitPlot\u001b[0;34m(sim, figsize, fancy, slices, xlim, ylim, unitlabel, color, periastron, orbit_type, lw, plotparticles, primary, Narc)\u001b[0m\n\u001b[1;32m     92\u001b[0m         \u001b[0max_right\u001b[0m\u001b[0;34m.\u001b[0m\u001b[0mset_xlabel\u001b[0m\u001b[0;34m(\u001b[0m\u001b[0;34m\"z\"\u001b[0m\u001b[0;34m+\u001b[0m\u001b[0munitlabel\u001b[0m\u001b[0;34m)\u001b[0m\u001b[0;34m\u001b[0m\u001b[0;34m\u001b[0m\u001b[0m\n\u001b[1;32m     93\u001b[0m \u001b[0;34m\u001b[0m\u001b[0m\n\u001b[0;32m---> 94\u001b[0;31m     \u001b[0mOrbitPlotOneSlice\u001b[0m\u001b[0;34m(\u001b[0m\u001b[0msim\u001b[0m\u001b[0;34m,\u001b[0m \u001b[0max_main\u001b[0m\u001b[0;34m,\u001b[0m \u001b[0mNarc\u001b[0m\u001b[0;34m=\u001b[0m\u001b[0mNarc\u001b[0m\u001b[0;34m,\u001b[0m \u001b[0mcolor\u001b[0m\u001b[0;34m=\u001b[0m\u001b[0mcolor\u001b[0m\u001b[0;34m,\u001b[0m \u001b[0mperiastron\u001b[0m\u001b[0;34m=\u001b[0m\u001b[0mperiastron\u001b[0m\u001b[0;34m,\u001b[0m \u001b[0morbit_type\u001b[0m\u001b[0;34m=\u001b[0m\u001b[0morbit_type\u001b[0m\u001b[0;34m,\u001b[0m \u001b[0mlw\u001b[0m\u001b[0;34m=\u001b[0m\u001b[0mlw\u001b[0m\u001b[0;34m,\u001b[0m \u001b[0maxes\u001b[0m\u001b[0;34m=\u001b[0m\u001b[0;34m\"xy\"\u001b[0m\u001b[0;34m,\u001b[0m\u001b[0mfancy\u001b[0m\u001b[0;34m=\u001b[0m\u001b[0mfancy\u001b[0m\u001b[0;34m,\u001b[0m \u001b[0mplotparticles\u001b[0m\u001b[0;34m=\u001b[0m\u001b[0mplotparticles\u001b[0m\u001b[0;34m,\u001b[0m \u001b[0mprimary\u001b[0m\u001b[0;34m=\u001b[0m\u001b[0mprimary\u001b[0m\u001b[0;34m)\u001b[0m\u001b[0;34m\u001b[0m\u001b[0;34m\u001b[0m\u001b[0m\n\u001b[0m\u001b[1;32m     95\u001b[0m \u001b[0;34m\u001b[0m\u001b[0m\n\u001b[1;32m     96\u001b[0m     \u001b[0;32mif\u001b[0m \u001b[0mslices\u001b[0m\u001b[0;34m>\u001b[0m\u001b[0;36m0.\u001b[0m\u001b[0;34m:\u001b[0m\u001b[0;34m\u001b[0m\u001b[0;34m\u001b[0m\u001b[0m\n",
      "\u001b[0;32m/anaconda3/lib/python3.6/site-packages/rebound/plotting.py\u001b[0m in \u001b[0;36mOrbitPlotOneSlice\u001b[0;34m(sim, ax, Narc, color, periastron, orbit_type, lw, axes, plotparticles, primary, fancy)\u001b[0m\n\u001b[1;32m    275\u001b[0m             \u001b[0mhyperbolic\u001b[0m \u001b[0;34m=\u001b[0m \u001b[0mo\u001b[0m\u001b[0;34m.\u001b[0m\u001b[0ma\u001b[0m \u001b[0;34m<\u001b[0m \u001b[0;36m0.\u001b[0m \u001b[0;31m# Boolean for whether orbit is hyperbolic\u001b[0m\u001b[0;34m\u001b[0m\u001b[0;34m\u001b[0m\u001b[0m\n\u001b[1;32m    276\u001b[0m             \u001b[0;32mif\u001b[0m \u001b[0mhyperbolic\u001b[0m \u001b[0;32mis\u001b[0m \u001b[0;32mFalse\u001b[0m\u001b[0;34m:\u001b[0m\u001b[0;34m\u001b[0m\u001b[0;34m\u001b[0m\u001b[0m\n\u001b[0;32m--> 277\u001b[0;31m                 \u001b[0mpts\u001b[0m \u001b[0;34m=\u001b[0m \u001b[0mnp\u001b[0m\u001b[0;34m.\u001b[0m\u001b[0marray\u001b[0m\u001b[0;34m(\u001b[0m\u001b[0mp\u001b[0m\u001b[0;34m.\u001b[0m\u001b[0msample_orbit\u001b[0m\u001b[0;34m(\u001b[0m\u001b[0mNpts\u001b[0m\u001b[0;34m=\u001b[0m\u001b[0mNarc\u001b[0m\u001b[0;34m+\u001b[0m\u001b[0;36m1\u001b[0m\u001b[0;34m,\u001b[0m \u001b[0mprimary\u001b[0m\u001b[0;34m=\u001b[0m\u001b[0mprim\u001b[0m\u001b[0;34m)\u001b[0m\u001b[0;34m)\u001b[0m\u001b[0;34m\u001b[0m\u001b[0;34m\u001b[0m\u001b[0m\n\u001b[0m\u001b[1;32m    278\u001b[0m                 \u001b[0mproj\u001b[0m\u001b[0;34m[\u001b[0m\u001b[0;34m'x'\u001b[0m\u001b[0;34m]\u001b[0m\u001b[0;34m,\u001b[0m\u001b[0mproj\u001b[0m\u001b[0;34m[\u001b[0m\u001b[0;34m'y'\u001b[0m\u001b[0;34m]\u001b[0m\u001b[0;34m,\u001b[0m\u001b[0mproj\u001b[0m\u001b[0;34m[\u001b[0m\u001b[0;34m'z'\u001b[0m\u001b[0;34m]\u001b[0m \u001b[0;34m=\u001b[0m \u001b[0;34m[\u001b[0m\u001b[0mpts\u001b[0m\u001b[0;34m[\u001b[0m\u001b[0;34m:\u001b[0m\u001b[0;34m,\u001b[0m\u001b[0mi\u001b[0m\u001b[0;34m]\u001b[0m \u001b[0;32mfor\u001b[0m \u001b[0mi\u001b[0m \u001b[0;32min\u001b[0m \u001b[0mrange\u001b[0m\u001b[0;34m(\u001b[0m\u001b[0;36m3\u001b[0m\u001b[0;34m)\u001b[0m\u001b[0;34m]\u001b[0m\u001b[0;34m\u001b[0m\u001b[0;34m\u001b[0m\u001b[0m\n\u001b[1;32m    279\u001b[0m                 \u001b[0mlc\u001b[0m \u001b[0;34m=\u001b[0m \u001b[0mfading_line\u001b[0m\u001b[0;34m(\u001b[0m\u001b[0mproj\u001b[0m\u001b[0;34m[\u001b[0m\u001b[0maxes\u001b[0m\u001b[0;34m[\u001b[0m\u001b[0;36m0\u001b[0m\u001b[0;34m]\u001b[0m\u001b[0;34m]\u001b[0m\u001b[0;34m,\u001b[0m \u001b[0mproj\u001b[0m\u001b[0;34m[\u001b[0m\u001b[0maxes\u001b[0m\u001b[0;34m[\u001b[0m\u001b[0;36m1\u001b[0m\u001b[0;34m]\u001b[0m\u001b[0;34m]\u001b[0m\u001b[0;34m,\u001b[0m \u001b[0mcolori\u001b[0m\u001b[0;34m,\u001b[0m \u001b[0malpha_final\u001b[0m\u001b[0;34m=\u001b[0m\u001b[0malpha_final\u001b[0m\u001b[0;34m,\u001b[0m \u001b[0mlw\u001b[0m\u001b[0;34m=\u001b[0m\u001b[0mlw\u001b[0m\u001b[0;34m,\u001b[0m \u001b[0mglow\u001b[0m\u001b[0;34m=\u001b[0m\u001b[0mfancy\u001b[0m\u001b[0;34m)\u001b[0m\u001b[0;34m\u001b[0m\u001b[0;34m\u001b[0m\u001b[0m\n",
      "\u001b[0;32m/anaconda3/lib/python3.6/site-packages/rebound/particle.py\u001b[0m in \u001b[0;36msample_orbit\u001b[0;34m(self, Npts, primary, trailing, timespan, useTrueAnomaly)\u001b[0m\n\u001b[1;32m    494\u001b[0m         \u001b[0;32mfor\u001b[0m \u001b[0mi\u001b[0m\u001b[0;34m,\u001b[0m\u001b[0mph\u001b[0m \u001b[0;32min\u001b[0m \u001b[0menumerate\u001b[0m\u001b[0;34m(\u001b[0m\u001b[0mphase\u001b[0m\u001b[0;34m)\u001b[0m\u001b[0;34m:\u001b[0m\u001b[0;34m\u001b[0m\u001b[0;34m\u001b[0m\u001b[0m\n\u001b[1;32m    495\u001b[0m             \u001b[0;32mif\u001b[0m \u001b[0museTrueAnomaly\u001b[0m \u001b[0;32mis\u001b[0m \u001b[0;32mTrue\u001b[0m\u001b[0;34m:\u001b[0m\u001b[0;34m\u001b[0m\u001b[0;34m\u001b[0m\u001b[0m\n\u001b[0;32m--> 496\u001b[0;31m                 \u001b[0mnewp\u001b[0m \u001b[0;34m=\u001b[0m \u001b[0mParticle\u001b[0m\u001b[0;34m(\u001b[0m\u001b[0ma\u001b[0m\u001b[0;34m=\u001b[0m\u001b[0mo\u001b[0m\u001b[0;34m.\u001b[0m\u001b[0ma\u001b[0m\u001b[0;34m,\u001b[0m \u001b[0mf\u001b[0m\u001b[0;34m=\u001b[0m\u001b[0mo\u001b[0m\u001b[0;34m.\u001b[0m\u001b[0mf\u001b[0m\u001b[0;34m+\u001b[0m\u001b[0mph\u001b[0m\u001b[0;34m,\u001b[0m \u001b[0minc\u001b[0m\u001b[0;34m=\u001b[0m\u001b[0mo\u001b[0m\u001b[0;34m.\u001b[0m\u001b[0minc\u001b[0m\u001b[0;34m,\u001b[0m \u001b[0momega\u001b[0m\u001b[0;34m=\u001b[0m\u001b[0mo\u001b[0m\u001b[0;34m.\u001b[0m\u001b[0momega\u001b[0m\u001b[0;34m,\u001b[0m \u001b[0mOmega\u001b[0m\u001b[0;34m=\u001b[0m\u001b[0mo\u001b[0m\u001b[0;34m.\u001b[0m\u001b[0mOmega\u001b[0m\u001b[0;34m,\u001b[0m \u001b[0me\u001b[0m\u001b[0;34m=\u001b[0m\u001b[0mo\u001b[0m\u001b[0;34m.\u001b[0m\u001b[0me\u001b[0m\u001b[0;34m,\u001b[0m \u001b[0mm\u001b[0m\u001b[0;34m=\u001b[0m\u001b[0mself\u001b[0m\u001b[0;34m.\u001b[0m\u001b[0mm\u001b[0m\u001b[0;34m,\u001b[0m \u001b[0mprimary\u001b[0m\u001b[0;34m=\u001b[0m\u001b[0mprimary\u001b[0m\u001b[0;34m,\u001b[0m \u001b[0msimulation\u001b[0m\u001b[0;34m=\u001b[0m\u001b[0mself\u001b[0m\u001b[0;34m.\u001b[0m\u001b[0m_sim\u001b[0m\u001b[0;34m.\u001b[0m\u001b[0mcontents\u001b[0m\u001b[0;34m)\u001b[0m\u001b[0;34m\u001b[0m\u001b[0;34m\u001b[0m\u001b[0m\n\u001b[0m\u001b[1;32m    497\u001b[0m             \u001b[0;32melse\u001b[0m\u001b[0;34m:\u001b[0m\u001b[0;34m\u001b[0m\u001b[0;34m\u001b[0m\u001b[0m\n\u001b[1;32m    498\u001b[0m                 \u001b[0mnewp\u001b[0m \u001b[0;34m=\u001b[0m \u001b[0mParticle\u001b[0m\u001b[0;34m(\u001b[0m\u001b[0ma\u001b[0m\u001b[0;34m=\u001b[0m\u001b[0mo\u001b[0m\u001b[0;34m.\u001b[0m\u001b[0ma\u001b[0m\u001b[0;34m,\u001b[0m \u001b[0mM\u001b[0m\u001b[0;34m=\u001b[0m\u001b[0mo\u001b[0m\u001b[0;34m.\u001b[0m\u001b[0mM\u001b[0m\u001b[0;34m+\u001b[0m\u001b[0mph\u001b[0m\u001b[0;34m,\u001b[0m \u001b[0minc\u001b[0m\u001b[0;34m=\u001b[0m\u001b[0mo\u001b[0m\u001b[0;34m.\u001b[0m\u001b[0minc\u001b[0m\u001b[0;34m,\u001b[0m \u001b[0momega\u001b[0m\u001b[0;34m=\u001b[0m\u001b[0mo\u001b[0m\u001b[0;34m.\u001b[0m\u001b[0momega\u001b[0m\u001b[0;34m,\u001b[0m \u001b[0mOmega\u001b[0m\u001b[0;34m=\u001b[0m\u001b[0mo\u001b[0m\u001b[0;34m.\u001b[0m\u001b[0mOmega\u001b[0m\u001b[0;34m,\u001b[0m \u001b[0me\u001b[0m\u001b[0;34m=\u001b[0m\u001b[0mo\u001b[0m\u001b[0;34m.\u001b[0m\u001b[0me\u001b[0m\u001b[0;34m,\u001b[0m \u001b[0mm\u001b[0m\u001b[0;34m=\u001b[0m\u001b[0mself\u001b[0m\u001b[0;34m.\u001b[0m\u001b[0mm\u001b[0m\u001b[0;34m,\u001b[0m \u001b[0mprimary\u001b[0m\u001b[0;34m=\u001b[0m\u001b[0mprimary\u001b[0m\u001b[0;34m,\u001b[0m \u001b[0msimulation\u001b[0m\u001b[0;34m=\u001b[0m\u001b[0mself\u001b[0m\u001b[0;34m.\u001b[0m\u001b[0m_sim\u001b[0m\u001b[0;34m.\u001b[0m\u001b[0mcontents\u001b[0m\u001b[0;34m)\u001b[0m\u001b[0;34m\u001b[0m\u001b[0;34m\u001b[0m\u001b[0m\n",
      "\u001b[0;32m/anaconda3/lib/python3.6/site-packages/rebound/particle.py\u001b[0m in \u001b[0;36m__init__\u001b[0;34m(self, simulation, particle, m, x, y, z, vx, vy, vz, primary, a, P, e, inc, Omega, omega, pomega, f, M, l, theta, T, r, date, variation, variation2, h, k, ix, iy, hash, jacobi_masses)\u001b[0m\n\u001b[1;32m    345\u001b[0m                 \u001b[0mp\u001b[0m \u001b[0;34m=\u001b[0m \u001b[0mclibrebound\u001b[0m\u001b[0;34m.\u001b[0m\u001b[0mreb_tools_orbit_to_particle_err\u001b[0m\u001b[0;34m(\u001b[0m\u001b[0mc_double\u001b[0m\u001b[0;34m(\u001b[0m\u001b[0msimulation\u001b[0m\u001b[0;34m.\u001b[0m\u001b[0mG\u001b[0m\u001b[0;34m)\u001b[0m\u001b[0;34m,\u001b[0m \u001b[0mprimary\u001b[0m\u001b[0;34m,\u001b[0m \u001b[0mc_double\u001b[0m\u001b[0;34m(\u001b[0m\u001b[0mself\u001b[0m\u001b[0;34m.\u001b[0m\u001b[0mm\u001b[0m\u001b[0;34m)\u001b[0m\u001b[0;34m,\u001b[0m \u001b[0mc_double\u001b[0m\u001b[0;34m(\u001b[0m\u001b[0ma\u001b[0m\u001b[0;34m)\u001b[0m\u001b[0;34m,\u001b[0m \u001b[0mc_double\u001b[0m\u001b[0;34m(\u001b[0m\u001b[0me\u001b[0m\u001b[0;34m)\u001b[0m\u001b[0;34m,\u001b[0m \u001b[0mc_double\u001b[0m\u001b[0;34m(\u001b[0m\u001b[0minc\u001b[0m\u001b[0;34m)\u001b[0m\u001b[0;34m,\u001b[0m \u001b[0mc_double\u001b[0m\u001b[0;34m(\u001b[0m\u001b[0mOmega\u001b[0m\u001b[0;34m)\u001b[0m\u001b[0;34m,\u001b[0m \u001b[0mc_double\u001b[0m\u001b[0;34m(\u001b[0m\u001b[0momega\u001b[0m\u001b[0;34m)\u001b[0m\u001b[0;34m,\u001b[0m \u001b[0mc_double\u001b[0m\u001b[0;34m(\u001b[0m\u001b[0mf\u001b[0m\u001b[0;34m)\u001b[0m\u001b[0;34m,\u001b[0m \u001b[0mbyref\u001b[0m\u001b[0;34m(\u001b[0m\u001b[0merr\u001b[0m\u001b[0;34m)\u001b[0m\u001b[0;34m)\u001b[0m\u001b[0;34m\u001b[0m\u001b[0;34m\u001b[0m\u001b[0m\n\u001b[1;32m    346\u001b[0m                 \u001b[0;32mif\u001b[0m \u001b[0merr\u001b[0m\u001b[0;34m.\u001b[0m\u001b[0mvalue\u001b[0m \u001b[0;34m==\u001b[0m \u001b[0;36m1\u001b[0m\u001b[0;34m:\u001b[0m\u001b[0;34m\u001b[0m\u001b[0;34m\u001b[0m\u001b[0m\n\u001b[0;32m--> 347\u001b[0;31m                     \u001b[0;32mraise\u001b[0m \u001b[0mValueError\u001b[0m\u001b[0;34m(\u001b[0m\u001b[0;34m\"Can't set e exactly to 1.\"\u001b[0m\u001b[0;34m)\u001b[0m\u001b[0;34m\u001b[0m\u001b[0;34m\u001b[0m\u001b[0m\n\u001b[0m\u001b[1;32m    348\u001b[0m                 \u001b[0;32mif\u001b[0m \u001b[0merr\u001b[0m\u001b[0;34m.\u001b[0m\u001b[0mvalue\u001b[0m \u001b[0;34m==\u001b[0m \u001b[0;36m2\u001b[0m\u001b[0;34m:\u001b[0m\u001b[0;34m\u001b[0m\u001b[0;34m\u001b[0m\u001b[0m\n\u001b[1;32m    349\u001b[0m                     \u001b[0;32mraise\u001b[0m \u001b[0mValueError\u001b[0m\u001b[0;34m(\u001b[0m\u001b[0;34m\"Eccentricity must be greater than or equal to zero.\"\u001b[0m\u001b[0;34m)\u001b[0m\u001b[0;34m\u001b[0m\u001b[0;34m\u001b[0m\u001b[0m\n",
      "\u001b[0;31mValueError\u001b[0m: Can't set e exactly to 1."
     ]
    },
    {
     "data": {
      "image/png": "[encoded data removed]",
      "text/plain": [
       "<Figure size 576x576 with 3 Axes>"
      ]
     },
     "metadata": {
      "needs_background": "light"
     },
     "output_type": "display_data"
    }
   ],
   "source": [
    "import math\n",
    "import numpy as np\n",
    "Mass_syn=1e26#np.sum(synfits.SNAP_CukStewart.m) #Earth mass synestia in kg\n",
    "def drag(reb_sim,m_p,r_p,s_p,rho_g,v_rel):\n",
    "    #drag coefficient is 2 in potential Moon-forming synestias\n",
    "    rho_g=7.15 #kg/m^3 const for now\n",
    "    v_body=(reb_sim.contents.particles[1].vx**2 + reb_sim.contents.particles[1].vy**2 + reb_sim.contents.particles[1].vz**2)**0.5\n",
    "    s=(reb_sim.contents.particles[1].x**2 + reb_sim.contents.particles[1].y**2)**0.5\n",
    "    v_g=0.01*(10.**(0.15599001870969695*np.log10(s) - 1.6401471197424731))*(reb_sim.G*Mass_syn/s)**0.5\n",
    "    v_rel=v_body-v_g\n",
    "    v_gx=-v_g*reb_sim.contents.particles[1].y/s\n",
    "    v_gy=v_g*reb_sim.contents.particles[1].x/s\n",
    "    #assumption: speed of gas in z, v_gz, will be zero for synestia in hydrostatic equilibrium\n",
    "    factor = math.pi*reb_sim.contents.particles[1].r*reb_sim.contents.particles[1].r*rho_g*v_rel/reb_sim.contents.particles[1].m\n",
    "    #eqn 10 https://watermark.silverchair.com/mnras0408-0503.pdf?token=AQECAHi208BE49Ooan9kkhW_Ercy7Dm3ZL_9Cf3qfKAc485ysgAAAm8wggJrBgkqhkiG9w0BBwagggJcMIICWAIBADCCAlEGCSqGSIb3DQEHATAeBglghkgBZQMEAS4wEQQMFNSTkq0m55-Tx_fHAgEQgIICIsVOskUEvv3zIh5JVHQAtOul_IDxzVHLE0hOYLv2U4rQHOrQedz2tMkotsQyIGWi41-zKhvh0lgoaTbJsBuQt54O5O1OMAcO6lKD7MLeYcLXdlekr9DmdhgUvl76sKFYY7HMAe8NTs7i5OcOVGYjpEsagb2NeSy4Swz9VQV8BaOa70Jdg7ntIw5WT5xbcD2M2e5xFO1CE0COiMYUrB0M14iywO2QZcXTXb48x-t5Cl9A6Zg5XSnLqKKAJdC0T4VZSGn5uARx5hvOzVoP8vJslR5a-CPZFYFbze84rLULEnPjR7C1hzjM3i79RtWvwueMXTgAz8pMRsHacJg2HFxINDQCn-2nZwNm_dyCuEnjfHDfsYTj6ktFZ4uXwHn6Qp9lNYQz8vHocNtdIdZNHJb9A4XG4kovC_YYSoZhyYFr2nnASl5LfoOO363nY0sxIM3X5AJ52l5yp_tliMy_eUf4xLnZ2cb6baTHDpcJ0Yk7p8o7VYRW2cl9O5C2523NbQW_rdlEoxop0p_MGEPQeSPIBbNSXezNe-5fJGuuRaZkO5MdsQahShUcbDQ6avXqD2v-GedWV5j3LSG5lREHVdVbVxl-t1xuECmQggHUaYoS47TBbNcOSXA6B9po9aTWHS6nRY_Zi83eZRbzPTSx3OlrsZ44zoNXJKKgWQGWt99_3RamUwWc5kD0C62taguNkgtXfD_X__gbK753ltLwr5Pc1nVpeg\n",
    "    reb_sim.contents.particles[1].ax -= (reb_sim.contents.particles[1].vx - v_gx)*factor\n",
    "    reb_sim.contents.particles[1].ax -= (reb_sim.contents.particles[1].vy - v_gy)*factor\n",
    "    reb_sim.contents.particles[1].ax -= reb_sim.contents.particles[1].vz*factor\n",
    "\n",
    "#def pltdrag(r0,x0,y0,z0)\n",
    "r0=1.\n",
    "x0=10e6\n",
    "y0=10e6\n",
    "z0=0.\n",
    "sim_drag = rebound.Simulation() #start simulation\n",
    "sim_drag.units = ('Hr', 'M', 'Kg') #use SI units\n",
    "sim_drag.integrator = \"ias15\"\n",
    "sim_drag.add(m=Mass_syn) #add central body\n",
    "sim_drag.add(m=1.,r=r0,x=x0,z=z0,vx=0.03,vy=0.03,vz=0) #add moonlet to simulation\n",
    "sim_drag.additional_forces = drag\n",
    "sim_drag.force_is_velocity_dependent = 1\n",
    "sim_drag.exit_min_distance = 7e6 #m\n",
    "fig,ax_main,ax_sub1,ax_sub2 = rebound.OrbitPlot(sim_drag,slices=1,xlim=[-120000000,60000000],ylim=[-60000000,60000000],unitlabel='(m)',color=True)\n",
    "\n",
    "widgets.Dropdown(\n",
    "    options=[('Coarse sand (mm)', 1.e-3),\n",
    "             ('Diameter of a belly button (cm)', 1.e-2),\n",
    "             ('Coconut (dm)', 0.1),\n",
    "             ('Cow (m)', 1.),\n",
    "             ('230 story building (km)', 1.e3),\n",
    "             ('Width of the United States (Mm)', 1.e6),\n",
    "             ('The Moon (3.5 Mm)', 3.5e6)],\n",
    "    value=1,\n",
    "    description='Size (diameter) of moonlet:',\n",
    "    style=style\n",
    ")"
   ]
  },
  {
   "cell_type": "markdown",
   "metadata": {},
   "source": [
    "#CALCULATE KEPLERIAN ORBIT WITH NORMAL GRAVITY\n",
    "import numpy as np\n",
    "import math\n",
    "from ipywidgets import *\n",
    "import matplotlib.pyplot as plt\n",
    "from syndef import synfits\n",
    "from mpl_toolkits.mplot3d import Axes3D\n",
    "from scipy.integrate import odeint,solve_ivp\n",
    "import math\n",
    "\n",
    "G=6.674e-11 #SI\n",
    "Mass_syn=np.sum(synfits.SNAP_CukStewart.m) #kg #Earth mass\n",
    "mu = G*Mass_syn\n",
    "\n",
    "def da_Kep(t,u):\n",
    "    u0 = u[3]\n",
    "    u1 = u[4]\n",
    "    u2 = u[5]\n",
    "    r = np.sqrt(u[0]**2 + u[1]**2 + u[2]**2)\n",
    "    u3 = -(mu/(r**3))*u[0]\n",
    "    u4 = -(mu/(r**3))*u[1]\n",
    "    u5 = -(mu/(r**3))*u[2]  \n",
    "    return [u0,u1,u2,u3,u4,u5]\n",
    "\n",
    "def plt_Kep(x,y,z,n):\n",
    "    #n counter-clockwise orbits\n",
    "    #default starts at (x,y,z)\n",
    "    #with initial velocity (v_x,v_y,v_z)\n",
    "    r = (x**2 + y**2 + z**2)**0.5 #distance from origin of central body (m)\n",
    "    s = (x**2 + y**2)**0.5 #distance from rotational axis (m)\n",
    "    P = ((r**3)*4.*math.pi*math.pi/mu)**0.5 #orbital period (s)\n",
    "    tf = P*n #cumulative time of orbit (s)\n",
    "    vel = np.sqrt(mu/r) #total velocity (m/s)\n",
    "    vx = -vel*y/s #x vel. (m/s)\n",
    "    vy = vel*x/s #y vel. (m/s)\n",
    "    vz = np.sqrt(vel**2 - vx**2 - vy**2) #z vel. (m/s)\n",
    "    soln = solve_ivp(da_Kep,[0.,tf],[x,y,z,vx,vy,vz])\n",
    "    rarr = np.sqrt(soln.y[0]**2 + soln.y[1]**2 + soln.y[2]**2)\n",
    "    varr = np.sqrt(soln.y[3]**2 + soln.y[4]**2 + soln.y[5]**2)\n",
    "\n",
    "    fig = plt.figure(figsize=(8,3))\n",
    "    plot1 = fig.add_subplot(121, projection='3d')\n",
    "    plot1.plot(soln.y[0]/1e6,soln.y[1]/1e6,soln.y[2]/1e6,color='b')\n",
    "    plot1.set_xlabel('x (Mm)')\n",
    "    plot1.set_ylabel('y (Mm)')\n",
    "    plot1.set_zlabel('z (Mm)')\n",
    "    plot2 = fig.add_subplot(122)\n",
    "    plot2.plot(soln.t/3600,rarr/1e6,color='b')\n",
    "    plot2.set_xlabel('time (hr)')\n",
    "    plot2.set_ylabel('radius (Mm)')\n",
    "    plt.tight_layout(w_pad=4)\n",
    "    plt.show()\n",
    "    plt.close()\n",
    "\n",
    "style = {'description_width': 'initial'}\n",
    "layout = {'width': '400px'}\n",
    "interact(plt_Kep,\n",
    "         x=FloatSlider(value=20e6, max=60e6, step=10e6, description='Starting x distance from central body (m)',\n",
    "                        continuous_update=False, readout=True, readout_format='.1f', style=style, layout=layout),\n",
    "         y=FloatSlider(value=0, max=60e6, step=10e6, description='Starting y distance from central body (m)',\n",
    "                        continuous_update=False, readout=True, readout_format='.1f', style=style, layout=layout),\n",
    "         z=FloatSlider(value=0, max=60e6, step=10e6, description='Starting z distance from the midplane (m)',\n",
    "                        continuous_update=False, readout=True, readout_format='.1f', style=style, layout=layout),\n",
    "         n=IntSlider(value=1, min=1, max=100, step=1, description='Number of orbits',\n",
    "                        continuous_update=False, readout=True, readout_format='d', style=style, layout=layout)\n",
    "        )"
   ]
  },
  {
   "cell_type": "markdown",
   "metadata": {},
   "source": [
    "\n",
    "def pltKep(x,y,z,n):\n",
    "    #n counter-clockwise orbits\n",
    "    #default starts at (x,y,z)\n",
    "    #with initial velocity (v_x,v_y,v_z)\n",
    "    t=0. #initial time in seconds\n",
    "    radius = (x**2 + y**2 + z**2)**0.5 #distance from origin of central body (m)\n",
    "    P=((radius**3)*4.*math.pi*math.pi/(G*Mass_syn))**0.5 #orbital period (s)\n",
    "    dt=P/1000. #intial time step (s)\n",
    "    time=P*n #cumulative time of orbit (s)\n",
    "    vel=np.sqrt(G*Mass_syn/radius) #total velocity (m/s)\n",
    "    v_i=np.asarray([[-vel*y/radius],[vel*x/radius],[0.]]) #x,y,z vel. (m/s) as col. vector\n",
    "    v_transform=\n",
    "    v_f=\n",
    "    xarr=[]\n",
    "    yarr=[]\n",
    "    zarr=[]\n",
    "    tarr=[]\n",
    "    xarr.append(x)\n",
    "    yarr.append(y)\n",
    "    zarr.append(z)\n",
    "    tarr.append(t)\n",
    "    while (t < time):\n",
    "        radius = (x**2 + y**2 + z**2)**0.5 #distance from origin of central body (m)\n",
    "        accel_grav=-G*Mass_syn/(radius**3) #total acceleration (m/s^2)\n",
    "        ax=accel_grav*x #x accel. (m/s^2)\n",
    "        ay=accel_grav*y #y accel. (m/s^2)\n",
    "        az=accel_grav*z #z accel. (m/s^2)\n",
    "        vx+=ax*0.5*dt\n",
    "        vy+=ay*0.5*dt\n",
    "        vz+=az*0.5*dt\n",
    "        radius = (x**2 + y**2 + z**2)**0.5 #distance from origin of central body (m)\n",
    "        accel_grav=-G*Mass_syn/(radius**3) #total acceleration (m/s^2)\n",
    "        ax=accel_grav*x #x accel. (m/s^2)\n",
    "        ay=accel_grav*y #y accel. (m/s^2)\n",
    "        az=accel_grav*z #z accel. (m/s^2)\n",
    "        vx+=ax*0.5*dt\n",
    "        vy+=ay*0.5*dt\n",
    "        vz+=az*0.5*dt\n",
    "        x+=vx*dt\n",
    "        y+=vy*dt\n",
    "        z+=vz*dt\n",
    "        t+=dt #scale with velocity to get rid of precession #ask Phil for his\n",
    "        #dt=0.001*vel*P/(vx**2 + vy**2 + vz**2)**0.5\n",
    "        #if dt > dt_max:\n",
    "        #    print(dt)\n",
    "        #    raise KeyboardInterrupt('Error: Time step too large.')\n",
    "        xarr.append(x)\n",
    "        yarr.append(y)\n",
    "        zarr.append(z)\n",
    "        tarr.append(t)\n",
    "    xarr=np.asarray(xarr)\n",
    "    yarr=np.asarray(yarr)\n",
    "    zarr=np.asarray(zarr)\n",
    "    radiusarr=np.sqrt(xarr**2 + yarr**2 + zarr**2)\n",
    "    tarr=np.asarray(tarr)\n",
    "    fig=plt.figure(figsize=(9,3))\n",
    "    plot1 = fig.add_subplot(121, projection='3d')\n",
    "    plot1.plot(xarr,yarr,zarr,color='b')\n",
    "    plot1.set_xlabel('x (m)')\n",
    "    plot1.set_ylabel('y (m)')\n",
    "    plot1.set_zlabel('z (m)')\n",
    "    plot2 = fig.add_subplot(122)\n",
    "    plot2.plot(tarr/3600,radiusarr,color='b')\n",
    "    plot2.set_xlabel('time (hr)')\n",
    "    plot2.set_ylabel('radius (m)')\n",
    "    plt.show()\n",
    "    \n",
    "interact(pltKep,\n",
    "         x=FloatSlider(value=20e6, max=60e6, step=10e6, description='Starting x distance from central body (m)',\n",
    "                        continuous_update=False, readout=True, readout_format='.1f', style=style, layout=layout),\n",
    "         y=FloatSlider(value=0, max=60e6, step=10e6, description='Starting y distance from central body (m)',\n",
    "                        continuous_update=False, readout=True, readout_format='.1f', style=style, layout=layout),\n",
    "         z=FloatSlider(value=0, max=60e6, step=10e6, description='Starting z distance from the midplane (m)',\n",
    "                        continuous_update=False, readout=True, readout_format='.1f', style=style, layout=layout),\n",
    "         n=IntSlider(value=1, min=1, max=100, step=1, description='Number of orbits',\n",
    "                        continuous_update=False, readout=True, readout_format='d', style=style, layout=layout)\n",
    "        )"
   ]
  }
 ],
 "metadata": {
  "kernelspec": {
   "display_name": "Python 3",
   "language": "python",
   "name": "python3"
  },
  "language_info": {
   "codemirror_mode": {
    "name": "ipython",
    "version": 3
   },
   "file_extension": ".py",
   "mimetype": "text/x-python",
   "name": "python",
   "nbconvert_exporter": "python",
   "pygments_lexer": "ipython3",
   "version": "3.6.8"
  }
 },
 "nbformat": 4,
 "nbformat_minor": 2
}
