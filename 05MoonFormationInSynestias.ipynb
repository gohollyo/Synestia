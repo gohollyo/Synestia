{
 "cells": [
  {
   "cell_type": "code",
   "execution_count": null,
   "metadata": {},
   "outputs": [],
   "source": [
    "#hide cells with html: see JupyterBook\n",
    "#extension cell tags\n",
    "#break down forces operating on particles\n",
    "#Link to index -> manual short way of navigating around\n",
    "#multiple short pages\n",
    "#anchor index\n",
    "#table of contents in different places\n",
    "#may open new pages -- annoying; book helps but doesn't have interactivity\n",
    "#be able to go on to next section\n",
    "#html versions of everything: don't have to have python to open jupyter notebook\n",
    "#shows what you want to show, export, download as html"
   ]
  },
  {
   "cell_type": "markdown",
   "metadata": {},
   "source": [
    "# Gas Drag in Synestias"
   ]
  },
  {
   "cell_type": "markdown",
   "metadata": {},
   "source": [
    "There is a great deal of silicate vapor (also referred to as gas) in the moon-forming region of a synestia. Before a moon can coalesce out of a synestia, the smaller building blocks of a moon, moonlets (also called condensates and liquid droplets), must condense out of the cooled vapor in a synestia. Similarly, before a puddle can be pool on Earth's surface, water vapor must condense in Earth's atmosphere and rain to the surface.\n",
    "\n",
    "Once a parcel of gas from the synestia condenses into a liquid droplet, that parcel is no longer coupled to its fellow gas parcels. The surrounding gas cannot support the condensate. The moonlet loses pressure support from the surrounding gas and begins to fall towards the midplane (z = 0), pulled by gravitational forces. As the droplet falls, it passes through gas, which imparts a drag on the moonlet and causes the droplet to slow down and lose angular velocity. The orbit of the moonlets will decay over time in accord with the strength of the gas drag acceleration.\n",
    "\n",
    "Will this droplet make it to the midplane and help form a moon? Will this droplet re-vaporize? Or will this droplet be lost to the planet-like central region of the synestia? To answer this, we need to know how strong the gas drag force is. What affects the strength of gas drag?"
   ]
  },
  {
   "cell_type": "markdown",
   "metadata": {},
   "source": [
    "## Gas Drag Equation"
   ]
  },
  {
   "cell_type": "code",
   "execution_count": null,
   "metadata": {},
   "outputs": [],
   "source": [
    "#INSERT DIAGRAM HERE"
   ]
  },
  {
   "cell_type": "markdown",
   "metadata": {},
   "source": [
    "Let's get a sense for the magnitude of gas drag acceleration that we're dealing with. It is assumed that the moonlets experience a simple gas drag (known as laminar flow). The equation is as follows:\n",
    "$$a_{drag}=\\frac{C_D\\ A \\ \\rho_{gas} \\ (u_{gas} - u_{body})^2}{2 \\ m_{body}}$$"
   ]
  },
  {
   "cell_type": "markdown",
   "metadata": {},
   "source": [
    "Simple gas drag acceleration a$_{drag}$ is dependent on:\n",
    "the gas with density $\\rho_{gas}$ that drags a body of mass $m_{body}$, the cross sectional area A of the body that the gas is interacting with (typically we assume solar system bodies are spherical, so they would have a circular cross section), the gas drag coefficient C$_D$ (what thermal regime we are in), and the relative velocity between the gas and the body being dragged u$_{gas}$-u$_{body}$. If the body were traveling at the same speed and in the same direction as the gas surrounding it, it wouldn't matter how fast the body was traveling, there would be no gas drag acting on the body. The differential between the speeds is what affects the gas drag's magnitude the most. Note that if the body is traveling at the same speed of the gas but in the <i>opposite direction</i>, gas drag <i>would</i> act on the body.\n",
    "\n",
    "The gas drag acceleration is output in units of m/s$^2$, but for a more intuitive idea of how strong these accelerations are, see the different accelerations you may encounter on Earth displayed below the plot. They are output in terms of 'g' where 1 g = 9.8 m/s$^2$. In other words, 1 g is the gravitational acceleration here on (the surface of) Earth. These are next to various speeds in m/s for reference to the speed of each relative velocity."
   ]
  },
  {
   "cell_type": "code",
   "execution_count": 1,
   "metadata": {},
   "outputs": [
    {
     "data": {
      "application/vnd.jupyter.widget-view+json": {
       "model_id": "bba42dc3d1b0440e9cf4900da07aae85",
       "version_major": 2,
       "version_minor": 0
      },
      "text/plain": [
       "interactive(children=(FloatLogSlider(value=1.0, description='Size of moonlet (m)', layout=Layout(width='400px'…"
      ]
     },
     "metadata": {},
     "output_type": "display_data"
    },
    {
     "data": {
      "application/vnd.jupyter.widget-view+json": {
       "model_id": "cf79df586a5a47838cbcad9e934d4ca2",
       "version_major": 2,
       "version_minor": 0
      },
      "text/plain": [
       "HBox(children=(VBox(children=(Label(value='on board space shuttle ISS'), Label(value='elevator headed up'), La…"
      ]
     },
     "metadata": {},
     "output_type": "display_data"
    }
   ],
   "source": [
    "import numpy as np\n",
    "import math\n",
    "from ipywidgets import *\n",
    "import matplotlib.pyplot as plt\n",
    "\n",
    "v_rel = np.arange(0.0, 300., 1.) #relative velocity between gas and body in m/s\n",
    "Moon_density = 3300. #lunar density in kg/m3; 3.3 g/cc\n",
    "gas_density0 = 1000. #kg/m^3 VERY dense gas in midplane\n",
    "gas_density1 = 10. #kg/m^3 average gas in midplane at larger radii \n",
    "gas_density2 = .1 #kg/m^3 less dense gas (photosphere)\n",
    "\n",
    "def pltdrag(rad_body, C_D, dens_gas):\n",
    "    mass_body = Moon_density*(4./3.)*math.pi*(rad_body**3) #mass of body in kg; assume spherical body (and spherical cross section)\n",
    "    a_drag = 0.5*C_D*math.pi*(rad_body**2)*dens_gas*(v_rel**2)/mass_body #acceleration imparted on body due to gas drag in m/s2\n",
    "    plt.plot(v_rel, a_drag)\n",
    "    plt.xlabel('velocity of the gas relative to the velocity of the moonlet (m/s)')\n",
    "    plt.ylabel('gas drag acceleration (m/s$^2$)')\n",
    "    plt.show()\n",
    "    plt.close()\n",
    "\n",
    "#PLOT ACCELERATION RELATIVE TO SOMETHING ELSE (g's, roller coasters, astronauts, etc.)    \n",
    "#RELATIVE SCALE IN GENERAL: how big the moonlets are (marble, golf ball, grain of sand, yoga ball, soccer field, etc.), how fast the relative and absolute velocity is\n",
    "#MAYBE THIS SHOULD BE PRINTED OUTPUT?    \n",
    "style = {'description_width': 'initial'}\n",
    "layout = {'width': '400px'}\n",
    "%matplotlib inline\n",
    "interact(pltdrag, rad_body=FloatLogSlider(value=1, base=10, min=-3, max=6, step=1, description='Size of moonlet (m)', style=style, layout=layout),\n",
    "         C_D=FloatSlider(value=2, min=0, max=2.5, step=0.5, description='Gas drag coefficient C$_D$ (-)', continuous_update=False, readout=True, readout_format='.1f', style=style, layout=layout),\n",
    "         dens_gas=FloatLogSlider(value=1, base=10, min=-3, max=3, step=1, description='Gas density (kg/m$^3$)', style=style, layout=layout)\n",
    "        )\n",
    "\n",
    "#acceleration in terms of what we experience on Earth\n",
    "accel_label=['on board space shuttle ISS','elevator headed up','gravitational pull on surface of Earth','roller coaster launch','space shuttle launch, gravitron amusement ride','top of roller coaster loop','maximum heavy braking on Formula One Car','maximum acceleration permitted on piloted planes','hard slap to the face, car crash','shock capacity of mechanical wrist watch','Mantis Shrimp claw strike','proton in Large Hadron Collider']\n",
    "accel_g=['1e-6 g','0.2 g','1 g','1.5 g','3 g','5 g','6.3 g','10 g','100 g','5000 g','10400 g','190000000 g']\n",
    "left_box0=widgets.VBox([widgets.Label(str(i)) for i in accel_label])\n",
    "right_box0=widgets.VBox([widgets.Label(str(i)) for i in accel_g])\n",
    "\n",
    "#velocity in terms of what we experience on Earth\n",
    "vel_label=['Walking','Biking','Usain Bolt sprinting','Train','Car moving 100 mph (160 km/h)','Helicopter','Commerical airplane','Speed of sound in air (sound barrier)']\n",
    "vel_ms=['1.5 m/s','4.5 m/s','12.5 m/s','27 m/s','45 m/s','70 m/s','220 m/s','343 m/s']\n",
    "left_box1=widgets.VBox([widgets.Label(str(i)) for i in vel_label])\n",
    "right_box1=widgets.VBox([widgets.Label(str(i)) for i in vel_ms])\n",
    "\n",
    "widgets.HBox([left_box0,right_box0,left_box1,right_box1])"
   ]
  },
  {
   "cell_type": "markdown",
   "metadata": {},
   "source": [
    "As expected, for the same gas field, gas drag acceleration is greater when the mass of the moonlet is smaller and the gas drag coefficient and relative velocity are larger. Gas drag will be stronger in a more dense gas field.\n",
    "\n",
    "Now, we would like to see how this gas drag affects how a single moonlet travels through the vapor in a synestia. For comparison, here is a plot of the orbit without the gas drag. The second plot shows the initial setup of the first plot with the addition of gas drag.\n",
    "\n",
    "In the first plot, you can see how a moon travels when only a synestia's gravity (first and second order) is at play, so that we have a baseline to compare to. The oblateness of a synestia's gravity field is non-negligible. A synestia's gravity field has extra gravitational acceleration closest to both the midplane and center of a synestia due to the oblateness of a synestia. Notice how any orbits off the midplane are affected by the J$_2$ term in a synestia's gravity. The orbit of a moonlet within the gravity field of an Earth-mass synestia is shown below. The equivalent Keplerian orbit (first order gravity only) is shown for reference.\n",
    "\n",
    "In the second plot, you can see how the gas drag significantly decays and circularizes the orbit of the moonlet over time. In order to form a moon, these moonlets must survive long enough to collide and grow into a large enough body that is not heavily affected by gas drag and will remain in orbit around the synestia without breaking up from tidal forces. Otherwise, the masses of the moonlets will be added to the center of a synestia (extends to about 7,000-10,000 km) and lost to the moon-forming region of a synestia.\n",
    "\n",
    "When a moonlet is formed, it will condense as a droplet at the photosphere (where the vapor saturates and has a pressure that lies on the vapor dome; think of this as the \"cloud line\"). Pressure from the surrounding gas will no longer be able to buoy the now dense droplet at its current height, so it will fall towards the midplane, pulled by gravity. The moon will oscillate near the midplane until it equilibrates; this should happen relatively quickly. Bigger moons are formed in the midplane, because they grow from colliding with other moonlets that reach the midplane.\n",
    "\n",
    "You will have four options in the interactives below. You will be able to initialize the moonlet at the photosphere or in the midplane. You can control the size of the moonlets, though it is more likely for smaller mass moonlets (roughly cm-sized) to form at the photosphere and for moonlets in the midplane to be more massive (due to the addition of moonlets raining from the photosphere). In potential Moon-forming synestias, the gas drag coefficient is 2 (has a minimal effect on the gas drag magnitude anyways), so this has been set for you. The velocity of the moonlet and the surrounding gas will be calculated according to what is expected in a typical Moon-forming synestia, so you won't have control over these either. However, you will have control of the gas density gradient and be able to change how quickly density decreases radially and off the midplane."
   ]
  },
  {
   "cell_type": "code",
   "execution_count": 2,
   "metadata": {},
   "outputs": [
    {
     "data": {
      "application/vnd.jupyter.widget-view+json": {
       "model_id": "1e6fbaf18c3a4a2db9cc8709e8d5d783",
       "version_major": 2,
       "version_minor": 0
      },
      "text/plain": [
       "interactive(children=(FloatSlider(value=1.0, continuous_update=False, description='Body radius of moonlet (m)'…"
      ]
     },
     "metadata": {},
     "output_type": "display_data"
    },
    {
     "data": {
      "text/plain": [
       "<function __main__.pltJ2(rad_moon, sma, i, ecc)>"
      ]
     },
     "execution_count": 2,
     "metadata": {},
     "output_type": "execute_result"
    }
   ],
   "source": [
    "#J2 gravity orbits\n",
    "#put with gas drag, so can compare side-by-side\n",
    "import rebound\n",
    "from syndef import synfits #import synestia snapshot (impact database)\n",
    "\n",
    "#G=6.674e-11 #gravitational constant in SI\n",
    "Mass_syn=np.sum(synfits.SNAP_CukStewart.m) #Earth mass synestia in kg\n",
    "dens=3300. #kg/m^3 lunar density\n",
    "\n",
    "def pltKep(rad_moon,sma,i,ecc):\n",
    "    #rad_moon is the bodily radius of the moon\n",
    "    #i is the inclination of the moon's orbital plane\n",
    "    #sma is the semi-major axis of the moon's orbit\n",
    "    #ecc is the eccentricity of the moon's orbit\n",
    "    m_moon = 4.*math.pi*dens*(rad_moon**3)/3.\n",
    "    sim = rebound.Simulation() #start simulation\n",
    "    sim.units = ('Hr', 'M', 'Kg') #use SI units\n",
    "    sim.add(m=Mass_syn) #add central body\n",
    "    sim.add(m=m_moon,a=sma,inc=i,e=ecc)\n",
    "    fig,ax_main,ax_sub1,ax_sub2 = rebound.OrbitPlot(sim,slices=1,xlim=[-120000000,60000000],ylim=[-60000000,60000000],unitlabel='(m)')\n",
    "\n",
    "J2Ma2 = synfits.SNAP_Canup.J2Ma2\n",
    "def J2(reb_sim):\n",
    "    ps = reb_sim.particles\n",
    "    r_orb = (ps[1].x**2 + ps[1].y**2 + ps[1].z**2)**0.5\n",
    "    costheta = ps[1].z/r_orb\n",
    "    grav2 = 3.0*reb_sim.G*J2Ma2*(r_orb**(-5))\n",
    "    ps[1].ax -= ps[1].x*grav2*( 2.5*costheta*costheta - 0.5 )\n",
    "    ps[1].ay -= ps[1].y*grav2*( 2.5*costheta*costheta - 0.5 )\n",
    "    ps[1].az -= ps[1].z*grav2*( 2.5*costheta*costheta - 1.5 )\n",
    "\n",
    "from rebound.plotting import fading_line\n",
    "def pltJ2(rad_moon,sma,i,ecc):\n",
    "        #rad_moon is the bodily radius of the moon\n",
    "    #i is the inclination of the moon's orbital plane\n",
    "    #sma is the semi-major axis of the moon's orbit\n",
    "    #ecc is the eccentricity of the moon's orbit\n",
    "    m_moon = 4.*math.pi*dens*(rad_moon**3)/3.\n",
    "    sim_kep = rebound.Simulation() #start simulation\n",
    "    sim_kep.units = ('Hr', 'M', 'Kg') #use SI units\n",
    "    sim_kep.add(m=Mass_syn) #add central body\n",
    "    sim_kep.add(m=m_moon,a=sma,inc=i,e=ecc)\n",
    "    ps_kep = sim_kep.particles\n",
    "    kep_moon = ps_kep[1]\n",
    "    kep_orbit = np.asarray(kep_moon.sample_orbit())\n",
    "    sim_j2 = rebound.Simulation() #start simulation\n",
    "    sim_j2.units = ('Hr', 'M', 'Kg') #use SI units\n",
    "    sim_j2.add(m=Mass_syn) #add central body\n",
    "    sim_j2.add(m=m_moon,a=sma,inc=i,e=ecc)\n",
    "    sim_j2.additional_forces = J2\n",
    "    ps_j2 = sim_j2.particles\n",
    "    j2_moon = ps_j2[1]\n",
    "    j2_orbit = np.asarray(j2_moon.sample_orbit())\n",
    "    print(kep_orbit-j2_orbit)\n",
    "    fig,ax_main,ax_sub1,ax_sub2 = rebound.OrbitPlot(sim_j2,slices=1,xlim=[-120000000,60000000],ylim=[-60000000,60000000],unitlabel='(m)',color=True)\n",
    "    lc_main = fading_line(kep_orbit[:,0], kep_orbit[:,1], linewidth=1)\n",
    "    lc_sub1 = fading_line(kep_orbit[:,0], kep_orbit[:,2], linewidth=1)\n",
    "    lc_sub2 = fading_line(kep_orbit[:,2], kep_orbit[:,1], linewidth=1)\n",
    "    ax_main.add_collection(lc_main)\n",
    "    ax_sub1.add_collection(lc_sub1)\n",
    "    ax_sub2.add_collection(lc_sub2)\n",
    "    \n",
    "style = {'description_width': 'initial'}\n",
    "layout = {'width': '400px'}\n",
    "interact(pltJ2,\n",
    "         rad_moon=FloatSlider(value=1, min=1, max=100, step=10, description='Body radius of moonlet (m)',\n",
    "                            continuous_update=False, readout=True, readout_format='.1f', style=style, layout=layout),\n",
    "         sma=FloatSlider(value=20e6, min=10e6, max=60e6, step=10e6, description='Semi-major axis (m)',\n",
    "                        continuous_update=False, readout=True, readout_format='.1f', style=style, layout=layout),\n",
    "         i=FloatSlider(value=0, max=2.*math.pi, step=0.2, description='Inclination of orbit (radians)',\n",
    "                        continuous_update=False, readout=True, readout_format='.1f', style=style, layout=layout),\n",
    "         ecc=FloatSlider(value=0, max=0.9, step=0.1, description='Eccentricity of orbit (unitless)',\n",
    "                        continuous_update=False, readout=True, readout_format='.1f', style=style, layout=layout),\n",
    "         )"
   ]
  },
  {
   "cell_type": "markdown",
   "metadata": {},
   "source": [
    "The corresponding decay timescales are plotted above as well."
   ]
  },
  {
   "cell_type": "markdown",
   "metadata": {},
   "source": [
    "### Decaying Orbits: moonlets dragged by gas in a synestia"
   ]
  },
  {
   "cell_type": "code",
   "execution_count": 6,
   "metadata": {},
   "outputs": [
    {
     "name": "stdout",
     "output_type": "stream",
     "text": [
      "(array([-8.26574375,  9.96048902]), array([278.17297995,   2.15924492,  39.76840567,  -3.88688993]), array([-7.91553001e-01,  3.05671328e+00,  1.93376945e+04, -5.70251828e-01]))\n"
     ]
    }
   ],
   "source": [
    "from syndef import synfits #import synestia snapshot (impact database)\n",
    "print(synfits.SNAP_Canup.rhomidfit)\n",
    "#print(synfits.SNAP_CukStewart.rhomidfit)\n",
    "#print(synfits.SNAP_Quintana.rhomidfit)"
   ]
  },
  {
   "cell_type": "code",
   "execution_count": 7,
   "metadata": {},
   "outputs": [
    {
     "data": {
      "image/png": "[encoded data removed]",
      "text/plain": [
       "<Figure size 432x288 with 1 Axes>"
      ]
     },
     "metadata": {
      "needs_background": "light"
     },
     "output_type": "display_data"
    }
   ],
   "source": [
    "#from syndef import synfits #import synestia snapshot (impact database)\n",
    "rxy=np.log10(np.linspace(7e6,60e6,100)/1e6)\n",
    "y=np.zeros(np.shape(rxy))\n",
    "#print(synfits.SNAP_Canup.rhomidfit)\n",
    "#print(synfits.SNAP_CukStewart.rhomidfit)\n",
    "#print(synfits.SNAP_Quintana.rhomidfit)\n",
    "rho1=synfits.resfuncspl(synfits.SNAP_Canup.rhomidfit[1],rxy,y)\n",
    "snaprho=np.log10(synfits.SNAP_Canup.rho[synfits.SNAP_Canup.ind_outer_mid])\n",
    "snaprxy=np.log10(synfits.SNAP_Canup.rxy[synfits.SNAP_Canup.ind_outer_mid]/1e6)\n",
    "plt.figure()\n",
    "plt.plot(rxy,rho1,'b')\n",
    "plt.plot(snaprxy,snaprho,'r')\n",
    "plt.xlabel('log r$_{xy}$ (Mm)')\n",
    "plt.ylabel('log midplane density (kg/m$^3$)')\n",
    "plt.show()\n",
    "plt.close()"
   ]
  },
  {
   "cell_type": "code",
   "execution_count": 31,
   "metadata": {},
   "outputs": [
    {
     "data": {
      "application/vnd.jupyter.widget-view+json": {
       "model_id": "04236ba16f1947829c472aac06510335",
       "version_major": 2,
       "version_minor": 0
      },
      "text/plain": [
       "Dropdown(description='Size (diameter) of moonlet:', index=3, options=(('Coarse sand (mm)', 0.001), ('Diameter …"
      ]
     },
     "metadata": {},
     "output_type": "display_data"
    },
    {
     "data": {
      "image/png": "[encoded data removed]",
      "text/plain": [
       "<Figure size 576x576 with 3 Axes>"
      ]
     },
     "metadata": {
      "needs_background": "light"
     },
     "output_type": "display_data"
    }
   ],
   "source": [
    "import math\n",
    "import numpy as np\n",
    "Mass_syn=np.sum(synfits.SNAP_CukStewart.m) #Earth mass synestia in kg\n",
    "def drag(reb_sim):\n",
    "    #drag coefficient is 2 in potential Moon-forming synestias\n",
    "    ps=reb_sim.particles\n",
    "    v_body=(ps[1].vx**2 + ps[1].vy**2 + ps[1].vz**2)**0.5\n",
    "    s=(ps[1].x**2 + ps[1].y**2)**0.5\n",
    "    rho_g=1000.*np.exp(-s/10e6)*np.exp(-z/10e6) #kg/m^3\n",
    "    v_g=0.95*(reb_sim.G*Mass_syn/s)**0.5#(10.**(0.15599001870969695*np.log10(s) - 1.6401471197424731))*((reb_sim.G*Mass_syn/s)**0.5)\n",
    "    v_rel=v_body-v_g\n",
    "    v_gx=-v_g*ps[1].y/s\n",
    "    v_gy=v_g*ps[1].x/s\n",
    "    #assumption: speed of gas in z, v_gz, will be zero for synestia in hydrostatic equilibrium\n",
    "    factor = math.pi*ps[1].r*ps[1].r*rho_g*v_rel/ps[1].m\n",
    "    #eqn 10 https://watermark.silverchair.com/mnras0408-0503.pdf?token=AQECAHi208BE49Ooan9kkhW_Ercy7Dm3ZL_9Cf3qfKAc485ysgAAAm8wggJrBgkqhkiG9w0BBwagggJcMIICWAIBADCCAlEGCSqGSIb3DQEHATAeBglghkgBZQMEAS4wEQQMFNSTkq0m55-Tx_fHAgEQgIICIsVOskUEvv3zIh5JVHQAtOul_IDxzVHLE0hOYLv2U4rQHOrQedz2tMkotsQyIGWi41-zKhvh0lgoaTbJsBuQt54O5O1OMAcO6lKD7MLeYcLXdlekr9DmdhgUvl76sKFYY7HMAe8NTs7i5OcOVGYjpEsagb2NeSy4Swz9VQV8BaOa70Jdg7ntIw5WT5xbcD2M2e5xFO1CE0COiMYUrB0M14iywO2QZcXTXb48x-t5Cl9A6Zg5XSnLqKKAJdC0T4VZSGn5uARx5hvOzVoP8vJslR5a-CPZFYFbze84rLULEnPjR7C1hzjM3i79RtWvwueMXTgAz8pMRsHacJg2HFxINDQCn-2nZwNm_dyCuEnjfHDfsYTj6ktFZ4uXwHn6Qp9lNYQz8vHocNtdIdZNHJb9A4XG4kovC_YYSoZhyYFr2nnASl5LfoOO363nY0sxIM3X5AJ52l5yp_tliMy_eUf4xLnZ2cb6baTHDpcJ0Yk7p8o7VYRW2cl9O5C2523NbQW_rdlEoxop0p_MGEPQeSPIBbNSXezNe-5fJGuuRaZkO5MdsQahShUcbDQ6avXqD2v-GedWV5j3LSG5lREHVdVbVxl-t1xuECmQggHUaYoS47TBbNcOSXA6B9po9aTWHS6nRY_Zi83eZRbzPTSx3OlrsZ44zoNXJKKgWQGWt99_3RamUwWc5kD0C62taguNkgtXfD_X__gbK753ltLwr5Pc1nVpeg\n",
    "    ps[1].ax -= (ps[1].vx - v_gx)*factor\n",
    "    ps[1].ax -= (ps[1].vy - v_gy)*factor\n",
    "    ps[1].ax -= ps[1].vz*factor\n",
    "\n",
    "#def pltdrag(r0,x0,y0,z0)\n",
    "G_hr=(6.674e-11)*(3600**2) #gravitational constant converted to m^3 kg^-1 hr^-2\n",
    "r0=1e3 #m\n",
    "m0=4.*math.pi*dens*(r0**3)/3. #kg\n",
    "x0=20e6\n",
    "y0=0\n",
    "z0=30e6\n",
    "s0=(x0**2 + y0**2)**0.5\n",
    "v_gas=0.95*(G_hr*Mass_syn/s0)**0.5#0.01*(10.**(0.15599001870969695*np.log10(s0) - 1.6401471197424731))*((G_hr*Mass_syn/s0)**0.5)\n",
    "vx0=-v_gas*y0/s0\n",
    "vy0=v_gas*x0/s0\n",
    "sim_drag = rebound.Simulation() #start simulation\n",
    "sim_drag.units = ('Hr', 'M', 'Kg') #use SI units\n",
    "sim_drag.integrator = \"ias15\"\n",
    "sim_drag.add(m=Mass_syn) #add central body\n",
    "sim_drag.add(m=m0,r=r0) #add moonlet to simulation\n",
    "ps_drag = sim_drag.particles\n",
    "ps_drag[1].x=x0\n",
    "ps_drag[1].y=y0\n",
    "ps_drag[1].z=z0\n",
    "ps_drag[1].vx=vx0\n",
    "ps_drag[1].vy=vy0\n",
    "ps_drag[1].vz=0\n",
    "sim_drag.additional_forces = drag\n",
    "sim_drag.force_is_velocity_dependent = 1\n",
    "sim_drag.exit_min_distance = 7e6 #m\n",
    "fig,ax_main,ax_sub1,ax_sub2 = rebound.OrbitPlot(sim_drag,slices=1,xlim=[-120000000,60000000],ylim=[-60000000,60000000],unitlabel='(m)',color=True)\n",
    "\n",
    "widgets.Dropdown(\n",
    "    options=[('Coarse sand (mm)', 1.e-3),\n",
    "             ('Diameter of a belly button (cm)', 1.e-2),\n",
    "             ('Coconut (dm)', 0.1),\n",
    "             ('Cow (m)', 1.),\n",
    "             ('230 story building (km)', 1.e3),\n",
    "             ('Width of the United States (Mm)', 1.e6),\n",
    "             ('The Moon (3.5 Mm)', 3.5e6)],\n",
    "    value=1,\n",
    "    description='Size (diameter) of moonlet:',\n",
    "    style=style\n",
    ")"
   ]
  },
  {
   "cell_type": "markdown",
   "metadata": {},
   "source": [
    "When a moonlet condenses out of a synestia, it will lose pressure support, but it will initially have the same velocity as the gas around it. The gas is moving at just below Keplerian velocities with zero velocity in z.\n",
    "\n",
    "If a moonlet condenses in the midplane, its motion within the midplane will be very nearly circular. There is not much of a difference between the gas and the moonlet's speed initially or in time. Any follow-up attempts by gravity to stabilize the moonlet after losing pressure support are minimal in this case (the velocities of the moonlet will not change very much), so gas drag doesn't affect the motion of the moonlet heavily.\n",
    "\n",
    "However, if a droplet condenses off the midplane, gravity accelerates the moonlet towards the midplane, creating a large velocity differential between the gas (zero velocity in z) and the moonlet. Gas drag will perturb the orbit, resulting in an elliptical orbit. The higher off the midplane and closer to the central body the droplet is, the more elliptical the orbit. The moonlet will approach the central body closely on one side of the orbit (nearest approach).\n",
    "\n",
    "The location of the moon's nearest approach will travel closer to the central body with time. Eventually, the moonlet will travel close enough to the central body that it will become a part of the interior (planet-like center) of a synestia. In this particular case, that distance is 7e6 m. The simulation ends when the moonlet reaches this point. The time it takes the moonlet to reach this distance is called the decay time. The shorter the decay time, the faster the moonlet decays and the shorter survival time the moonlet has.\n",
    "\n",
    "Based on the fastest accretion time in moon formation simulations, the minimum time in which a Moon-mass could grow within an Earth-mass synestia is 10 years. Compared to this, a single moonlet could survive <b>INSERT RESULTS HERE</b>. It's important to note that a single moonlet within a synestia is not alone. There are many droplets condensing out of the photosphere at once, which creates a nearly continuous torrential downpour of rock rain as the synestia cools. These moonlets will collide with one another and grow. How quickly the moonlets combine into larger masses relative to the decay of their orbits via gas drag is what will dictate whether a lunar mass could survive. <b>INSERT MASS GROWTH CURVE HERE?</b>\n",
    "\n",
    "There is another factor as well. As a droplet descends into a synestia, the temperature and pressure of the gas surrounding the droplet will increase, with maximum temperature and pressure values at the midplane. A droplet must also combat vaporization in order to provide liquid material for the moon to grow from. This is a bit more complicated considering there are interactions with other droplets occurring, which may involve thermal buffering (some droplets at lower z act as shields and provide temperature buffers for the droplets behind them at greater z). I will not explore the effects of vaporization here but keep it in mind as you evaluate the decay times."
   ]
  },
  {
   "cell_type": "code",
   "execution_count": null,
   "metadata": {},
   "outputs": [],
   "source": [
    "#need to integrate over time, perhaps that should be in implications??\n",
    "#why doesn't changing the mass affect the gas drag?\n",
    "#need to work on density function and gas velocity function (% of sub-Keplerian)"
   ]
  }
 ],
 "metadata": {
  "kernelspec": {
   "display_name": "Python 3",
   "language": "python",
   "name": "python3"
  },
  "language_info": {
   "codemirror_mode": {
    "name": "ipython",
    "version": 3
   },
   "file_extension": ".py",
   "mimetype": "text/x-python",
   "name": "python",
   "nbconvert_exporter": "python",
   "pygments_lexer": "ipython3",
   "version": "3.6.8"
  }
 },
 "nbformat": 4,
 "nbformat_minor": 2
}
