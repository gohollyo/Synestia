{
 "cells": [
  {
   "cell_type": "markdown",
   "metadata": {},
   "source": [
    "# What happens to a synestia over time?"
   ]
  },
  {
   "cell_type": "markdown",
   "metadata": {},
   "source": [
    "What I have shown you in the what a synestia looks like, physical characteristics, sections comprises the internal dynamics and structure of a synestia a couple of days after the synestia-forming giant impact.\n",
    "\n",
    "However, a synestia is not a static body. Unlike the Earth, a synestia's shape will drastically evolve with time.\n",
    "\n",
    "The photosphere of a synestia, the optically thin layer enveloping a synestia, is in contact with cold (200 K?), vacuum-like space. The photosphere (the surface where vapor saturates and is able to condense, think of it as a synsetia's cloud layer) will radiate away heat, causing the outer layers of vapor to condense into rock rain.\n",
    "\n",
    "A synestia's shape will remain flared (disk-like) for some time. (However, the shape of a synestia will evolve drastically over time as its hot rock vapor radiates heat into space.)\n",
    "\n",
    "As a synestia continues to shrink and condense with its outer edged truncating with time, eventually, a synestia will cool and shrink to a more spherical shape and transition into a rapidly rotating, molten planet. Since the planet is rapidly rotating, it will have a bulge around its equator; we describe taking on an ellipsoidal shape as oblate.\n",
    "\n",
    "This transition is quick relative to geological timescales; it can be on the order of 10's of years."
   ]
  },
  {
   "cell_type": "code",
   "execution_count": null,
   "metadata": {},
   "outputs": [],
   "source": [
    "#TIME EVOLUTION OF SYNESTIA #movie"
   ]
  },
  {
   "cell_type": "code",
   "execution_count": null,
   "metadata": {},
   "outputs": [],
   "source": [
    "#html anchor tag: jump to another cell"
   ]
  }
 ],
 "metadata": {
  "kernelspec": {
   "display_name": "Python 3",
   "language": "python",
   "name": "python3"
  },
  "language_info": {
   "codemirror_mode": {
    "name": "ipython",
    "version": 3
   },
   "file_extension": ".py",
   "mimetype": "text/x-python",
   "name": "python",
   "nbconvert_exporter": "python",
   "pygments_lexer": "ipython3",
   "version": "3.6.8"
  }
 },
 "nbformat": 4,
 "nbformat_minor": 2
}
