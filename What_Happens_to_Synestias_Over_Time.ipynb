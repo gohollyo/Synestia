{
 "cells": [
  {
   "cell_type": "markdown",
   "metadata": {},
   "source": [
    "# What happens to a synestia over time?"
   ]
  },
  {
   "cell_type": "markdown",
   "metadata": {},
   "source": [
    "What I have shown you is what the internal dynamics and structure of a synestia is a couple of days after the giant impact that formed it. A synestia is not a static body. Unlike the Earth, a synestia's shape will drastically evolve with time. The photosphere of a synestia, the optically thin layer enveloping a synestia, is in contact with cold, vacuum-like space. The photosphere will radiate away heat, causing the outer layers of vapor to condense into rock rain. its shape will remain spherical for some time. (However, the shape of s synestia will evolve drastically over time as its hot rock vapor radiates heat into space.) Eventually, a synestia will shrink and condense, with its outer edge truncating with time. It will cool and shrink and eventually transition into a rapidly rotating planet."
   ]
  },
  {
   "cell_type": "code",
   "execution_count": null,
   "metadata": {},
   "outputs": [],
   "source": [
    "#TIME EVOLUTION OF SYNESTIA #movie"
   ]
  },
  {
   "cell_type": "code",
   "execution_count": null,
   "metadata": {},
   "outputs": [],
   "source": [
    "#html anchor tag: jump to another cell"
   ]
  }
 ],
 "metadata": {
  "kernelspec": {
   "display_name": "Python 3",
   "language": "python",
   "name": "python3"
  },
  "language_info": {
   "codemirror_mode": {
    "name": "ipython",
    "version": 3
   },
   "file_extension": ".py",
   "mimetype": "text/x-python",
   "name": "python",
   "nbconvert_exporter": "python",
   "pygments_lexer": "ipython3",
   "version": "3.6.8"
  }
 },
 "nbformat": 4,
 "nbformat_minor": 2
}
