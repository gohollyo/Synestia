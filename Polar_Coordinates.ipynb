{
 "cells": [
  {
   "cell_type": "markdown",
   "metadata": {},
   "source": [
    "Typically, we are used to dealing with xyz positions in three-dimensional space. It is easy to understand objects in terms of their x, y, and z dimensions (width, height, and depth, for example). The xyz coordinate system is what is known as Cartesian coordinates.\n",
    "\n",
    "However, it is not always easy to describe objects with Cartesian coordinates. For example, it is not intuitive to describe a sphere in terms of its xyz coordinates (would you know whether a certain location was on the surface or interior of a sphere based on an xyz coordinate?). It is much easier to describe a location on a sphere using a radius (the distance from the center of the object to the location) and angles (is the location on the back or the front of the sphere? Is the location on top or on bottom of the sphere?). The coordinate system that uses radii and angles to describe locations in space is called polar coordinates.\n",
    "\n",
    "Polar coordinates use r, $\\theta$, and $\\phi$."
   ]
  },
  {
   "cell_type": "code",
   "execution_count": null,
   "metadata": {},
   "outputs": [],
   "source": [
    "#diagram"
   ]
  },
  {
   "cell_type": "markdown",
   "metadata": {},
   "source": [
    "Radius r is the distance from the center of an object, or the origin (0,0,0) of the xyz axes, to a point in three-dimensional space. The radius is equal to $\\sqrt{x^2 + y^2 + z^2}$. On Earth, this would describe whether someone were on an airplane (above the surface) or on the surface (would vary depending on elevation, i.e. mountain, sea level, or scuba diving in the ocean).\n",
    "\n",
    "Theta $\\theta$ is the angle between the midplane (z = 0; perpendicular to rotational axis) and the radius. Theta is related to z via $z=rsin\\theta$. In other words, theta describes how far from the midplane and in what direction off the midplane a location is. In relation to Earth, theta would describe whether someone is in the Northern or Southern Hemisphere and in which latitude.\n",
    "\n",
    "Phi $\\phi$ is the angle about the z axis. It describes a position in the xy plane (midplane). Phi is related to x and y via $tan\\phi=y/x$. Theta is the equivalent of longitude on Earth (whether someone is in the Western or Eastern Hemisphere).\n",
    "\n",
    "It is much easier to tell via polar coordinates where a point in space is located relative to a spherical object. For example, if you were told that a planet-like body has a radius of 1000 km and that there was an interesting geological feature at  \n",
    "(r, $\\theta$, $\\phi$) = (1010 km, 10&deg;, 90&deg;), it would be easier to determine the following:\n",
    "\n",
    "<i>Is this feature below or above the surface of the planet-like body?</i>  \n",
    "We'll use radius r to answer this question. It is above the surface by 10 km. The feature could either have a high elevation (e.g. mountain) or is orbiting the planet-like body.\n",
    "\n",
    "<i>Is this feature closer to the equator or the poles of the planet-like body?</i>  \n",
    "We'll use theta $\\theta$ to answer this question. It is closer to the equator (0&deg;); it is just above the equator by 10&deg;.\n",
    "\n",
    "<i>Is this feature on the near or far side of the planet-like body? (Perhaps we were observing this object and want to know whether the feature is on the near side, the surface that we are currently viewing, or whether we will have to wait for the body to rotate so we can observe the feature)</i>  \n",
    "We'll use phi $\\phi$ to answer this question. It is on the far side. The right side of the near side is 0&deg;, so 90&deg; would mean the feature is near the center of the far side."
   ]
  },
  {
   "cell_type": "code",
   "execution_count": 1,
   "metadata": {},
   "outputs": [],
   "source": [
    "#possibly interactive widget\n",
    "#(enter radius, phi, theta, get out xyz and position in 3d space, alpha see through sphere)"
   ]
  }
 ],
 "metadata": {
  "kernelspec": {
   "display_name": "Python 3",
   "language": "python",
   "name": "python3"
  },
  "language_info": {
   "codemirror_mode": {
    "name": "ipython",
    "version": 3
   },
   "file_extension": ".py",
   "mimetype": "text/x-python",
   "name": "python",
   "nbconvert_exporter": "python",
   "pygments_lexer": "ipython3",
   "version": "3.6.8"
  }
 },
 "nbformat": 4,
 "nbformat_minor": 2
}
