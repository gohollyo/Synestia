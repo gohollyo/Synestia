{
 "cells": [
  {
   "cell_type": "markdown",
   "metadata": {},
   "source": [
    "# Example Moon-forming Synestia Cases Created via Giant Impact\n",
    "\n",
    "The various post-giant-impact synestias used throughout this document as examples are the same three potential Moon-forming impact cases used in ([Lock et al., 2018](https://agupubs.onlinelibrary.wiley.com/doi/full/10.1002/2017JE005333)). All three cases are Earth-mass synestias created shortly after (within 48 hours of) their respective giant impact. The synestia cases are all thermally equilibrated and have not yet begun to cool.\n",
    "\n",
    "M$_t$ is the mass of the target body (body being impacted in the impact reference frame) and M$_p$ is the mass of the <i>projectile</i> (the impactor in the impact reference frame). Both masses are described in terms of the present-day mass of Earth. The velocity v is the relative velocity with which the projectile impacts the target. The angle of the impact is described in terms of b, where b = sin$\\theta$ and $\\theta$ is the angle between the centers of the target and projectile at first contact, such that b = 0 is a direct impact (at 0$^\\circ$) and b = 1 is a glancing impact (at 90$^\\circ$). Q$_s$ is the <i>specific impact energy</i> developed by ([Leinhardt & Stewart, 2012](https://iopscience.iop.org/article/10.1088/0004-637X/745/1/79/meta)); these three cases are high energy giant impacts. M$_{bnd}$ is the mass of the material gravitationally bound to the system in terms of the present-day mass of Earth. M$_{seed}$ is the mass of the lunar seed (in terms of the present-day mass of the Moon) created from the impact.\n",
    "\n",
    "## Synestia Case 1\n",
    "This case is based on a giant impact proposed by ([Canup, 2012](https://science.sciencemag.org/content/338/6110/1052.abstract?casa_token=ago_xpaH_tYAAAAA:adjGo0hqW80xmmhptRD9PzbY-LbXQefVyicytBw-9n1SbSZCS8O9GEf4SyeqREWvNRukpWO9bfeN1FE)), and is example A used in ([Lock et al., 2018](https://agupubs.onlinelibrary.wiley.com/doi/full/10.1002/2017JE005333)). Near two half-Earth-mass bodies collide near head on at a relative velocity close to that of the escape velocity for the system (11 km/s). The impact parameters are as follows:  \n",
    "M$_t$ = 0.572 M$_{Earth}$  \n",
    "M$_p$ = 0.468 M$_{Earth}$  \n",
    "v = 12.33 km s$^{-1}$  \n",
    "b = 0.4  \n",
    "Q$_s$ = 1.62 $\\times$ 10$^7$ J kg$^{-1}$  \n",
    "M$_{bnd}$ = 0.895 M$_{Earth}$  \n",
    "M$_{seed}$ = 0.4 M$_{Moon}$  \n",
    "\n",
    "## Synestia Case 2\n",
    "This case is based on a giant impact proposed by ([Ćuk & Stewart, 2012](https://science.sciencemag.org/content/338/6110/1047.abstract?casa_token=gfntkIHoZuoAAAAA:6-uYUdDQMQlvxHzHSt_JqmQ73oNTzhxEkMtFvvHWT7DPYnkoX_jrUvd42jsdgAzZGSXK1_QmO664DGo)), and is example B used in ([Lock et al., 2018](https://agupubs.onlinelibrary.wiley.com/doi/full/10.1002/2017JE005333)). A relatively small impactor quickly collides with a rapidly rotating protoplanet at a near head on angle. The impact parameters are as follows:  \n",
    "M$_t$ = 0.99 M$_{Earth}$  \n",
    "M$_p$ = 0.1 M$_{Earth}$   \n",
    "v = 15 km s$^{-1}$  \n",
    "b = 0.4  \n",
    "Q$_s$ = 7.2 $\\times$ 10$^6$ J kg$^{-1}$  \n",
    "M$_{bnd}$ = 0.9929 M$_{Earth}$  \n",
    "M$_{seed}$ = 0.5 M$_{Moon}$  \n",
    "\n",
    "## Synestia Case 3\n",
    "This case is based on a giant impact proposed by ([Quintana et al., 2016](https://iopscience.iop.org/article/10.3847/0004-637X/821/2/126/meta)), and is example C used in ([Lock et al., 2018](https://agupubs.onlinelibrary.wiley.com/doi/full/10.1002/2017JE005333)). A medium-size impactor collides with a proto-Earth (with twice the mass of the impactor) at a less-than-head-on angle and velocity near escape velocity of the system (11 km/s). The impact parameters are as follows:  \n",
    "M$_t$ = 0.75 M$_{Earth}$  \n",
    "M$_p$ = 0.3 M$_{Earth}$  \n",
    "v = 11.3 km s$^{-1}$  \n",
    "b = 0.6  \n",
    "Q$_s$ = 3.9 $\\times$ 10$^6$ J kg$^{-1}$  \n",
    "M$_{bnd}$ = 0.9977 M$_{Earth}$  \n",
    "M$_{seed}$ = 0.8 M$_{Moon}$  "
   ]
  },
  {
   "cell_type": "markdown",
   "metadata": {},
   "source": [
    "## References\n",
    "\n",
    "Canup, R. M. (2012). Forming a Moon with an Earth-like Composition via a Giant Impact. <i>Science (American Association for the Advancement of Science)</i>, 338 (6110), 1052-1055.\n",
    "\n",
    "Ćuk, M., & Stewart, S. T. (2012). Making the Moon from a fast-spinning Earth: A giant impact followed by resonant despinning. <i>Science (American Association for the Advancement of Science)</i>, 338 (6110), 1047-1052.\n",
    "\n",
    "Leinhardt, Z. M., & Stewart, S. T. (2012). Collisions between gravity-dominated bodies. I. Outcome regimes and scaling laws. <i>The Astrophysical Journal</i>, 745 (79), 1-27.\n",
    "\n",
    "Lock, S. J., Stewart, S. T., Petaev, M. I., Leinhardt, Z. M., Mace, M. T., Jacobsen, S. B., & Ćuk, M. (2018). The origin of the Moon within a terrestrial synestia. <i>Journal of Geophysical Research: Planets (American Geophysical Union)</i>, 123 (4), 910-951.\n",
    "\n",
    "Quintana, E. V., Barclay, T., Borucki, W. J., Rowe, J. F., & Chambers, J. E. (2016). The frequency of giant impacts on Earth-like worlds. <i>The Astrophysical Journal</i>, 821 (126), 1-13."
   ]
  }
 ],
 "metadata": {
  "kernelspec": {
   "display_name": "Python 3",
   "language": "python",
   "name": "python3"
  },
  "language_info": {
   "codemirror_mode": {
    "name": "ipython",
    "version": 3
   },
   "file_extension": ".py",
   "mimetype": "text/x-python",
   "name": "python",
   "nbconvert_exporter": "python",
   "pygments_lexer": "ipython3",
   "version": "3.6.8"
  }
 },
 "nbformat": 4,
 "nbformat_minor": 2
}
