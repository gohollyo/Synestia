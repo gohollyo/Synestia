{
 "cells": [
  {
   "cell_type": "markdown",
   "metadata": {},
   "source": [
    "# How does a synestia form?"
   ]
  },
  {
   "cell_type": "code",
   "execution_count": null,
   "metadata": {},
   "outputs": [],
   "source": [
    "#giant impact is still there -- just changing the result\n",
    "#so why? discovery\n",
    "#explain obliquity - giant impact: knocks Earth over on side\n",
    "#Moon forms in midplane: inclination explained by something else"
   ]
  },
  {
   "cell_type": "markdown",
   "metadata": {},
   "source": [
    "This all started with the Moon. Since 1970's canoncial impact. But when you think you know something well, scientists try to ask a different question, get a different take, and see if their hypothesis still holds. Why giant impact (large mass relative to planet, dense iron core, magma at surface - see movie below)? List reasons why canonical model doesn't work (number: Earth and Moon eerily similar (almost indistinguishable) to each other in terms of bulk element composition and isotopic composition, something that we do not see amongst the other rocky bodies in our solar system; problematic because it would be highly coincidental for two nearly same composition bodies to collide into one another, given no other two bodies are the same. We know Moon formed from a giant impact between a younger, smaller Earth (the proto-Earth) and an impactor. Assuming the impacting bodies had different compositions, the impact has to mix the material well enough to homogenize it (help make the post-impact material have a consistent compostion throughout, a good blend of the two bodies' materials)). Mars size body slowly hits Earth at glancing angle. Doesn't mix material enough. limited by angular momentum (present-day). Side note: there are ways to decrease angular momentum of Earth-Moon system over time (resonance interactions with the sun). Increase angular momentum, not only are there a greater range of giant impacts that can form the Moon, it also increases the energy available to melt and vaporize the bodies, which can better mix.\n",
    "Argument about mass in moon-forming region?"
   ]
  },
  {
   "cell_type": "code",
   "execution_count": null,
   "metadata": {},
   "outputs": [],
   "source": [
    "from IPython.display import IFrame\n",
    "#IFrame('<iframe width=\"560\" height=\"315\" src=\"https://www.youtube.com/embed/UIKmSQqp8wY\" frameborder=\"0\" allow=\"accelerometer; autoplay; encrypted-media; gyroscope; picture-in-picture\" allowfullscreen></iframe>')\n",
    "IFrame(\"https://www.youtube.com/embed/UIKmSQqp8wY\", width=\"560\", height=\"315\")"
   ]
  },
  {
   "cell_type": "code",
   "execution_count": null,
   "metadata": {},
   "outputs": [],
   "source": [
    "IFrame(\"https://www.youtube.com/embed/7e_6oyROHCU\", width=\"560\", height=\"315\")"
   ]
  },
  {
   "cell_type": "markdown",
   "metadata": {},
   "source": [
    "There are many different kinds of impacts that can create a synestia: 1) a small body slowly grazes a large body, 2) two equal size bodies impact each other at almost the escape velocity 3) , and 4) ."
   ]
  },
  {
   "cell_type": "code",
   "execution_count": null,
   "metadata": {},
   "outputs": [],
   "source": [
    "#FIGURE DIAGRAM OF IMPACT CASES"
   ]
  }
 ],
 "metadata": {
  "kernelspec": {
   "display_name": "Python 3",
   "language": "python",
   "name": "python3"
  },
  "language_info": {
   "codemirror_mode": {
    "name": "ipython",
    "version": 3
   },
   "file_extension": ".py",
   "mimetype": "text/x-python",
   "name": "python",
   "nbconvert_exporter": "python",
   "pygments_lexer": "ipython3",
   "version": "3.6.8"
  }
 },
 "nbformat": 4,
 "nbformat_minor": 2
}
