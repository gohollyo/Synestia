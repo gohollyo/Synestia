{
 "cells": [
  {
   "cell_type": "markdown",
   "metadata": {},
   "source": [
    "# How do synestias form? (Giant Impacts)"
   ]
  },
  {
   "cell_type": "markdown",
   "metadata": {},
   "source": [
    "Research on synestias arose from research on the origin of the Moon. But why has there been recent research on this topic? Since the 1970's, planetary scientists have confirmed and then since agreed that a giant impact to Earth formed the Moon. The birth of the Earth-Moon system via giant impact has not been the point of debate. However, the details of the most-oft proposed giant impact (Mars-size body grazes an early Earth) have been skepticized."
   ]
  },
  {
   "cell_type": "markdown",
   "metadata": {},
   "source": [
    "## The Moon formed from a giant impact..."
   ]
  },
  {
   "cell_type": "code",
   "execution_count": null,
   "metadata": {},
   "outputs": [],
   "source": []
  },
  {
   "cell_type": "markdown",
   "metadata": {},
   "source": [
    "Apollo missions increased our knowledge and understanding of the Moon (insert diagram of rocks). Basalt and glassy soils (volcanism), old surface littered with meteorite impacts (breccias), and highlands (flotation crust that forms from a magma ocean [think of it as a liquified, molten crust that has since cooled]). So the Moon must have been liquified at some point, makes sens\n",
    "\n",
    "1. small Fe core\n",
    "2. large relative mass of Moon relative to Earth: could not be captured\n",
    "3. similar bulk chemical and isotopic compositions: would not expect to be the same if captured another planetary body\n",
    "4. the high angular momentum of the Earth-Moon system\n",
    "\n",
    "others: fission, accretion theory (problems with angular momentum of sys and if broke off or formed near Earth, proportion and type of minerals should be similar to earth, but slightly different, The minerals on the Moon contain less water than similar terrestrial rocks. The Moon is rich in material that forms quickly at a high temperature)\n",
    "\n",
    "Giant impacts would significantly liquify and vaporize impacting bodies (would be able to mix materials in post-impact disk), resulting in high temperatures, core of bodies are formed quickly, high system angular momentum transformed from kinetic energy of impact.\n",
    "\n",
    "https://www.nhm.ac.uk/discover/how-did-the-moon-form.html"
   ]
  },
  {
   "cell_type": "markdown",
   "metadata": {},
   "source": [
    "One, the Moon has a large mass relative to its planet, Earth; EXPLAIN. Two, the Moon has a dense iron core; EXPLAIN. Three, there is evidence of large regions of crystallized lava (basalt flood plains) on the crust of the Moon; EXPLAIN."
   ]
  },
  {
   "cell_type": "code",
   "execution_count": null,
   "metadata": {},
   "outputs": [],
   "source": [
    "#explain obliquity - giant impact: knocks Earth over on side\n",
    "#Moon forms in midplane: inclination explained by something else"
   ]
  },
  {
   "cell_type": "markdown",
   "metadata": {},
   "source": [
    "## ...just not in the giant impact you're used to."
   ]
  },
  {
   "cell_type": "markdown",
   "metadata": {},
   "source": [
    "including how limited rotational energy the Earth-Moon system would have to mix material so that the Moon and Earth would have similar chemical and isotopic compositions,\n",
    "\n",
    "List reasons why canonical model doesn't work (number: Earth and Moon eerily similar (almost indistinguishable) to each other in terms of bulk element composition and isotopic composition, something that we do not see amongst the other rocky bodies in our solar system; problematic because it would be highly coincidental for two nearly same composition bodies to collide into one another, given no other two bodies are the same. We know Moon formed from a giant impact between a younger, smaller Earth (the proto-Earth) and an impactor. Assuming the impacting bodies had different compositions, the impact has to mix the material well enough to homogenize it (help make the post-impact material have a consistent compostion throughout, a good blend of the two bodies' materials)). Mars size body slowly hits Earth at glancing angle. Doesn't mix material enough. limited by angular momentum (present-day). Side note: there are ways to decrease angular momentum of Earth-Moon system over time (resonance interactions with the sun). Increase angular momentum, not only are there a greater range of giant impacts that can form the Moon, it also increases the energy available to melt and vaporize the bodies, which can better mix.\n",
    "Argument about mass in moon-forming region?"
   ]
  },
  {
   "cell_type": "markdown",
   "metadata": {},
   "source": [
    "## Many different giant impact scenarios can result in a Moon-forming synestia"
   ]
  },
  {
   "cell_type": "markdown",
   "metadata": {},
   "source": [
    "There are many different kinds of impacts that can create a Moon-forming synestia, anywhere from a medium-sized body slowly grazing a large body (canonical model setup) to two equal size (half-Earth mass) bodies quickly impacting each other (at almost the escape velocity) to a small body ramming into a large body. There are a great multitude of angles, relative velocities, and relative sizes the impactors may hit each other with and still form a Moon. This is what makes a synestia a robust hypothesis for forming the Moon; it is not unique to any one giant impact event."
   ]
  },
  {
   "cell_type": "code",
   "execution_count": null,
   "metadata": {},
   "outputs": [],
   "source": [
    "#FIGURE DIAGRAM OF IMPACT CASES"
   ]
  }
 ],
 "metadata": {
  "kernelspec": {
   "display_name": "Python 3",
   "language": "python",
   "name": "python3"
  },
  "language_info": {
   "codemirror_mode": {
    "name": "ipython",
    "version": 3
   },
   "file_extension": ".py",
   "mimetype": "text/x-python",
   "name": "python",
   "nbconvert_exporter": "python",
   "pygments_lexer": "ipython3",
   "version": "3.6.8"
  }
 },
 "nbformat": 4,
 "nbformat_minor": 2
}
