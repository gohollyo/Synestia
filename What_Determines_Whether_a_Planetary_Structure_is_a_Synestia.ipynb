{
 "cells": [
  {
   "cell_type": "markdown",
   "metadata": {},
   "source": [
    "# What determines whether a planetary object is a synestia?"
   ]
  },
  {
   "cell_type": "markdown",
   "metadata": {},
   "source": [
    "To understand the dynamics of a synestia, we must first understand its mechanics (balance of forces). There are three forces at work: the centripetal force, the pressure force from the gas, and gravity of components of the structure. A synestia is stable when it follows the following equation:\n",
    "$$\\omega^2r = \\frac{1}{\\rho}\\frac{dP}{dr} + \\frac{GM}{r^2}(1 + J2)$$"
   ]
  },
  {
   "cell_type": "markdown",
   "metadata": {},
   "source": [
    "Physicists like to tackle complicated problems by breaking down and simplifying the problem. Typically, an intricate body is broken down into smaller pieces. We cannot model continuous fluids, so we break them up into a collection of smaller, discrete components. You can think of an ocean as a collection of drops. Modeling the forces on each drop and analyzing the collective result of the drops is much easier than trying to describe the behavior of an ocean. This is true here as well. When synestias are modeled, their continuous fluid bodies are simulated using a system of particles. Think of these particles as having volume -- like a parcel of gas. It's easier to get a sense of the whole structure when looking how the individual parcels behave."
   ]
  },
  {
   "cell_type": "code",
   "execution_count": 1,
   "metadata": {},
   "outputs": [
    {
     "name": "stdout",
     "output_type": "stream",
     "text": [
      "/bin/sh: -c: line 0: syntax error near unexpected token `attachment:jgre20669-fig-0004-m.jpg'\r\n",
      "/bin/sh: -c: line 0: `[jgre20669-fig-0004-m.jpg](attachment:jgre20669-fig-0004-m.jpg)'\r\n"
     ]
    }
   ],
   "source": [
    "def Maclaurin(e,omega,rho):\n",
    "    return (omega**2)/(math.pi*G*rho) - 2.*(3. - 2.*e**2)*np.arcsin(e)*((1. - e**2)**0.5)/(e**3) + 6.*(1. - e**2)/(e**2)\n",
    "#write function to find a given mean radius then solve for c\n",
    "#then plot ellipsoid with c and a and print length of day\n",
    "#interactive widget: change mean radius (slider), omega (slider), density of body (button or pull down)"
   ]
  },
  {
   "cell_type": "markdown",
   "metadata": {},
   "source": [
    "## Check for the Angular Velocity Profile of a Synestia"
   ]
  },
  {
   "cell_type": "markdown",
   "metadata": {},
   "source": [
    "To understand the kinematics within a synestia, it is important to know the general circulation within a synestia. This is where angular velocity comes in."
   ]
  },
  {
   "cell_type": "markdown",
   "metadata": {},
   "source": [
    "If a wide range of giant impacts can form a synestia, what is the threshold for what defines a synestia? Let's first think about the internal structure and dynamics of a synestia in terms of angular velocity (insert link to glossary term here)."
   ]
  },
  {
   "cell_type": "markdown",
   "metadata": {},
   "source": [
    "What if there was a rotating body that could not rotate together at the same angular velocity? This is true for a synestia."
   ]
  },
  {
   "cell_type": "markdown",
   "metadata": {},
   "source": [
    "### Conceptualizing a Synestia's Angular Velocity Profile: Three Ways"
   ]
  },
  {
   "cell_type": "code",
   "execution_count": null,
   "metadata": {},
   "outputs": [],
   "source": [
    "#geosynchronous satellite: cartoon gets hot - hits orbit - even hotter something else happens\n",
    "#plot: what is geosynchronous orbit based on change in Earth's day - when you're hot easier to get over it: slider bar\n",
    "#a couple of different ways to think about the corotation limit"
   ]
  },
  {
   "cell_type": "markdown",
   "metadata": {},
   "source": [
    "<b><i>First</i></b>: a merry go round."
   ]
  },
  {
   "cell_type": "markdown",
   "metadata": {},
   "source": [
    "Let's say you and a friend sat on the edge of a playground merry-go-round (also known as a roundabout). You are sitting closer to the center and are strapped in place, while your friend is at the very edge free of restraints. If you join hands and hold on to each other while a third person spins the merry-go-round faster and faster, you'll reach a point where your hands cannot hold on. Your friend will be subject to their own speed of rotation about the merry-go-round as they fly off. This is essentially what happens when a planetary object transforms into a synestia."
   ]
  },
  {
   "cell_type": "code",
   "execution_count": null,
   "metadata": {},
   "outputs": [],
   "source": [
    "#INSERT DIAGRAM/ANIMATION OF MERRY-GO-ROUND"
   ]
  },
  {
   "cell_type": "markdown",
   "metadata": {},
   "source": [
    "A synestia is a planetary body (planet, for example) that is rotating so rapidly that its outer portion cannot \"hold on\" (the body crosses a threshold called the corotation limit) and moves at an angular velocity dictated by the gravity and gas (pressure) fields. This rapid rotation causes oblation, or a bulge along the equator, in the planet-like region."
   ]
  },
  {
   "cell_type": "markdown",
   "metadata": {},
   "source": [
    "<b><i>Second</i></b>: a geosynchronous satellite."
   ]
  },
  {
   "cell_type": "markdown",
   "metadata": {},
   "source": [
    "<b><i>Third</i></b>: something else."
   ]
  },
  {
   "cell_type": "markdown",
   "metadata": {},
   "source": [
    "### A Synestia's Angular Velocity Profile is Unique"
   ]
  },
  {
   "cell_type": "code",
   "execution_count": null,
   "metadata": {},
   "outputs": [],
   "source": [
    "#draw interactive below\n",
    "#angular velocity profile with length of day (rotation speed)\n",
    "#have Keplerian\n",
    "#const density spheroid (MacLaurin) for to moving into synestia limit\n",
    "#hotter on outside than inside, hits synestia limit much sooner\n",
    "#simplify\n",
    "#caveat: in reality, this would be more complicated - density gradient, temperature gradient\n",
    "#as get denser, gets hotter\n",
    "#if spinning faster, hit it sooner\n",
    "#what's the radius of the spinning body\n",
    "#not a perfect planet, just to illustrate the effect\n",
    "#another section: why make very puffy, very big"
   ]
  },
  {
   "cell_type": "code",
   "execution_count": null,
   "metadata": {},
   "outputs": [],
   "source": [
    "#INSERT FIGURE OF ANGULAR VELOCITY PROFILE OF SYNESTIA; CONTRAST WITH LINEAR VELOCITY"
   ]
  },
  {
   "cell_type": "markdown",
   "metadata": {},
   "source": [
    "This is a plot of the midplane (z = 0) angular velocity profile. The profile is continuous because there are no dynamically distinct features of a synestia. It is a connected body. Notice that the profile is flat at smaller radii. This is the corotating portion of a synestia. All material rotates about its axis together at the same angular velocity. At larger radii, the profile drops off, where material in a synestia can no longer corotate."
   ]
  },
  {
   "cell_type": "markdown",
   "metadata": {},
   "source": [
    "The angular velocity is lower than what it would be for a Keplerian orbit. A Keplerian orbit is a stable (no inward or outward spiralling) elliptical orbit. The orbiting body is moving fast enough through a vacuum around its central body to resist the inward pull of the central body's first-order gravity. In other words, the only force that is acting (and is balanced) is gravity. In the non-corotating region of a synestia, the material experiences a sub-Keplerian orbit. There is sufficient pressure support to counteract gravity. This allows the gas to orbit at an angular velocity that is slower than it would be for an equivalent Keplerian orbit."
   ]
  },
  {
   "cell_type": "markdown",
   "metadata": {},
   "source": [
    "Some of largest planetary structures are moons, planets, planetary disks (planets with disks), and synestias. How is a planet with an orbiting debris disk different from a synestia?"
   ]
  },
  {
   "cell_type": "code",
   "execution_count": null,
   "metadata": {},
   "outputs": [],
   "source": [
    "#Keplerian orbit: what is it?\n",
    "#math\n",
    "#how does pressure change? slower velocity at that location\n",
    "#plot difference, slider bar for pressure effect\n",
    "#diff in vel is headwind\n",
    "#put in the equation: adjustable parameter (adding pressure support)\n",
    "#how does this change \n",
    "#headings: section numbers: make as bite-sized as possible, want it in a single screen (like hyperphysics, boxes if you want)"
   ]
  }
 ],
 "metadata": {
  "kernelspec": {
   "display_name": "Python 3",
   "language": "python",
   "name": "python3"
  },
  "language_info": {
   "codemirror_mode": {
    "name": "ipython",
    "version": 3
   },
   "file_extension": ".py",
   "mimetype": "text/x-python",
   "name": "python",
   "nbconvert_exporter": "python",
   "pygments_lexer": "ipython3",
   "version": "3.6.8"
  }
 },
 "nbformat": 4,
 "nbformat_minor": 2
}
