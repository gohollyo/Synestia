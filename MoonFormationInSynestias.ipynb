{
 "cells": [
  {
   "cell_type": "markdown",
   "metadata": {},
   "source": [
    "There is a great deal of silicate vapor (also referred to as gas) in the moon-forming region of a synestia. Any growing silicate moonlets (also referred to as condensates or liquid droplets) will orbit within the moon-forming region of a synestia and will encounter this gas. The gas will impart a drag upon the moonlets, causing them to slow down and lose angular velocity. The orbit of the moonlets will decay over time in accord with the strength of the gas drag acceleration."
   ]
  },
  {
   "cell_type": "code",
   "execution_count": null,
   "metadata": {},
   "outputs": [],
   "source": [
    "#INSESRT DIAGRAM HERE"
   ]
  },
  {
   "cell_type": "markdown",
   "metadata": {},
   "source": [
    "Let's get a sense for the magnitude of gas drag acceleration that we're dealing with. It is assumed that the moonlets experience a simple gas drag. The equation is as follows:\n",
    "$$a_{drag}=\\frac{C_D\\ A \\ (u_{gas} - u_{body})^2}{2 \\ m_{body}}$$"
   ]
  },
  {
   "cell_type": "markdown",
   "metadata": {},
   "source": [
    "Simple gas drag acceleration a$_{drag}$ is dependent on: the mass of the body that is being dragged by the gas $m_{body}$, the cross sectional area of the body that the gas is interacting with A, the gas drag coefficient C$_D$ (what thermal regime we are in), and the relative velocity between the gas and the body being dragged u$_{gas}$-u$_{body}$. Later, we calculate the gas drag coefficient using the Adachi et al (1976) formulation, but here you can play with its value."
   ]
  },
  {
   "cell_type": "code",
   "execution_count": 113,
   "metadata": {},
   "outputs": [
    {
     "data": {
      "application/vnd.jupyter.widget-view+json": {
       "model_id": "ad02c8e7043c482590634b7c27a0835b",
       "version_major": 2,
       "version_minor": 0
      },
      "text/plain": [
       "interactive(children=(FloatLogSlider(value=1.0, description='Size of moonlet (m)', layout=Layout(width='400px'…"
      ]
     },
     "metadata": {},
     "output_type": "display_data"
    },
    {
     "data": {
      "text/plain": [
       "<function __main__.pltdrag(rad_body, C_D)>"
      ]
     },
     "execution_count": 113,
     "metadata": {},
     "output_type": "execute_result"
    }
   ],
   "source": [
    "import numpy as np\n",
    "import math\n",
    "from ipywidgets import *\n",
    "import matplotlib.pyplot as plt\n",
    "v_rel = np.arange(0.0, 300., 1.) #relative velocity between gas and body in m/s\n",
    "Moon_density = 3300. #lunar density in kg/m3; 3.3 g/cc\n",
    "def pltdrag(rad_body, C_D):\n",
    "    mass_body = Moon_density*(4./3.)*math.pi*(rad_body**3) #mass of body in kg; assume spherical body\n",
    "    a_drag = 0.5*C_D*math.pi*(rad_body**2)*(v_rel**2)/mass_body #acceleration imparted on body due to gas drag in m/s2; assume spherical cross section\n",
    "    plt.plot(v_rel, a_drag)\n",
    "    plt.xlabel('velocity of the gas relative to the velocity of the moonlet (m/s)')\n",
    "    plt.ylabel('gas drag acceleration (m/s$^2$)')\n",
    "    plt.show()\n",
    "\n",
    "#PLOT ACCELERATION RELATIVE TO SOMETHING ELSE (g's, roller coasters, astronauts, etc.)    \n",
    "#RELATIVE SCALE IN GENERAL: how big the moonlets are (marble, golf ball, grain of sand, yoga ball, soccer field, etc.), how fast the relative and absolute velocity is\n",
    "#MAYBE THIS SHOULD BE PRINTED OUTPUT?    \n",
    "style = {'description_width': 'initial'}\n",
    "layout = {'width': '400px'}\n",
    "%matplotlib inline\n",
    "interact(pltdrag, rad_body=FloatLogSlider(value=1, base=10, min=-3, max=6, step=1, description='Size of moonlet (m)', style=style, layout=layout),\n",
    "         C_D=FloatSlider(value=2, min=0, max=2.5, step=0.5, description='Gas drag coefficient C$_D$ (-)', continuous_update=False, readout=True, readout_format='.1f', style=style, layout=layout))"
   ]
  },
  {
   "cell_type": "markdown",
   "metadata": {},
   "source": [
    "As expected, gas drag acceleration is greater when the mass of the moonlet is smaller and the gas drag coefficient and relative velocity are larger."
   ]
  },
  {
   "cell_type": "markdown",
   "metadata": {},
   "source": [
    "Now, let's see how a single moonlet travels through the vapor in a synestia. First, we will look at how a moonlet moves on a stable Keplerian orbit. Next, we will see the effects of the second-order term of gravity on the orbit of the moonlet. Moonlets, once formed, will quickly equilibrate to the midplane. So, we will look at orbits in the midplane first. Moonlets condense as droplets at the photosphere (where the vapor is saturated and has a pressure that lies on the vapor dome). We will check orbits of moonlets condensing at the photosphere (starting off the midplane) next. Let's check the decay time for various sizes of moonlets and various starting semi-major axes."
   ]
  },
  {
   "cell_type": "code",
   "execution_count": 116,
   "metadata": {},
   "outputs": [
    {
     "name": "stdout",
     "output_type": "stream",
     "text": [
      "Read 180233 particles from TE_Example01_Cool05_snapshot_4096_long\n",
      "Read 201779 particles from TE_Example03_Cool01_snapshot_10500_long\n",
      "Read 100989 particles from TE_Example07_CoolB01_snapshot_7200_long\n"
     ]
    },
    {
     "data": {
      "text/plain": [
       "<Figure size 432x288 with 0 Axes>"
      ]
     },
     "metadata": {},
     "output_type": "display_data"
    },
    {
     "data": {
      "application/vnd.jupyter.widget-view+json": {
       "model_id": "6a387449f2a34e1d808e8c306066efa1",
       "version_major": 2,
       "version_minor": 0
      },
      "text/plain": [
       "interactive(children=(FloatSlider(value=20000000.0, continuous_update=False, description='Starting x distance …"
      ]
     },
     "metadata": {},
     "output_type": "display_data"
    },
    {
     "data": {
      "text/plain": [
       "<function __main__.pltKep(x, y, z, n)>"
      ]
     },
     "execution_count": 116,
     "metadata": {},
     "output_type": "execute_result"
    }
   ],
   "source": [
    "#CALCULATE KEPLERIAN ORBIT WITH NORMAL GRAVITY\n",
    "#G=6.674e-11 #SI\n",
    "%run synfits.py\n",
    "Mass_syn=np.sum(SNAP_Canup.m) #kg #Earth mass\n",
    "from mpl_toolkits.mplot3d import Axes3D\n",
    "def pltKep(x,y,z,n):\n",
    "    #n counter-clockwise orbits\n",
    "    #default starts at (x,y,z)\n",
    "    #with initial velocity (v_x,v_y,v_z)\n",
    "    t=0. #initial time in seconds\n",
    "    radius = (x**2 + y**2 + z**2)**0.5 #distance from origin of central body (m)\n",
    "    P=((radius**3)*4.*math.pi*math.pi/(G*Mass_syn))**0.5 #orbital period (s)\n",
    "    dt=P/100. #time step (s)\n",
    "    time=P*n #cumulative time of orbit (s)\n",
    "    vel=np.sqrt(G*Mass_syn/radius) #total velocity (m/s)\n",
    "    vx=-vel*y/radius #x vel. (m/s)\n",
    "    vy=vel*x/radius #y vel. (m/s)\n",
    "    vz=vel*z/radius #z vel. (m/s)\n",
    "    xarr=[]\n",
    "    yarr=[]\n",
    "    zarr=[]\n",
    "    tarr=[]\n",
    "    xarr.append(x)\n",
    "    yarr.append(y)\n",
    "    zarr.append(z)\n",
    "    tarr.append(t)\n",
    "    while (t < time):\n",
    "        radius = (x**2 + y**2 + z**2)**0.5 #distance from origin of central body (m)\n",
    "        accel_grav=-G*Mass_syn/(radius**3) #total acceleration (m/s^2)\n",
    "        ax=accel_grav*x #x accel. (m/s^2)\n",
    "        ay=accel_grav*y #y accel. (m/s^2)\n",
    "        az=accel_grav*z #z accel. (m/s^2)\n",
    "        vx+=ax*0.5*dt\n",
    "        vy+=ay*0.5*dt\n",
    "        vz+=az*0.5*dt\n",
    "        radius = (x**2 + y**2 + z**2)**0.5 #distance from origin of central body (m)\n",
    "        accel_grav=-G*Mass_syn/(radius**3) #total acceleration (m/s^2)\n",
    "        ax=accel_grav*x #x accel. (m/s^2)\n",
    "        ay=accel_grav*y #y accel. (m/s^2)\n",
    "        az=accel_grav*z #z accel. (m/s^2)\n",
    "        vx+=ax*0.5*dt\n",
    "        vy+=ay*0.5*dt\n",
    "        vz+=az*0.5*dt\n",
    "        x+=vx*dt\n",
    "        y+=vy*dt\n",
    "        z+=vz*dt\n",
    "        t+=dt\n",
    "        xarr.append(x)\n",
    "        yarr.append(y)\n",
    "        zarr.append(z)\n",
    "        tarr.append(t)\n",
    "    xarr=np.asarray(xarr)\n",
    "    yarr=np.asarray(yarr)\n",
    "    zarr=np.asarray(zarr)\n",
    "    radiusarr=np.sqrt(xarr**2 + yarr**2 + zarr**2)\n",
    "    tarr=np.asarray(tarr)\n",
    "    fig=plt.figure(figsize=(9,3))\n",
    "    plot1 = fig.add_subplot(121, projection='3d')\n",
    "    plot1.plot(xarr,yarr,zarr,color='b')\n",
    "    plot1.set_xlabel('x (m)')\n",
    "    plot1.set_ylabel('y (m)')\n",
    "    plot1.set_zlabel('z (m)')\n",
    "    plot2 = fig.add_subplot(122)\n",
    "    plot2.plot(tarr/3600,radiusarr,color='b')\n",
    "    plot2.set_xlabel('time (hr)')\n",
    "    plot2.set_ylabel('radius (m)')\n",
    "    plt.show()\n",
    "#%matplotlib notebook    \n",
    "interact(pltKep,\n",
    "         x=FloatSlider(value=20e6, min=10e6, max=60e6, step=10e6, description='Starting x distance from central body (m)',\n",
    "                        continuous_update=False, readout=True, readout_format='.1f', style=style, layout=layout),\n",
    "         y=FloatSlider(value=0, max=60e6, step=10e6, description='Starting y distance from central body (m)',\n",
    "                        continuous_update=False, readout=True, readout_format='.1f', style=style, layout=layout),\n",
    "         z=FloatSlider(value=0, max=60e6, step=10e6, description='Starting z distance from the midplane (m)',\n",
    "                        continuous_update=False, readout=True, readout_format='.1f', style=style, layout=layout),\n",
    "         n=IntSlider(value=1, max=10, step=1, description='Number of orbits',\n",
    "                        continuous_update=False, readout=True, readout_format='d', style=style, layout=layout))  "
   ]
  },
  {
   "cell_type": "code",
   "execution_count": null,
   "metadata": {},
   "outputs": [],
   "source": [
    "#IMPORT GADGET-2 SNAPSHOT (VAPOR IN SYNESTIA)\n",
    "#FIT THERMAL PARAMETER PROFILES: PRESSURE, TEMPERATURE, DENSITY\n",
    "#FIT IN-PLANE VELOCITY PROFILE\n",
    "#CALCULATE ORBITAL DECAY; UPDATE ACCELERATION DUE TO DRAG\n",
    "widgets.Dropdown(\n",
    "    options=[('Thickness of a plastic ID card (mm)', 1.e-3),\n",
    "             ('Diameter of a belly button (cm)', 1.e-2),\n",
    "             ('Coconut (dm)', 0.1),\n",
    "             ('Cow (m)', 1.),\n",
    "             ('230 story building (km)', 1.e3),\n",
    "             ('Width of the United States (Mm)', 1.e6),\n",
    "             ('The Moon (3.5 Mm)', 3.5e6)],\n",
    "    value=1,\n",
    "    description='Size (diameter) of moonlet:',\n",
    ")\n",
    "#need leapfrog integrator"
   ]
  },
  {
   "cell_type": "code",
   "execution_count": 9,
   "metadata": {},
   "outputs": [
    {
     "ename": "ModuleNotFoundError",
     "evalue": "No module named 'rebound'",
     "output_type": "error",
     "traceback": [
      "\u001b[0;31m---------------------------------------------------------------------------\u001b[0m",
      "\u001b[0;31mModuleNotFoundError\u001b[0m                       Traceback (most recent call last)",
      "\u001b[0;32m<ipython-input-9-3e47feff1866>\u001b[0m in \u001b[0;36m<module>\u001b[0;34m\u001b[0m\n\u001b[0;32m----> 1\u001b[0;31m \u001b[0;32mimport\u001b[0m \u001b[0mrebound\u001b[0m\u001b[0;34m\u001b[0m\u001b[0;34m\u001b[0m\u001b[0m\n\u001b[0m",
      "\u001b[0;31mModuleNotFoundError\u001b[0m: No module named 'rebound'"
     ]
    }
   ],
   "source": []
  },
  {
   "cell_type": "code",
   "execution_count": null,
   "metadata": {},
   "outputs": [],
   "source": [
    "#REFERENCES"
   ]
  }
 ],
 "metadata": {
  "kernelspec": {
   "display_name": "Python 3",
   "language": "python",
   "name": "python3"
  },
  "language_info": {
   "codemirror_mode": {
    "name": "ipython",
    "version": 3
   },
   "file_extension": ".py",
   "mimetype": "text/x-python",
   "name": "python",
   "nbconvert_exporter": "python",
   "pygments_lexer": "ipython3",
   "version": "3.6.8"
  }
 },
 "nbformat": 4,
 "nbformat_minor": 2
}
