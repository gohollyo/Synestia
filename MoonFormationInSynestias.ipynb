{
 "cells": [
  {
   "cell_type": "markdown",
   "metadata": {},
   "source": [
    "There is a great deal of silicate vapor (also referred to as gas) in the moon-forming region of a synestia. Any growing silicate moonlets (also referred to as condensates or liquid droplets) will orbit within the moon-forming region of a synestia and will encounter this gas. The gas will impart a drag upon the moonlets, causing them to slow down and lose angular velocity. The orbit of the moonlets will decay over time in accord with the strength of the gas drag acceleration."
   ]
  },
  {
   "cell_type": "code",
   "execution_count": null,
   "metadata": {},
   "outputs": [],
   "source": [
    "#INSESRT DIAGRAM HERE"
   ]
  },
  {
   "cell_type": "markdown",
   "metadata": {},
   "source": [
    "Let's get a sense for the magnitude of gas drag acceleration that we're dealing with. It is assumed that the moonlets experience a simple gas drag. The equation is as follows:\n",
    "$$a_{drag}=\\frac{C_D\\ A \\ (u_{gas} - u_{body})^2}{2 \\ m_{body}}$$"
   ]
  },
  {
   "cell_type": "markdown",
   "metadata": {},
   "source": [
    "Simple gas drag acceleration a$_{drag}$ is dependent on: the mass of the body that is being dragged by the gas $m_{body}$, the cross sectional area of the body that the gas is interacting with A, the gas drag coefficient C$_D$ (what thermal regime we are in), and the relative velocity between the gas and the body being dragged u$_{gas}$-u$_{body}$. Later, we calculate the gas drag coefficient using the Adachi et al (1976) formulation, but here you can play with its value."
   ]
  },
  {
   "cell_type": "code",
   "execution_count": null,
   "metadata": {},
   "outputs": [],
   "source": [
    "import numpy as np\n",
    "import math\n",
    "from ipywidgets import *\n",
    "v_rel = np.arange(0.0, 300., 1.) #relative velocity between gas and body in m/s\n",
    "\n",
    "def pltdrag(rad_body, C_D):\n",
    "    Moon_density = 3300. #lunar density in kg/m3; 3.3 g/cc\n",
    "    mass_body = Moon_density*(4./3.)*math.pi*(rad_body**3) #mass of body in kg; assume spherical body\n",
    "    a_drag = 0.5*C_D*math.pi*(rad_body**2)*(v_rel**2)/mass_body #acceleration imparted on body due to gas drag in m/s2; assume spherical cross section\n",
    "    plt.plot(v_rel, a_drag)\n",
    "    plt.xlabel('velocity of the gas relative to the velocity of the moonlet (m/s)')\n",
    "    plt.ylabel('gas drag acceleration (m/s$^2$)')\n",
    "    plt.show()\n",
    "\n",
    "#PLOT ACCELERATION RELATIVE TO SOMETHING ELSE (g's, roller coasters, astronauts, etc.)    \n",
    "#RELATIVE SCALE IN GENERAL: how big the moonlets are (marble, golf ball, grain of sand, yoga ball, soccer field, etc.), how fast the relative and absolute velocity is\n",
    "#MAYBE THIS SHOULD BE PRINTED OUTPUT?    \n",
    "style = {'description_width': 'initial'}\n",
    "interact(pltdrag, rad_body=FloatLogSlider(value=1, base=10, min=-3, max=6, step=1, description='Size of moonlet (m)', style=style),\n",
    "         C_D=FloatSlider(value=2, min=0, max=2.5, step=0.5, description='Gas drag coefficient C$_D$ (-)', continuous_update=False, readout=True, readout_format='.1f', style=style))"
   ]
  },
  {
   "cell_type": "markdown",
   "metadata": {},
   "source": [
    "As expected, gas drag acceleration is greater when the mass of the moonlet is smaller and the gas drag coefficient and relative velocity are larger."
   ]
  },
  {
   "cell_type": "markdown",
   "metadata": {},
   "source": [
    "Now, let's see how a single moonlet travels through the vapor in a synestia. First, we will look at how a moonlet moves on a stable Keplerian orbit. Next, we will see the effects of the second-order term of gravity on the orbit of the moonlet. Moonlets, once formed, will quickly equilibrate to the midplane. So, we will look at orbits in the midplane first. Moonlets condense as droplets at the photosphere (where the vapor is saturated and has a pressure that lies on the vapor dome). We will check orbits of moonlets condensing at the photosphere (starting off the midplane) next. Let's check the decay time for various sizes of moonlets and various starting semi-major axes."
   ]
  },
  {
   "cell_type": "code",
   "execution_count": null,
   "metadata": {},
   "outputs": [],
   "source": [
    "#CALCULATE KEPLERIAN ORBIT WITH NORMAL GRAVITY"
   ]
  },
  {
   "cell_type": "code",
   "execution_count": null,
   "metadata": {},
   "outputs": [],
   "source": [
    "#IMPORT GADGET-2 SNAPSHOT (VAPOR IN SYNESTIA)\n",
    "#FIT THERMAL PARAMETER PROFILES: PRESSURE, TEMPERATURE, DENSITY\n",
    "#FIT IN-PLANE VELOCITY PROFILE\n",
    "#CALCULATE ORBITAL DECAY; UPDATE ACCELERATION DUE TO DRAG"
   ]
  },
  {
   "cell_type": "code",
   "execution_count": null,
   "metadata": {},
   "outputs": [],
   "source": [
    "#REFERENCES"
   ]
  }
 ],
 "metadata": {
  "kernelspec": {
   "display_name": "Python 3",
   "language": "python",
   "name": "python3"
  },
  "language_info": {
   "codemirror_mode": {
    "name": "ipython",
    "version": 3
   },
   "file_extension": ".py",
   "mimetype": "text/x-python",
   "name": "python",
   "nbconvert_exporter": "python",
   "pygments_lexer": "ipython3",
   "version": "3.6.8"
  }
 },
 "nbformat": 4,
 "nbformat_minor": 2
}
