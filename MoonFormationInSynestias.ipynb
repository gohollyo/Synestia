{
 "cells": [
  {
   "cell_type": "markdown",
   "metadata": {},
   "source": [
    "There is a great deal of silicate vapor (also referred to as gas) in the moon-forming region of a synestia. Any growing silicate moonlets (also referred to as condensates or liquid droplets) will orbit within the moon-forming region of a synestia and will encounter this gas. The gas will impart a drag upon the moonlets, causing them to slow down and lose angular velocity. The orbit of the moonlets will decay over time in accord with the strength of the gas drag acceleration."
   ]
  },
  {
   "cell_type": "code",
   "execution_count": null,
   "metadata": {},
   "outputs": [],
   "source": [
    "#INSESRT DIAGRAM HERE"
   ]
  },
  {
   "cell_type": "markdown",
   "metadata": {},
   "source": [
    "Let's get a sense for the magnitude of gas drag acceleration that we're dealing with. It is assumed that the moonlets experience a simple gas drag. The equation is as follows:\n",
    "$$a_{drag}=\\frac{C_D\\ A \\ (u_{gas} - u_{body})^2}{2 \\ m_{body}}$$"
   ]
  },
  {
   "cell_type": "markdown",
   "metadata": {},
   "source": [
    "Simple gas drag acceleration a$_{drag}$ is dependent on: the mass of the body that is being dragged by the gas $m_{body}$, the cross sectional area of the body that the gas is interacting with A, the gas drag coefficient C$_D$ (what thermal regime we are in), and the relative velocity between the gas and the body being dragged u$_{gas}$-u$_{body}$. Later, we calculate the gas drag coefficient using the Adachi et al (1976) formulation, but here you can play with its value."
   ]
  },
  {
   "cell_type": "code",
   "execution_count": 6,
   "metadata": {},
   "outputs": [
    {
     "data": {
      "application/vnd.jupyter.widget-view+json": {
       "model_id": "a59e4ee417304b2fbbf752387a288731",
       "version_major": 2,
       "version_minor": 0
      },
      "text/plain": [
       "interactive(children=(FloatLogSlider(value=1.0, description='Size of moonlet (m)', max=6.0, min=-3.0, step=1.0…"
      ]
     },
     "metadata": {},
     "output_type": "display_data"
    },
    {
     "data": {
      "text/plain": [
       "<function __main__.pltdrag(rad_body, C_D)>"
      ]
     },
     "execution_count": 6,
     "metadata": {},
     "output_type": "execute_result"
    }
   ],
   "source": [
    "import numpy as np\n",
    "import math\n",
    "from ipywidgets import *\n",
    "import matplotlib.pyplot as plt\n",
    "v_rel = np.arange(0.0, 300., 1.) #relative velocity between gas and body in m/s\n",
    "Moon_density = 3300. #lunar density in kg/m3; 3.3 g/cc\n",
    "def pltdrag(rad_body, C_D):\n",
    "    mass_body = Moon_density*(4./3.)*math.pi*(rad_body**3) #mass of body in kg; assume spherical body\n",
    "    a_drag = 0.5*C_D*math.pi*(rad_body**2)*(v_rel**2)/mass_body #acceleration imparted on body due to gas drag in m/s2; assume spherical cross section\n",
    "    plt.plot(v_rel, a_drag)\n",
    "    plt.xlabel('velocity of the gas relative to the velocity of the moonlet (m/s)')\n",
    "    plt.ylabel('gas drag acceleration (m/s$^2$)')\n",
    "    plt.show()\n",
    "\n",
    "#PLOT ACCELERATION RELATIVE TO SOMETHING ELSE (g's, roller coasters, astronauts, etc.)    \n",
    "#RELATIVE SCALE IN GENERAL: how big the moonlets are (marble, golf ball, grain of sand, yoga ball, soccer field, etc.), how fast the relative and absolute velocity is\n",
    "#MAYBE THIS SHOULD BE PRINTED OUTPUT?    \n",
    "style = {'description_width': 'initial'}\n",
    "interact(pltdrag, rad_body=FloatLogSlider(value=1, base=10, min=-3, max=6, step=1, description='Size of moonlet (m)', style=style),\n",
    "         C_D=FloatSlider(value=2, min=0, max=2.5, step=0.5, description='Gas drag coefficient C$_D$ (-)', continuous_update=False, readout=True, readout_format='.1f', style=style))"
   ]
  },
  {
   "cell_type": "markdown",
   "metadata": {},
   "source": [
    "As expected, gas drag acceleration is greater when the mass of the moonlet is smaller and the gas drag coefficient and relative velocity are larger."
   ]
  },
  {
   "cell_type": "markdown",
   "metadata": {},
   "source": [
    "Now, let's see how a single moonlet travels through the vapor in a synestia. First, we will look at how a moonlet moves on a stable Keplerian orbit. Next, we will see the effects of the second-order term of gravity on the orbit of the moonlet. Moonlets, once formed, will quickly equilibrate to the midplane. So, we will look at orbits in the midplane first. Moonlets condense as droplets at the photosphere (where the vapor is saturated and has a pressure that lies on the vapor dome). We will check orbits of moonlets condensing at the photosphere (starting off the midplane) next. Let's check the decay time for various sizes of moonlets and various starting semi-major axes."
   ]
  },
  {
   "cell_type": "code",
   "execution_count": 15,
   "metadata": {},
   "outputs": [
    {
     "name": "stdout",
     "output_type": "stream",
     "text": [
      "Read 180233 particles from TE_Example01_Cool05_snapshot_4096_long\n",
      "Read 201779 particles from TE_Example03_Cool01_snapshot_10500_long\n",
      "Read 100989 particles from TE_Example07_CoolB01_snapshot_7200_long\n"
     ]
    },
    {
     "data": {
      "application/vnd.jupyter.widget-view+json": {
       "model_id": "b63686186c5d4cd0968a2c8cbaf22150",
       "version_major": 2,
       "version_minor": 0
      },
      "text/plain": [
       "interactive(children=(FloatSlider(value=20000000.0, continuous_update=False, description='Starting distance fr…"
      ]
     },
     "metadata": {},
     "output_type": "display_data"
    },
    {
     "data": {
      "text/plain": [
       "<function __main__.pltKep(x0, y0=0, z0=0, dt=1.0)>"
      ]
     },
     "execution_count": 15,
     "metadata": {},
     "output_type": "execute_result"
    }
   ],
   "source": [
    "#CALCULATE KEPLERIAN ORBIT WITH NORMAL GRAVITY\n",
    "G=6.674e-11 #SI\n",
    "%run synfits.py\n",
    "Mass_syn=np.sum(SNAP_Canup.m) #kg #Earth mass\n",
    "def pltKep(x0,y0=0,z0=0,dt=1.):\n",
    "    #1 counter-clockwise orbit\n",
    "    #default starts at (x,y,z)=(radius,0,0)\n",
    "    #with initial velocity (v_x,v_y,v_z)=(0,vel,0)\n",
    "    #dt is in seconds\n",
    "    theta=0. #radians\n",
    "    while (theta < 2*math.pi):\n",
    "        radius = (x0**2 + y0**2 + z0**2)**0.5 #distance from origin of central body (m)\n",
    "        accel_grav=-G*Mass_syn/radius**2 #total acceleration (m/s^2)\n",
    "        vel=np.sqrt(G*Mass_syn/radius) #total velocity (m/s)\n",
    "        vx0=-vel*y0/(x0**2 + y0**2)**0.5 #x vel. (m/s)\n",
    "        vy0=vel*x0/(x0**2 + y0**2)**0.5 #y vel. (m/s)\n",
    "        vz0=vel*z0/radius #z vel. (m/s)\n",
    "        ax0=accel_grav*vx0/vel #x accel. (m/s^2)\n",
    "        ay0=accel_grav*vy0/vel #y accel. (m/s^2)\n",
    "        az0=accel_grav*vz0/vel #z accel. (m/s^2)\n",
    "        dax=-dt*G*Mass_syn*ax0/(vel*(radius**2)) #change in x accel. (m/s^2)\n",
    "        day=-dt*G*Mass_syn*ay0/(vel*(radius**2)) #change in y accel. (m/s^2)\n",
    "        daz=-dt*G*Mass_syn*az0/(vel*(radius**2)) #change in z accel. (m/s^2)\n",
    "        ax=ax0+dax #update x acceleration (m/s^2)\n",
    "        ay=ay0+day #update y acceleration (m/s^2)\n",
    "        az=az0+daz #update z acceleration (m/s^2)\n",
    "        dvx=ax*dt #change in x vel. (m/s)\n",
    "        dvy=ay*dt #change in y vel. (m/s)\n",
    "        dvz=az*dt #change in z vel. (m/s)\n",
    "        vx=vx0+dvx #update x vel. (m/s)\n",
    "        vy=vy0+dvy #update y vel. (m/s)\n",
    "        vz=vz0+dvz #update z vel. (m/s)\n",
    "        dx=vx*dt #change in x (m)\n",
    "        dy=vy*dt #change in y (m)\n",
    "        dz=vz*dt #change in z (m)\n",
    "        x=x0+dx #position x (m)\n",
    "        y=y0+dy #position y (m)\n",
    "        z=z0+dz #position z (m)\n",
    "        x0=x #update x0 (m)\n",
    "        y0=y #update y0 (m)\n",
    "        z0=z #update z0 (m)\n",
    "        vx0=vx #update vx0 (m/s)\n",
    "        vy0=vy #update vy0 (m/s)\n",
    "        vz0=vz #update vz0 (m/s)\n",
    "        ax0=ax #update ax0 (m/s^2)\n",
    "        ay0=ay #update ay0 (m/s^2)\n",
    "        az0=az #update az0 (m/s^2)\n",
    "        if (x > 0.):\n",
    "            if (y > 0.):\n",
    "                theta=math.atan(y/x)\n",
    "            elif (y < 0.):\n",
    "                theta=math.atan(y/x)\n",
    "            else:\n",
    "                theta=2*math.pi #if zero, then never ending loop\n",
    "        elif (x < 0.):\n",
    "            if (y > 0.):\n",
    "                theta=math.atan(y/x)\n",
    "            elif (y < 0.):\n",
    "                theta=math.atan(y/x)\n",
    "            else:\n",
    "                theta=math.pi\n",
    "        else:\n",
    "            if (y > 0):\n",
    "                theta=0.5*math.pi\n",
    "            else:\n",
    "                theta=1.5*math.pi\n",
    "        plt.plot(x,y,'.')\n",
    "        plt.xlabel('x (m)')\n",
    "        plt.ylabel('y (m)')\n",
    "        plt.show()\n",
    "    \n",
    "interact(pltKep,\n",
    "         x0=FloatSlider(value=20e6, min=10e6, max=60e6, step=10e6,\n",
    "                        description='Starting distance from central body (m)',\n",
    "                        continuous_update=False, readout=True, readout_format='.1f', style=style))  "
   ]
  },
  {
   "cell_type": "code",
   "execution_count": null,
   "metadata": {},
   "outputs": [],
   "source": [
    "#IMPORT GADGET-2 SNAPSHOT (VAPOR IN SYNESTIA)\n",
    "#FIT THERMAL PARAMETER PROFILES: PRESSURE, TEMPERATURE, DENSITY\n",
    "#FIT IN-PLANE VELOCITY PROFILE\n",
    "#CALCULATE ORBITAL DECAY; UPDATE ACCELERATION DUE TO DRAG\n",
    "widgets.Dropdown(\n",
    "    options=[('Thickness of a plastic ID card (mm)', 1.e-3),\n",
    "             ('Diameter of a belly button (cm)', 1.e-2),\n",
    "             ('Coconut (dm)', 0.1),\n",
    "             ('Cow (m)', 1.),\n",
    "             ('230 story building (km)', 1.e3),\n",
    "             ('Width of the United States (Mm)', 1.e6),\n",
    "             ('The Moon (3.5 Mm)', 3.5e6)],\n",
    "    value=1,\n",
    "    description='Size (diameter) of moonlet:',\n",
    ")\n",
    "#need leapfrog integrator"
   ]
  },
  {
   "cell_type": "code",
   "execution_count": null,
   "metadata": {},
   "outputs": [],
   "source": [
    "#REFERENCES"
   ]
  }
 ],
 "metadata": {
  "kernelspec": {
   "display_name": "Python 3",
   "language": "python",
   "name": "python3"
  },
  "language_info": {
   "codemirror_mode": {
    "name": "ipython",
    "version": 3
   },
   "file_extension": ".py",
   "mimetype": "text/x-python",
   "name": "python",
   "nbconvert_exporter": "python",
   "pygments_lexer": "ipython3",
   "version": "3.6.8"
  }
 },
 "nbformat": 4,
 "nbformat_minor": 2
}
