{
 "cells": [
  {
   "cell_type": "markdown",
   "metadata": {},
   "source": [
    "# What are the physical properties of a synestia?"
   ]
  },
  {
   "cell_type": "markdown",
   "metadata": {},
   "source": [
    "You'll notice that synestias are very large planetary objects. They span about 200,000 km across (124,000 miles) -- that's almost 16 Earths! This synestia was formed as a result of a potential-Moon-forming giant impact. A giant impact is a collision between massive planetary objects. Giant impacts deposit enough energy into the impacted material to vaporize rock (about the total daily energy output from the Sun). Synestias have a large (10-20% of total mass) vapor component which makes them very hot, extended and puffy."
   ]
  },
  {
   "cell_type": "markdown",
   "metadata": {},
   "source": [
    "What does \"very hot\" mean?"
   ]
  },
  {
   "cell_type": "markdown",
   "metadata": {},
   "source": [
    "## Temperature Profile of a Synestia"
   ]
  },
  {
   "cell_type": "code",
   "execution_count": 2,
   "metadata": {},
   "outputs": [
    {
     "data": {
      "application/vnd.jupyter.widget-view+json": {
       "model_id": "f6d9c0af69a3455eace9d1e7d53311d6",
       "version_major": 2,
       "version_minor": 0
      },
      "text/plain": [
       "interactive(children=(FloatSlider(value=0.0, description='Depth into Planet (km)', layout=Layout(width='400px'…"
      ]
     },
     "metadata": {},
     "output_type": "display_data"
    },
    {
     "data": {
      "application/vnd.jupyter.widget-view+json": {
       "model_id": "40d9449b559d4126b4f6308a89fbea56",
       "version_major": 2,
       "version_minor": 0
      },
      "text/plain": [
       "interactive(children=(FloatSlider(value=0.0, description='Distance from Midplane (km)', layout=Layout(width='4…"
      ]
     },
     "metadata": {},
     "output_type": "display_data"
    },
    {
     "data": {
      "text/plain": [
       "<function __main__.temperature_xy(zvalue, Xarr, Yarr, T)>"
      ]
     },
     "execution_count": 2,
     "metadata": {},
     "output_type": "execute_result"
    }
   ],
   "source": [
    "from syndef import synfits\n",
    "import numpy as np\n",
    "from scipy.spatial import cKDTree\n",
    "import matplotlib.pyplot as plt\n",
    "from ipywidgets import interact,FloatSlider,fixed\n",
    "\n",
    "#define gridded arrays where want x,y,z points on plots\n",
    "n = 256 #number of gridded points for xyz arrays\n",
    "x_absmax = 30e6 #m\n",
    "z_absmax = 20e6 #m\n",
    "\n",
    "#assign particle information to single variable & convert units\n",
    "T=synfits.SNAP_CukStewart.T #K\n",
    "x=synfits.SNAP_CukStewart.x/1e3 #km\n",
    "y=synfits.SNAP_CukStewart.y/1e3 #km\n",
    "z=synfits.SNAP_CukStewart.z/1e3 #km\n",
    "\n",
    "#sort data into kdtree\n",
    "xyz = np.vstack((x,y,z)).transpose() #km\n",
    "tree = cKDTree(xyz) #make tree, sort particles into leafs\n",
    "\n",
    "#create x,y,z arrays and turn them into 2-D arrays\n",
    "xarr = np.linspace(-x_absmax,x_absmax,n)/1e3 #km\n",
    "zarr = np.linspace(-z_absmax,z_absmax,n)/1e3 #km\n",
    "Xarr,Zarr = np.meshgrid(xarr,zarr) #km, km\n",
    "yarr = np.linspace(-x_absmax,x_absmax,n)/1e3 #km\n",
    "Xarr2,Yarr = np.meshgrid(xarr,yarr) #km, km\n",
    "\n",
    "#function that gets nearest neighbor information for gridded points\n",
    "#and plots their physical property value using pcolormesh\n",
    "def temperature_xz(yvalue,Xarr,Zarr,T):\n",
    "    Yarr = np.ones_like(Xarr)*yvalue #km\n",
    "    XYZ = np.vstack((Xarr.flatten(),Yarr.flatten(),Zarr.flatten())).transpose() #km\n",
    "    d,ind = tree.query(XYZ) #find nearest neighbor to use for temperature at X,Y,Z points\n",
    "    temp = T[ind].reshape(Xarr.shape)\n",
    "    #dtest,indtest = tree.query(XYZ,k=3) #find nearest 3 neighbors\n",
    "    #temp_k = (((18./11.)*T[indtest[:,0]] + (9./11.)*T[indtest[:,1]] + (6./11.)*T[indtest[:,2]])/3).reshape(Xarr.shape) #weighted mean\n",
    "\n",
    "    plt.figure(figsize=(6,3.25))\n",
    "    plt.title('Temperature Profile: Side View')\n",
    "    plt.xlabel('x (km)')\n",
    "    plt.ylabel('z (km)')\n",
    "    plt.axis('equal')\n",
    "    plt.pcolormesh(Xarr,Zarr,temp,vmin=np.amin(T),vmax=15000)\n",
    "    #plt.pcolormesh(Xarr,Zarr,temp_k,vmin=np.amin(T),vmax=15000)\n",
    "    plt.colorbar(label='temperature (K)')\n",
    "    plt.show()\n",
    "    plt.close()\n",
    "    \n",
    "def temperature_xy(zvalue,Xarr,Yarr,T):\n",
    "    Zarr = np.ones_like(Xarr)*zvalue #km\n",
    "    XYZ = np.vstack((Xarr.flatten(),Yarr.flatten(),Zarr.flatten())).transpose() #km\n",
    "    d,ind = tree.query(XYZ) #find nearest neighbor to use for temperature at X,Y,Z points\n",
    "    #dtest,indtest = tree.query(XYZ,k=3) #find nearest 3 neighbors\n",
    "    #temp_k = ((T[indtest[:,0]] + 0.5*T[indtest[:,1]] + (1./3.)*T[indtest[:,2]])/3).reshape(Xarr.shape) #weighted mean\n",
    "    temp = T[ind].reshape(Xarr.shape)\n",
    "\n",
    "    plt.figure(figsize=(6,5))\n",
    "    plt.title('Temperature Profile: Bird\\'s Eye View')\n",
    "    plt.xlabel('x (km)')\n",
    "    plt.ylabel('y (km)')\n",
    "    plt.axis('equal')\n",
    "    plt.pcolormesh(Xarr,Yarr,temp,vmin=np.amin(T),vmax=15000)\n",
    "    plt.colorbar(label='temperature (K)')\n",
    "    plt.show()\n",
    "    plt.close()\n",
    "\n",
    "style = {'description_width': 'initial'}\n",
    "layout = {'width': '400px'}\n",
    "interact(temperature_xz,yvalue = FloatSlider(value=0, min=-30e3, max=30e3, step=2e3, description='Depth into Planet (km)',\n",
    "                      continuous_update=True, readout=True, readout_format='.1e', style=style, layout=layout),\n",
    "         Xarr=fixed(Xarr), Zarr=fixed(Zarr), T=fixed(T)\n",
    "        )\n",
    "interact(temperature_xy,zvalue = FloatSlider(value=0, min=-20e3, max=20e3, step=2e3, description='Distance from Midplane (km)',\n",
    "                      continuous_update=True, readout=True, readout_format='.1e', style=style, layout=layout),\n",
    "         Xarr=fixed(Xarr2), Yarr=fixed(Yarr), T=fixed(T)\n",
    "        )"
   ]
  },
  {
   "cell_type": "markdown",
   "metadata": {},
   "source": [
    "Pretty darn hot! If teleportation is ever discovered, don't ask to be sent into a synestia. Imagine a volcanic eruption, but # times hotter. There is no solid surface upon which we could stand, but if we somehow were floating in the moon-forming region of a synestia, it would feel like a (burning) hot, heavy atmospheric blanket. (compare to our atmospheric pressure and how sensitive our ears are to slight pressure change, feel like being squeezed?)"
   ]
  },
  {
   "cell_type": "markdown",
   "metadata": {},
   "source": [
    "## Pressure Profile of a Synestia"
   ]
  },
  {
   "cell_type": "code",
   "execution_count": 3,
   "metadata": {},
   "outputs": [
    {
     "data": {
      "application/vnd.jupyter.widget-view+json": {
       "model_id": "dfe8e82a111c4a279c563649931390f3",
       "version_major": 2,
       "version_minor": 0
      },
      "text/plain": [
       "interactive(children=(FloatSlider(value=0.0, description='Depth into Planet (km)', layout=Layout(width='400px'…"
      ]
     },
     "metadata": {},
     "output_type": "display_data"
    },
    {
     "data": {
      "application/vnd.jupyter.widget-view+json": {
       "model_id": "8893d01fb3464f1e8427600ee34d95d4",
       "version_major": 2,
       "version_minor": 0
      },
      "text/plain": [
       "interactive(children=(FloatSlider(value=0.0, description='Distance from Midplane (km)', layout=Layout(width='4…"
      ]
     },
     "metadata": {},
     "output_type": "display_data"
    },
    {
     "data": {
      "text/plain": [
       "<function __main__.pressure_xy(zvalue, Xarr, Yarr, P)>"
      ]
     },
     "execution_count": 3,
     "metadata": {},
     "output_type": "execute_result"
    }
   ],
   "source": [
    "#do same thing for pressure\n",
    "P=synfits.SNAP_CukStewart.P #Pa\n",
    "\n",
    "def pressure_xz(yvalue,Xarr,Zarr,P):\n",
    "#yvalue,Xarr,Zarr are in km; P is in Pa\n",
    "    Yarr = np.ones_like(Xarr)*yvalue #km\n",
    "    XYZ = np.vstack((Xarr.flatten(),Yarr.flatten(),Zarr.flatten())).transpose() #km\n",
    "    d,ind = tree.query(XYZ) #find nearest neighbor to use for temperature at X,Y,Z points\n",
    "    #dtest,indtest = tree.query(XYZ,k=3) #find nearest 3 neighbors\n",
    "    #temp_k = ((T[indtest[:,0]] + 0.5*T[indtest[:,1]] + (1./3.)*T[indtest[:,2]])/3).reshape(Xarr.shape) #weighted mean\n",
    "    press = np.log10(P[ind].reshape(Xarr.shape)/101325.) #atm\n",
    "\n",
    "    plt.figure(figsize=(6,3.25))\n",
    "    plt.title('Pressure Profile: Side View')\n",
    "    plt.xlabel('x (km)')\n",
    "    plt.ylabel('z (km)')\n",
    "    plt.axis('equal')\n",
    "    plt.pcolormesh(Xarr,Zarr,press,vmin=np.amin(np.log10(P/101325.)),vmax=np.amax(np.log10(P/101325.)))\n",
    "    plt.colorbar(label='log$_{10}$(pressure) (atm)')\n",
    "    plt.show()\n",
    "    plt.close()\n",
    "\n",
    "def pressure_xy(zvalue,Xarr,Yarr,P):\n",
    "#zvalue,Xarr,Yarr are in km; P is in Pa\n",
    "    Zarr = np.ones_like(Xarr)*zvalue #km\n",
    "    XYZ = np.vstack((Xarr.flatten(),Yarr.flatten(),Zarr.flatten())).transpose() #km\n",
    "    d,ind = tree.query(XYZ) #find nearest neighbor to use for temperature at X,Y,Z points\n",
    "    #dtest,indtest = tree.query(XYZ,k=3) #find nearest 3 neighbors\n",
    "    #temp_k = ((T[indtest[:,0]] + 0.5*T[indtest[:,1]] + (1./3.)*T[indtest[:,2]])/3).reshape(Xarr.shape) #weighted mean\n",
    "    press = np.log10(P[ind].reshape(Xarr.shape)/101325.) #atm\n",
    "\n",
    "    plt.figure(figsize=(6,5))\n",
    "    plt.title('Pressure Profile: Bird\\'s Eye View')\n",
    "    plt.xlabel('x (km)')\n",
    "    plt.ylabel('y (km)')\n",
    "    plt.axis('equal')\n",
    "    plt.pcolormesh(Xarr,Yarr,press,vmin=np.amin(np.log10(P/101325.)),vmax=np.amax(np.log10(P/101325.)))\n",
    "    plt.colorbar(label='log$_{10}$(pressure) (atm)')\n",
    "    plt.show()\n",
    "    plt.close()\n",
    "\n",
    "interact(pressure_xz,yvalue = FloatSlider(value=0, min=-30e3, max=30e3, step=2e3, description='Depth into Planet (km)',\n",
    "                      continuous_update=True, readout=True, readout_format='.1e', style=style, layout=layout),\n",
    "         Xarr=fixed(Xarr), Zarr=fixed(Zarr), P=fixed(P)\n",
    "        )\n",
    "interact(pressure_xy,zvalue = FloatSlider(value=0, min=-20e3, max=20e3, step=2e3, description='Distance from Midplane (km)',\n",
    "                      continuous_update=True, readout=True, readout_format='.1e', style=style, layout=layout),\n",
    "         Xarr=fixed(Xarr2), Yarr=fixed(Yarr), P=fixed(P)\n",
    "        )"
   ]
  },
  {
   "cell_type": "markdown",
   "metadata": {},
   "source": [
    "## Density Profile of a Synestia"
   ]
  },
  {
   "cell_type": "code",
   "execution_count": 4,
   "metadata": {},
   "outputs": [
    {
     "data": {
      "application/vnd.jupyter.widget-view+json": {
       "model_id": "904dcbadf14941a88551d90ac371d73a",
       "version_major": 2,
       "version_minor": 0
      },
      "text/plain": [
       "interactive(children=(FloatSlider(value=0.0, description='Depth into Planet (km)', layout=Layout(width='400px'…"
      ]
     },
     "metadata": {},
     "output_type": "display_data"
    },
    {
     "data": {
      "application/vnd.jupyter.widget-view+json": {
       "model_id": "10323fd0f2274df4a913652f43fdf77f",
       "version_major": 2,
       "version_minor": 0
      },
      "text/plain": [
       "interactive(children=(FloatSlider(value=0.0, description='Distance from Midplane (km)', layout=Layout(width='4…"
      ]
     },
     "metadata": {},
     "output_type": "display_data"
    },
    {
     "data": {
      "text/plain": [
       "<function __main__.density_xy(zvalue, Xarr, Yarr, rho)>"
      ]
     },
     "execution_count": 4,
     "metadata": {},
     "output_type": "execute_result"
    }
   ],
   "source": [
    "#do same thing for density\n",
    "rho=synfits.SNAP_CukStewart.rho #kg/m^3\n",
    "\n",
    "def density_xz(yvalue,Xarr,Zarr,rho):\n",
    "#yvalue,Xarr,Zarr are in km; rho is in kg/m^3\n",
    "    Yarr = np.ones_like(Xarr)*yvalue #km\n",
    "    XYZ = np.vstack((Xarr.flatten(),Yarr.flatten(),Zarr.flatten())).transpose() #km\n",
    "    d,ind = tree.query(XYZ) #find nearest neighbor to use for temperature at X,Y,Z points\n",
    "    #dtest,indtest = tree.query(XYZ,k=3) #find nearest 3 neighbors\n",
    "    #temp_k = ((T[indtest[:,0]] + 0.5*T[indtest[:,1]] + (1./3.)*T[indtest[:,2]])/3).reshape(Xarr.shape) #weighted mean\n",
    "    dens = np.log10(rho[ind].reshape(Xarr.shape)) #kg/m^3\n",
    "\n",
    "    plt.figure(figsize=(6,3.25))\n",
    "    plt.title('Density Profile: Side View')\n",
    "    plt.xlabel('x (km)')\n",
    "    plt.ylabel('z (km)')\n",
    "    plt.axis('equal')\n",
    "    plt.pcolormesh(Xarr,Zarr,dens,vmin=np.amin(np.log10(rho)),vmax=np.amax(np.log10(rho)))\n",
    "    plt.colorbar(label='log$_{10}$(density) (kg/m$^3$)')\n",
    "    plt.show()\n",
    "    plt.close()\n",
    "\n",
    "def density_xy(zvalue,Xarr,Yarr,rho):\n",
    "#zvalue,Xarr,Yarr are in km; rho is in kg/m^3\n",
    "    Zarr = np.ones_like(Xarr)*zvalue #km\n",
    "    XYZ = np.vstack((Xarr.flatten(),Yarr.flatten(),Zarr.flatten())).transpose() #km\n",
    "    d,ind = tree.query(XYZ) #find nearest neighbor to use for temperature at X,Y,Z points\n",
    "    #dtest,indtest = tree.query(XYZ,k=3) #find nearest 3 neighbors\n",
    "    #temp_k = ((T[indtest[:,0]] + 0.5*T[indtest[:,1]] + (1./3.)*T[indtest[:,2]])/3).reshape(Xarr.shape) #weighted mean\n",
    "    dens = np.log10(rho[ind].reshape(Xarr.shape)) #kg/m^3\n",
    "\n",
    "    plt.figure(figsize=(6,5))\n",
    "    plt.title('Density Profile: Bird\\'s Eye View')\n",
    "    plt.xlabel('x (km)')\n",
    "    plt.ylabel('y (km)')\n",
    "    plt.axis('equal')\n",
    "    plt.pcolormesh(Xarr,Yarr,dens,vmin=np.amin(np.log10(rho)),vmax=np.amax(np.log10(rho)))\n",
    "    plt.colorbar(label='log$_{10}$(density) (kg/m$^3$)')\n",
    "    plt.show()\n",
    "    plt.close()\n",
    "\n",
    "interact(density_xz,yvalue = FloatSlider(value=0, min=-30e3, max=30e3, step=2e3, description='Depth into Planet (km)',\n",
    "                      continuous_update=True, readout=True, readout_format='.1e', style=style, layout=layout),\n",
    "         Xarr=fixed(Xarr), Zarr=fixed(Zarr), rho=fixed(rho)\n",
    "        )\n",
    "interact(density_xy,zvalue = FloatSlider(value=0, min=-20e3, max=20e3, step=2e3, description='Distance from Midplane (km)',\n",
    "                      continuous_update=True, readout=True, readout_format='.1e', style=style, layout=layout),\n",
    "         Xarr=fixed(Xarr2), Yarr=fixed(Yarr), rho=fixed(rho)\n",
    "        )"
   ]
  },
  {
   "cell_type": "markdown",
   "metadata": {},
   "source": [
    "## Gravity Field of a Synestia?"
   ]
  },
  {
   "cell_type": "code",
   "execution_count": null,
   "metadata": {},
   "outputs": [],
   "source": [
    "#3D PLOT OF GRAVITY FIELD OF SYNESTIA WITH VECTORS\n",
    "#gadget spits out grav accel #want pre-set load"
   ]
  }
 ],
 "metadata": {
  "kernelspec": {
   "display_name": "Python 3",
   "language": "python",
   "name": "python3"
  },
  "language_info": {
   "codemirror_mode": {
    "name": "ipython",
    "version": 3
   },
   "file_extension": ".py",
   "mimetype": "text/x-python",
   "name": "python",
   "nbconvert_exporter": "python",
   "pygments_lexer": "ipython3",
   "version": "3.6.8"
  }
 },
 "nbformat": 4,
 "nbformat_minor": 2
}
