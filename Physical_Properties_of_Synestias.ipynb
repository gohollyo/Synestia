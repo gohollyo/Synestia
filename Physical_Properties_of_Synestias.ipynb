{
 "cells": [
  {
   "cell_type": "markdown",
   "metadata": {},
   "source": [
    "# What are the physical properties of a synestia?"
   ]
  },
  {
   "cell_type": "markdown",
   "metadata": {},
   "source": [
    "You'll notice that synestias are very large planetary objects. They span about 200,000 km across (124,000 miles) -- that's almost 16 Earths! This synestia was formed as a result of a potential-Moon-forming giant impact. A giant impact is a collision between massive planetary objects. Giant impacts deposit enough energy into the impacted material to vaporize rock (about the total daily energy output from the Sun). Synestias have a large (10-20% of total mass) vapor component which makes them very hot, extended and puffy."
   ]
  },
  {
   "cell_type": "markdown",
   "metadata": {},
   "source": [
    "What does \"very hot\" mean?"
   ]
  },
  {
   "cell_type": "markdown",
   "metadata": {},
   "source": [
    "## Temperature Profile of a Synestia"
   ]
  },
  {
   "cell_type": "code",
   "execution_count": null,
   "metadata": {},
   "outputs": [],
   "source": [
    "#LOAD GADGET-2 SNAPSHOT OF SYNESTIA\n",
    "%run synfits.py\n",
    "#CREATE AN RXY ARRAY\n",
    "rxyarr=np.linspace(7.,100.,200) #Mm\n",
    "#from scipy.interpolate import LSQUnivariateSpline\n",
    "#from scipy.optimize import least_squares\n",
    "#from scipy.interpolate import interp1d"
   ]
  },
  {
   "cell_type": "code",
   "execution_count": null,
   "metadata": {},
   "outputs": [],
   "source": [
    "#CONVERT FROM CYLINDRICAL TO CARTESIAN\n",
    "import math\n",
    "nangles=8\n",
    "theta=np.arange(0.,2*math.pi,2*math.pi/nangles)\n",
    "s_cyl=np.linspace(0.,100.,50)\n",
    "ztest=np.linspace(0.,100.,50)\n",
    "X=[s_cyl*np.cos(angle) for angle in theta]\n",
    "#make 8 different angles\n",
    "Y=np.empty([len(s_cyl),len(theta)])\n",
    "Y=[s_cyl*np.sin(angle) for angle in theta]\n",
    "Ynew=np.ma.masked_where(np.abs(Y)<1e-10,Y)\n",
    "Ynew=np.ma.filled(Ynew,0.0)\n",
    "Xnew=np.ma.masked_where(np.abs(X)<1e-10,X)\n",
    "Xnew=np.ma.filled(Xnew,0.0)\n",
    "Z=np.empty([len(theta),len(s_cyl)])\n",
    "Z=[ztest for angle in theta]\n",
    "Xgrid,Ygrid=np.meshgrid(Xnew,Ynew)\n",
    "test,Zgrid=np.meshgrid(Xnew,Z)"
   ]
  },
  {
   "cell_type": "code",
   "execution_count": null,
   "metadata": {},
   "outputs": [],
   "source": [
    "import matplotlib.pyplot as plt\n",
    "#TEMPERATURE\n",
    "T=SNAP.T[:nsamp]\n",
    "fig2=plt.figure()\n",
    "ax2=fig2.gca(projection='3d')\n",
    "#import matplotlib.tri as mtri\n",
    "#tri=mtri.Triangulation(testx.flatten(),testy.flatten())\n",
    "#cset=ax2.plot_trisurf(testx,testy,testz,tri.triangles[2],cmap='viridis')\n",
    "Xnew=np.linspace(0,40)\n",
    "Ynew=np.linspace(0,40)\n",
    "Znew=np.linspace(0,40)\n",
    "Xgrid,Ygrid=np.meshgrid(Xnew,Ynew)\n",
    "Zgrid,test=np.meshgrid(Znew,Znew)\n",
    "Zgrid=np.ones(np.shape(Xgrid))*Znew.T\n",
    "from scipy.interpolate import griddata\n",
    "#do interpolations on r,z data then treat as symmetric and do for different angles (8+)\n",
    "Tgrid=griddata((np.abs(X),np.abs(Y),np.abs(Z)),T,(Xgrid,Ygrid,Zgrid),method='nearest')\n",
    "import matplotlib.colors\n",
    "minT, maxT = T.min(), T.max()\n",
    "norm = matplotlib.colors.Normalize(minT, maxT)\n",
    "m = plt.cm.ScalarMappable(norm=norm, cmap='viridis')\n",
    "def clrs(color_dimension):\n",
    "    m.set_array([])\n",
    "    fcolors = m.to_rgba(color_dimension)\n",
    "    fcolorsb = fcolors.ravel().tolist()\n",
    "    fcolorsc = []\n",
    "    for i in range(len(fcolorsb)):\n",
    "        if i%4 is 0:\n",
    "            j=i+1\n",
    "            k=i+2\n",
    "            l=i+3\n",
    "            fcolorsc.append((fcolorsb[i],fcolorsb[j],fcolorsb[k],fcolorsb[l]))\n",
    "    return fcolorsc\n",
    "X0=np.zeros(np.shape(Xgrid))\n",
    "Y0=np.zeros(np.shape(Xgrid))\n",
    "Z0=np.zeros(np.shape(Xgrid))\n",
    "Tgridx=griddata((np.abs(X),np.abs(Y),np.abs(Z)),T,(X0,Ygrid,Zgrid),method='nearest')\n",
    "Tgridy=griddata((np.abs(X),np.abs(Y),np.abs(Z)),T,(Xgrid,Y0,Zgrid),method='nearest')\n",
    "print(Tgridy)\n",
    "Tgridz=griddata((np.abs(X),np.abs(Y),np.abs(Z)),T,(Xgrid,Ygrid,Z0),method='nearest')\n",
    "fcx=clrs(Tgridx)\n",
    "fcy=clrs(Tgridy)\n",
    "fcz=clrs(Tgridz)\n",
    "cset2=ax2.scatter3D(np.abs(X),np.abs(Y),np.abs(Z),c=T,cmap='viridis')\n",
    "#cset2=ax2.scatter3D(Xgrid,Ygrid,Zgrid,c=Tgrid,cmap='viridis')\n",
    "#cset2=ax2.contourf(Xgrid,Ygrid,Z0,zdir='z',colors=fcz)\n",
    "cset2=ax2.contourf(Xgrid,Y0,Zgrid,zdir='y',offset=100,colors=fcy)\n",
    "#cset2=ax2.contourf(X0,Ygrid,Zgrid,zdir='x',colors=fcx)\n",
    "#cset2=ax2.contourf(Xgrid,Zgrid,Tgrid,zdir='y',cmap='viridis')\n",
    "#cset2=ax2.contourf(Zgrid,Ygrid,Tgrid,zdir='x',cmap='viridis')\n",
    "#ax2.set_xlim(0,100)\n",
    "#ax2.set_ylim(0,100)\n",
    "#ax2.set_zlim(0,100)\n",
    "ax2.set_xlabel('X (1000 km)')\n",
    "ax2.set_ylabel('Y (1000 km)')\n",
    "ax2.set_zlabel('Z (1000 km)')\n",
    "fig2.colorbar(m,label='Temperature (K)')\n",
    "plt.title('Example synestia: temperature')\n",
    "plt.draw()"
   ]
  },
  {
   "cell_type": "code",
   "execution_count": null,
   "metadata": {},
   "outputs": [],
   "source": [
    "#scipy: regular grid interpolator; griddata; interpn\n",
    "#make grid - interactive slider to slide through to let see shape 3d: plot plane\n",
    "#2 ways: change z, change depth\n",
    "#pynax - check email; see if will run on online jupyter notebook, might have to add to github"
   ]
  },
  {
   "cell_type": "markdown",
   "metadata": {},
   "source": [
    "Pretty darn hot! If teleportation is ever discovered, don't ask to be sent into a synestia. Imagine a volcanic eruption, but # times hotter. There is no solid surface upon which we could stand, but if we somehow were floating in the moon-forming region of a synestia, it would feel like a (burning) hot, heavy atmospheric blanket. (compare to our atmospheric pressure and how sensitive our ears are to slight pressure change, feel like being squeezed?)"
   ]
  },
  {
   "cell_type": "markdown",
   "metadata": {},
   "source": [
    "## Pressure Profile of a Synestia"
   ]
  },
  {
   "cell_type": "code",
   "execution_count": null,
   "metadata": {},
   "outputs": [],
   "source": [
    "#PRESSURE & DENSITY\n",
    "knots = [1,2,3]\n",
    "pknots = [knots]\n",
    "print(pknots)"
   ]
  },
  {
   "cell_type": "code",
   "execution_count": null,
   "metadata": {},
   "outputs": [],
   "source": [
    "from mpl_toolkits.mplot3d import axes3d\n",
    "%matplotlib notebook\n",
    "fig=plt.figure()\n",
    "ax=fig.gca(projection='3d')\n",
    "#nsamp=1000\n",
    "#X,Y,Z=SNAP.x[:nsamp]/1e6,SNAP.y[:nsamp]/1e6,SNAP.z[:nsamp]/1e6\n",
    "ax.scatter3D(Xgrid,Ygrid,Zgrid,'.')\n",
    "###PLOT WHERE PHOTOSPHERE IS -- WHERE P IS ON VAPOR DOME FOR ENTROPY AT HEIGHT\n",
    "#ax.plot_trisurf(X,Y,Z,cmap='Blues')\n",
    "#ax.contour3D(X,Y,Z,50,cmap='binary')\n",
    "#ax.plot_surface(X,Y,Z,rstride=8,cstride=8,alpha=0.5)\n",
    "#cset=ax.contourf(X,Y,Z,zdir='z',offset=-100,cmap='coolwarm')\n",
    "#cset=ax.contourf(X,Y,Z,zdir='x',offset=-40,cmap='coolwarm')\n",
    "#cset=ax.contourf(X,Y,Z,zdir='y',offset=40,cmap='coolwarm')\n",
    "#ax.set_xlim(-100,100)\n",
    "#ax.set_ylim(-100,100)\n",
    "#ax.set_zlim(-100,100)\n",
    "ax.set_xlabel('X (1000 km)')\n",
    "ax.set_ylabel('Y (1000 km)')\n",
    "ax.set_zlabel('Z (1000 km)')\n",
    "plt.title('Example of the shape of a synestia')\n",
    "plt.draw()"
   ]
  },
  {
   "cell_type": "markdown",
   "metadata": {},
   "source": [
    "## Gravity Field of a Synestia"
   ]
  },
  {
   "cell_type": "code",
   "execution_count": null,
   "metadata": {},
   "outputs": [],
   "source": [
    "#3D PLOT OF GRAVITY FIELD OF SYNESTIA WITH VECTORS"
   ]
  }
 ],
 "metadata": {
  "kernelspec": {
   "display_name": "Python 3",
   "language": "python",
   "name": "python3"
  },
  "language_info": {
   "codemirror_mode": {
    "name": "ipython",
    "version": 3
   },
   "file_extension": ".py",
   "mimetype": "text/x-python",
   "name": "python",
   "nbconvert_exporter": "python",
   "pygments_lexer": "ipython3",
   "version": "3.6.8"
  }
 },
 "nbformat": 4,
 "nbformat_minor": 2
}
