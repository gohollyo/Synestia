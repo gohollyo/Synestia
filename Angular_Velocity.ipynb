{
 "cells": [
  {
   "cell_type": "markdown",
   "metadata": {},
   "source": [
    "# What is angular velocity?"
   ]
  },
  {
   "cell_type": "markdown",
   "metadata": {},
   "source": [
    "There are two ways to think about angular velocity."
   ]
  },
  {
   "cell_type": "markdown",
   "metadata": {},
   "source": [
    "<i><b>Case 1</b></i>: body 1 is orbiting body 2. For example, the Earth travels around the Sun. The velocity with which the Earth orbits the Sun is the Earth's angular velocity. The farther body 1 is from body 2, the faster their linear velocity will be to complete an orbit in the same amount of time (in order to maintain their angular velocity)."
   ]
  },
  {
   "cell_type": "code",
   "execution_count": null,
   "metadata": {},
   "outputs": [],
   "source": [
    "#INSERT DIAGRAM OF ORBIT"
   ]
  },
  {
   "cell_type": "markdown",
   "metadata": {},
   "source": [
    "<i><b>Case 2</b></i>: a component of a body rotates within and as part of a single body; every component of a single body is rotating about an axis of rotation. For example, a figure skater spins; since each part of their body is connected [think of your body as a connected collection of very small volumes (e.g. cells)], every component rotates together at the same angular velocity. This is the case we will be thinking about when we define a synestia."
   ]
  },
  {
   "cell_type": "code",
   "execution_count": null,
   "metadata": {},
   "outputs": [],
   "source": [
    "#solid body angular velocity: linear velocity diff but ang vel not\n",
    "#INSERT DIAGRAM OF ORBIT & SKATER"
   ]
  }
 ],
 "metadata": {
  "kernelspec": {
   "display_name": "Python 3",
   "language": "python",
   "name": "python3"
  },
  "language_info": {
   "codemirror_mode": {
    "name": "ipython",
    "version": 3
   },
   "file_extension": ".py",
   "mimetype": "text/x-python",
   "name": "python",
   "nbconvert_exporter": "python",
   "pygments_lexer": "ipython3",
   "version": "3.6.8"
  }
 },
 "nbformat": 4,
 "nbformat_minor": 2
}
