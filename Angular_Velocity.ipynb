{
 "cells": [
  {
   "cell_type": "markdown",
   "metadata": {},
   "source": [
    "# Angular Velocity"
   ]
  },
  {
   "cell_type": "markdown",
   "metadata": {},
   "source": [
    "There are two ways to think about angular velocity."
   ]
  },
  {
   "cell_type": "markdown",
   "metadata": {},
   "source": [
    "<i><b>Case 1</b></i>: body 1 is orbiting body 2, just like a satellite travels on a curved path about Earth's rotational axis.\n",
    "\n",
    "For example, Earth travels around the Sun. The velocity with which Earth orbits the Sun is Earth's angular velocity. The speed of Earth's trajectory around the Sun would be faster if Earth were closer to the Sun and maintained its angular velocity. The farther body 1 is from body 2, the faster body 1's linear velocity will be to complete an orbit in the same amount of time (in order to maintain its angular velocity)."
   ]
  },
  {
   "attachments": {},
   "cell_type": "markdown",
   "metadata": {},
   "source": [
    "![title](Figures/FigureAngVelWheel.png)"
   ]
  },
  {
   "cell_type": "markdown",
   "metadata": {},
   "source": [
    "On the left, imagine having a bird's eye view of the plane that body 1 is orbiting body 2 (Hub) in. If Body 1 were to conserve its angular velocity, Body 1's orbital speed would quicken as its orbit's distance from the center increased (from A to D).  \n",
    "Credit: http://spaces.imperial.edu/russell.lavery/Ast100/Lectures/Ast100Topic31.html"
   ]
  },
  {
   "cell_type": "markdown",
   "metadata": {},
   "source": [
    "<i><b>Case 2</b></i>: a component of a body rotates within and as part of a single body (this is called solid body rotation). Every component of a single body is rotating about an axis of rotation.\n",
    "\n",
    "For example, a figure skater spins with a certain angular velocity. Since each part of their body is connected [think of your body as a connected collection of very small volumes (e.g. cells, body parts)], every component rotates together at the same angular velocity. Each component has the same angular velocity, but may be moving at a different speed than other components in order to remain part of the body.\n",
    "\n",
    "Say a spinning figure skater's arm is extended. The hand (red R$_2$) has a larger radius and has to travel a longer arc about the body to line up with the shoulder (pink R$_1$), which is closer to the rotational axis (maroon $\\omega$) and does not have to travel as large of a distance about the body. In the same amount of time (over the same angle change), these body parts must travel different speeds to maintain the body's rate of rotation (angular velocity). A component must move faster if it is located at larger radii from the rotational axis, so the hand would have a faster linear velocity than the shoulder would."
   ]
  },
  {
   "attachments": {},
   "cell_type": "markdown",
   "metadata": {},
   "source": [
    "![title](Figures/FigureSkater.png)"
   ]
  },
  {
   "cell_type": "markdown",
   "metadata": {},
   "source": [
    "What if there was a rotating body that could not rotate together at the same angular velocity? This is true for a synestia. Case 2 is the case we use to define a synestia."
   ]
  },
  {
   "cell_type": "markdown",
   "metadata": {},
   "source": [
    "The relationship between angular velocity $\\omega$ and linear velocity v is\n",
    "$$v = r \\times \\omega$$\n",
    "where r is the distance from the body to the rotational axis (the axis about which the body is rotating with angular velocity $\\omega$). The component of the body's linear velocity that affects the magnitude (value) of angular velocity is perpendicular to the radius vector and perpendicular to the rotational axis.\n",
    "\n",
    "A solid, rotating body can have the same angular velocity, yet portions of the body at different radii will have different linear velocities. If we are only looking at the angular velocity in z, so that our rotational axis is z, then the perpendicular radii would make up different sized orbits in the xy plane (at various z). You can also think of the distances from the rotational axis as nested cylinders. The outer orbits/cylinders would be at larger radii, so to maintain the body's rotational velocity, that portion of the body would need a linear velocity (tangential to the orbit/cylinder made in the xy plane, or rather, perpendicular to the radius) that is faster than the portions of the body at smaller orbits/cylinders (radii)."
   ]
  },
  {
   "attachments": {},
   "cell_type": "markdown",
   "metadata": {},
   "source": [
    "![title](Figures/FigureAngVelVectors.png)"
   ]
  },
  {
   "cell_type": "markdown",
   "metadata": {},
   "source": [
    "Credit: modified from Pearson Education (2015) https://slideplayer.com/slide/4904164/"
   ]
  }
 ],
 "metadata": {
  "kernelspec": {
   "display_name": "Python 3",
   "language": "python",
   "name": "python3"
  },
  "language_info": {
   "codemirror_mode": {
    "name": "ipython",
    "version": 3
   },
   "file_extension": ".py",
   "mimetype": "text/x-python",
   "name": "python",
   "nbconvert_exporter": "python",
   "pygments_lexer": "ipython3",
   "version": "3.6.8"
  }
 },
 "nbformat": 4,
 "nbformat_minor": 2
}
