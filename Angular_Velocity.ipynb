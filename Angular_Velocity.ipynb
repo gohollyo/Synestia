{
 "cells": [
  {
   "cell_type": "markdown",
   "metadata": {},
   "source": [
    "# What is angular velocity?"
   ]
  },
  {
   "cell_type": "markdown",
   "metadata": {},
   "source": [
    "There are two ways to think about angular velocity."
   ]
  },
  {
   "cell_type": "markdown",
   "metadata": {},
   "source": [
    "<i><b>Case 1</b></i>: body 1 is orbiting body 2, just like a satellite travels on a curved path about Earth's rotational axis.\n",
    "\n",
    "For example, Earth travels around the Sun. The velocity with which Earth orbits the Sun is Earth's angular velocity. The speed of Earth's trajectory around the Sun would be faster if Earth were closer to the Sun and maintained its angular velocity. The farther body 1 is from body 2, the faster body 1's linear velocity will be to complete an orbit in the same amount of time (in order to maintain its angular velocity)."
   ]
  },
  {
   "cell_type": "code",
   "execution_count": null,
   "metadata": {},
   "outputs": [],
   "source": [
    "#INSERT DIAGRAM OF ORBIT"
   ]
  },
  {
   "cell_type": "markdown",
   "metadata": {},
   "source": [
    "<i><b>Case 2</b></i>: a component of a body rotates within and as part of a single body (this is called solid body rotation). Every component of a single body is rotating about an axis of rotation.\n",
    "\n",
    "For example, a figure skater spins with a certain angular velocity. Since each part of their body is connected [think of your body as a connected collection of very small volumes (e.g. cells, body parts)], every component rotates together at the same angular velocity. Each component has the same angular velocity, but may be moving at a different speed than other components in order to remain part of the body.\n",
    "\n",
    "Say a spinning figure skater's arm is extended. The hand has a larger radius and has to travel a longer arc about the body to line up with the shoulder, which is closer to the rotational axis (smaller radius) and does not have to travel as large of a distance about the body. In the same amount of time, these body parts must travel different speeds to maintain the body's rate of rotation (angular velocity). A component must move faster if it is located at larger radii from the rotational axis.\n",
    "\n",
    "What if there was a rotating body that could not rotate together at the same angular velocity? This is true for a synestia. Case 2 is the case we use to define a synestia."
   ]
  },
  {
   "cell_type": "code",
   "execution_count": null,
   "metadata": {},
   "outputs": [],
   "source": [
    "#solid body angular velocity: linear velocity diff but ang vel not\n",
    "#INSERT DIAGRAM OF ORBIT & SKATER"
   ]
  },
  {
   "cell_type": "markdown",
   "metadata": {},
   "source": [
    "The equation for angular velocity $\\omega$ is\n",
    "$$\\omega = r \\times v = rvsin\\theta$$\n",
    "where v is the linear velocity of the body, r is the distance from the body to the rotational axis (the axis about which the body is rotating), and $\\theta$ is the angle between the body's linear velocity and the radius vectors (the radius vector is the direction the radius points away from the rotational axis). The component of the body's linear velocity that affects the magnitude (value) of angular velocity is perpendicular to the radius vector."
   ]
  },
  {
   "cell_type": "code",
   "execution_count": null,
   "metadata": {},
   "outputs": [],
   "source": [
    "#insert diagram delineating components"
   ]
  }
 ],
 "metadata": {
  "kernelspec": {
   "display_name": "Python 3",
   "language": "python",
   "name": "python3"
  },
  "language_info": {
   "codemirror_mode": {
    "name": "ipython",
    "version": 3
   },
   "file_extension": ".py",
   "mimetype": "text/x-python",
   "name": "python",
   "nbconvert_exporter": "python",
   "pygments_lexer": "ipython3",
   "version": "3.6.8"
  }
 },
 "nbformat": 4,
 "nbformat_minor": 2
}
