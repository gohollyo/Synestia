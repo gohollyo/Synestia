{
 "cells": [
  {
   "cell_type": "markdown",
   "metadata": {},
   "source": [
    "# Introduction"
   ]
  },
  {
   "cell_type": "markdown",
   "metadata": {},
   "source": [
    "Research is difficult; explaining it is even more so. How can researchers distill complex, nuanced research results into a friendly and easy-to-understand format for others? Jupyter Notebooks (documents that are part text, media, and code that can be placed online) are an effective visualization educational tool for conveying ideas and research results (insert citation here). Part of what makes Jupyter Notebooks effective learning tools is their interactive <i>ipywidgets</i>. These widgets can be manipulated so that a user can interact with the Jupyter Notebook. Widgets are commonly used in this set of notebooks to allow a user to manipulate plots. A user can adjust the inputs for an analysis, and changes in the plots are shown in real time. This allows the user to explore concepts visually and gain an intuitive understanding of how various parameters affect a particular outcome. Jupyter Notebooks also have a higher readability and approachability than scientific papers, which tend to be less inviting for non-specialists.\n",
    "\n",
    "The goal of this particular set of Jupyter Notebooks is to help people at the undergraduate level and above understand a newly discovered type of planetary object called a synestia. This discovery is not well understood by those outside of the lunar research community, although it has received a decent amount of publicity (TED talk, Scientific American). Every new idea takes a while to absorb into the public sphere, still, those who do know about synestias struggle with grasping the internal dynamics of synestias. This is to be expected; we have no real-life reference for synestias (e.g. telescopic images). We are not familiar with this new type of planetary object so we don't have any intuition for how a synestia might behave. The physics that can explain how synestias work are unfamiliar to us; what we observe on Earth on a daily basis is very different from how those same objects would behave within a synestia's oblate, high-pressure, high-temperature environment. These notebooks seek to breach that gap -- to help you analyze and gain intuition about the inner workings of synestias so that they seem less nebulous. In the following notebooks, you will be guided through the various dynamics and attributes of synestias, mainly via interactive figures.\n",
    "\n",
    "1. <b>Introduction</b> (This notebook!)\n",
    "2. <b>Physical Properties of Synestias</b> (Temperature, Pressure, Density, Gravity)  \n",
    "3. <b>What Determines Whether a Planetary Structure is a Synestia?</b> (Corotation Limit)  \n",
    "4. <b>How Do Synestias Form?</b> (Giant Impacts)  \n",
    "5. <b>Can We Trust Giant Impact Simulations of Synestias?</b> (Hydrostatic Equilibrium)  \n",
    "6. <b>How Does Gas in a Synestia Affect Moon Formation?</b> (Gas Drag)  \n",
    "7. <b>How Do Synestia-Interior Moonlets Interact?</b> (Synestias Must Conserve Angular Momentum)  \n",
    "\n",
    "There are a few smaller, bite-sized notebooks that define terms or concepts that are commonly invoked in explanations throughout the main notebooks, namely:  \n",
    "A. <i>Midplane</i>  \n",
    "B. <i>Polar Coordinates</i>   \n",
    "C. <i>Angular Velocity</i>   \n",
    "D. <i>Keplerian Orbit</i>   \n",
    "\n",
    "These notebooks will touch on various science concepts: linear and angular velocity, linear and centripetal acceleration, conservation of angular momentum, gravitational forces acting on multiple bodies, non-conservative forces (gas drag), discretization, pressure gradients and hydrostatic equilibrium, material phases and phase changes, extreme thermal regimes for rocky materials, orbits (Keplerian), solid body rotation, giant impacts, deep time (early solar system), formation of moons and planets, and planetary structures (planet, moon, planetary disk, synestia).\n",
    "\n",
    "In addition, these notebooks satisfy the following student learning outcomes based on CAS (Council for the Advancement of Standards in higher education) domains.\n",
    " \n",
    "<u>Knowledge acquisition, construction, integration and application</u>  \n",
    "-> Understanding knowledge from a range of disciplines: \"Possesses knowledge of...the physical world; possesses knowledge of [a specific] one or more subjects\" (e.g. synestias, formation of Earth-Moon system)  \n",
    "-> Constructing knowledge: \"Personalizes learning; makes meaning from text, instruction, and experience; uses experience and other sources of information to create new insights;...recognizes one’s own capacity to create new understandings from learning activities\"  \n",
    "-> Relating knowledge to daily life: \"makes connections between classroom and out-of-classroom learning\"\n",
    "\n",
    "\n",
    "<u>Cognitive complexity</u>  \n",
    "-> Critical thinking: \"analyzes, interprets, and makes judgments of the relevance and quality of information; assesses assumptions and considers alternative perspectives and solutions\"  \n",
    "-> Reflective thinking: \"Applies previously understood information, concepts, and experiences to a new situation or setting; rethinks previous assumptions\"  \n",
    "-> Effective reasoning: \"Uses complex information from a variety of sources including personal experience and observation to form a decision or opinion; is open to new ideas and perspectives\"\n",
    "\n",
    "<u>Practical competence</u>  \n",
    "-> Technological competence: \"Demonstrates technological literacy and skills...stays current with technological innovations\"  \n",
    "\n",
    "Citation:  \n",
    "Council for the Advancement of Standards in Higher Education (2015). CAS learning and development outcomes. In J. B. Wells (Ed.), CAS professional standards for higher education (9th ed.). Washington, DC: Author.  \n",
    "http://standards.cas.edu/getpdf.cfm?PDF=D87A29DC-D1D6-D014-83AA8667902C480B\n",
    "\n",
    "This set of Jupyter Notebooks is intended for non-profit educational purposes, in partial fulfillment of Gigja Hollyday's M.S. thesis in Geology at the University of California, Davis."
   ]
  }
 ],
 "metadata": {
  "kernelspec": {
   "display_name": "Python 3",
   "language": "python",
   "name": "python3"
  },
  "language_info": {
   "codemirror_mode": {
    "name": "ipython",
    "version": 3
   },
   "file_extension": ".py",
   "mimetype": "text/x-python",
   "name": "python",
   "nbconvert_exporter": "python",
   "pygments_lexer": "ipython3",
   "version": "3.6.8"
  }
 },
 "nbformat": 4,
 "nbformat_minor": 2
}
