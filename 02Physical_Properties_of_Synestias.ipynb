{
 "cells": [
  {
   "cell_type": "markdown",
   "metadata": {},
   "source": [
    "# What are the physical properties of a synestia?"
   ]
  },
  {
   "cell_type": "markdown",
   "metadata": {},
   "source": [
    "You'll notice that synestias are very large planetary objects. They span about 200,000 km across (124,000 miles) -- that's almost 16 Earths! This synestia was formed as a result of a potential-Moon-forming giant impact. A giant impact is a collision between massive planetary objects. Giant impacts deposit enough energy into the impacted material to vaporize rock (about the total daily energy output from the Sun). Synestias have a large (10-20% of total mass) vapor component which makes them very hot, extended and puffy."
   ]
  },
  {
   "cell_type": "markdown",
   "metadata": {},
   "source": [
    "What does \"very hot\" mean?"
   ]
  },
  {
   "cell_type": "markdown",
   "metadata": {},
   "source": [
    "## Temperature Profile of a Synestia"
   ]
  },
  {
   "cell_type": "code",
   "execution_count": 3,
   "metadata": {},
   "outputs": [
    {
     "data": {
      "application/vnd.jupyter.widget-view+json": {
       "model_id": "330b8579f6f24896a1fa7decf10ec987",
       "version_major": 2,
       "version_minor": 0
      },
      "text/plain": [
       "interactive(children=(FloatSlider(value=0.0, description='Depth into Planet (km)', layout=Layout(width='400px'…"
      ]
     },
     "metadata": {},
     "output_type": "display_data"
    },
    {
     "data": {
      "application/vnd.jupyter.widget-view+json": {
       "model_id": "593a29635bd04f848cb1b94262cfd0d8",
       "version_major": 2,
       "version_minor": 0
      },
      "text/plain": [
       "interactive(children=(FloatSlider(value=0.0, description='Distance from Midplane (km)', layout=Layout(width='4…"
      ]
     },
     "metadata": {},
     "output_type": "display_data"
    },
    {
     "data": {
      "text/plain": [
       "<function __main__.temperature_xy(zvalue, Xarr, Yarr, T)>"
      ]
     },
     "execution_count": 3,
     "metadata": {},
     "output_type": "execute_result"
    }
   ],
   "source": [
    "from syndef import synfits\n",
    "import numpy as np\n",
    "from scipy.spatial import cKDTree\n",
    "import matplotlib.pyplot as plt\n",
    "from ipywidgets import interact,FloatSlider,fixed\n",
    "\n",
    "#define gridded arrays where want x,y,z points on plots\n",
    "n = 256 #number of gridded points for xyz arrays\n",
    "x_absmax = 30e6 #m\n",
    "z_absmax = 20e6 #m\n",
    "\n",
    "#assign particle information to single variable & convert units\n",
    "T=synfits.SNAP_CukStewart.T #K\n",
    "x=synfits.SNAP_CukStewart.x/1e3 #km\n",
    "y=synfits.SNAP_CukStewart.y/1e3 #km\n",
    "z=synfits.SNAP_CukStewart.z/1e3 #km\n",
    "\n",
    "#sort data into kdtree\n",
    "xyz = np.vstack((x,y,z)).transpose() #km\n",
    "tree = cKDTree(xyz) #make tree, sort particles into leafs\n",
    "\n",
    "#create x,y,z arrays and turn them into 2-D arrays\n",
    "xarr = np.linspace(-x_absmax,x_absmax,n)/1e3 #km\n",
    "zarr = np.linspace(-z_absmax,z_absmax,n)/1e3 #km\n",
    "Xarr,Zarr = np.meshgrid(xarr,zarr) #km, km\n",
    "yarr = np.linspace(-x_absmax,x_absmax,n)/1e3 #km\n",
    "Xarr2,Yarr = np.meshgrid(xarr,yarr) #km, km\n",
    "\n",
    "#function that gets nearest neighbor information for gridded points\n",
    "#and plots their physical property value using pcolormesh\n",
    "def temperature_xz(yvalue,Xarr,Zarr,T):\n",
    "    Yarr = np.ones_like(Xarr)*yvalue #km\n",
    "    XYZ = np.vstack((Xarr.flatten(),Yarr.flatten(),Zarr.flatten())).transpose() #km\n",
    "    d,ind = tree.query(XYZ) #find nearest neighbor to use for temperature at X,Y,Z points\n",
    "    temp = T[ind].reshape(Xarr.shape)\n",
    "    #dtest,indtest = tree.query(XYZ,k=3) #find nearest 3 neighbors\n",
    "    #temp_k = (((18./11.)*T[indtest[:,0]] + (9./11.)*T[indtest[:,1]] + (6./11.)*T[indtest[:,2]])/3).reshape(Xarr.shape) #weighted mean\n",
    "\n",
    "    plt.figure(figsize=(6,3.25))\n",
    "    plt.title('Temperature Profile: Side View')\n",
    "    plt.xlabel('x (km)')\n",
    "    plt.ylabel('z (km)')\n",
    "    plt.axis('equal')\n",
    "    plt.pcolormesh(Xarr,Zarr,temp,vmin=np.amin(T),vmax=15000)\n",
    "    #plt.pcolormesh(Xarr,Zarr,temp_k,vmin=np.amin(T),vmax=15000)\n",
    "    plt.colorbar(label='temperature (K)')\n",
    "    plt.show()\n",
    "    plt.close()\n",
    "    \n",
    "def temperature_xy(zvalue,Xarr,Yarr,T):\n",
    "    Zarr = np.ones_like(Xarr)*zvalue #km\n",
    "    XYZ = np.vstack((Xarr.flatten(),Yarr.flatten(),Zarr.flatten())).transpose() #km\n",
    "    d,ind = tree.query(XYZ) #find nearest neighbor to use for temperature at X,Y,Z points\n",
    "    #dtest,indtest = tree.query(XYZ,k=3) #find nearest 3 neighbors\n",
    "    #temp_k = ((T[indtest[:,0]] + 0.5*T[indtest[:,1]] + (1./3.)*T[indtest[:,2]])/3).reshape(Xarr.shape) #weighted mean\n",
    "    temp = T[ind].reshape(Xarr.shape)\n",
    "\n",
    "    plt.figure(figsize=(6,5))\n",
    "    plt.title('Temperature Profile: Bird\\'s Eye View')\n",
    "    plt.xlabel('x (km)')\n",
    "    plt.ylabel('y (km)')\n",
    "    plt.axis('equal')\n",
    "    plt.pcolormesh(Xarr,Yarr,temp,vmin=np.amin(T),vmax=15000)\n",
    "    plt.colorbar(label='temperature (K)')\n",
    "    plt.show()\n",
    "    plt.close()\n",
    "\n",
    "style = {'description_width': 'initial'}\n",
    "layout = {'width': '400px'}\n",
    "interact(temperature_xz,yvalue = FloatSlider(value=0, min=-30e3, max=30e3, step=2e3, description='Depth into Planet (km)',\n",
    "                      continuous_update=True, readout=True, readout_format='.1e', style=style, layout=layout),\n",
    "         Xarr=fixed(Xarr), Zarr=fixed(Zarr), T=fixed(T)\n",
    "        )\n",
    "interact(temperature_xy,zvalue = FloatSlider(value=0, min=-20e3, max=20e3, step=2e3, description='Distance from Midplane (km)',\n",
    "                      continuous_update=True, readout=True, readout_format='.1e', style=style, layout=layout),\n",
    "         Xarr=fixed(Xarr2), Yarr=fixed(Yarr), T=fixed(T)\n",
    "        )"
   ]
  },
  {
   "cell_type": "markdown",
   "metadata": {},
   "source": [
    "Pretty darn hot! If teleportation is ever discovered, don't ask to be sent into a synestia. Imagine a volcanic eruption, but # times hotter. There is no solid surface upon which we could stand, but if we somehow were floating in the moon-forming region of a synestia, it would feel like a (burning) hot, heavy atmospheric blanket.\n",
    "Our atmosphere is 1 bar, so imagine how it would feel to have the weight of 10's or 100's of Earth's atmosphere surrounding you! That is what the pressure of a synestia's gas would feel like.\n",
    "(hot outer core, hot atmosphere)"
   ]
  },
  {
   "cell_type": "markdown",
   "metadata": {},
   "source": [
    "## Pressure Profile of a Synestia"
   ]
  },
  {
   "cell_type": "code",
   "execution_count": 3,
   "metadata": {},
   "outputs": [
    {
     "data": {
      "application/vnd.jupyter.widget-view+json": {
       "model_id": "dfe8e82a111c4a279c563649931390f3",
       "version_major": 2,
       "version_minor": 0
      },
      "text/plain": [
       "interactive(children=(FloatSlider(value=0.0, description='Depth into Planet (km)', layout=Layout(width='400px'…"
      ]
     },
     "metadata": {},
     "output_type": "display_data"
    },
    {
     "data": {
      "application/vnd.jupyter.widget-view+json": {
       "model_id": "8893d01fb3464f1e8427600ee34d95d4",
       "version_major": 2,
       "version_minor": 0
      },
      "text/plain": [
       "interactive(children=(FloatSlider(value=0.0, description='Distance from Midplane (km)', layout=Layout(width='4…"
      ]
     },
     "metadata": {},
     "output_type": "display_data"
    },
    {
     "data": {
      "text/plain": [
       "<function __main__.pressure_xy(zvalue, Xarr, Yarr, P)>"
      ]
     },
     "execution_count": 3,
     "metadata": {},
     "output_type": "execute_result"
    }
   ],
   "source": [
    "#do same thing for pressure\n",
    "P=synfits.SNAP_CukStewart.P #Pa\n",
    "\n",
    "def pressure_xz(yvalue,Xarr,Zarr,P):\n",
    "#yvalue,Xarr,Zarr are in km; P is in Pa\n",
    "    Yarr = np.ones_like(Xarr)*yvalue #km\n",
    "    XYZ = np.vstack((Xarr.flatten(),Yarr.flatten(),Zarr.flatten())).transpose() #km\n",
    "    d,ind = tree.query(XYZ) #find nearest neighbor to use for temperature at X,Y,Z points\n",
    "    #dtest,indtest = tree.query(XYZ,k=3) #find nearest 3 neighbors\n",
    "    #temp_k = ((T[indtest[:,0]] + 0.5*T[indtest[:,1]] + (1./3.)*T[indtest[:,2]])/3).reshape(Xarr.shape) #weighted mean\n",
    "    press = np.log10(P[ind].reshape(Xarr.shape)/101325.) #atm\n",
    "\n",
    "    plt.figure(figsize=(6,3.25))\n",
    "    plt.title('Pressure Profile: Side View')\n",
    "    plt.xlabel('x (km)')\n",
    "    plt.ylabel('z (km)')\n",
    "    plt.axis('equal')\n",
    "    plt.pcolormesh(Xarr,Zarr,press,vmin=np.amin(np.log10(P/101325.)),vmax=np.amax(np.log10(P/101325.)))\n",
    "    plt.colorbar(label='log$_{10}$(pressure) (atm)')\n",
    "    plt.show()\n",
    "    plt.close()\n",
    "\n",
    "def pressure_xy(zvalue,Xarr,Yarr,P):\n",
    "#zvalue,Xarr,Yarr are in km; P is in Pa\n",
    "    Zarr = np.ones_like(Xarr)*zvalue #km\n",
    "    XYZ = np.vstack((Xarr.flatten(),Yarr.flatten(),Zarr.flatten())).transpose() #km\n",
    "    d,ind = tree.query(XYZ) #find nearest neighbor to use for temperature at X,Y,Z points\n",
    "    #dtest,indtest = tree.query(XYZ,k=3) #find nearest 3 neighbors\n",
    "    #temp_k = ((T[indtest[:,0]] + 0.5*T[indtest[:,1]] + (1./3.)*T[indtest[:,2]])/3).reshape(Xarr.shape) #weighted mean\n",
    "    press = np.log10(P[ind].reshape(Xarr.shape)/101325.) #atm\n",
    "\n",
    "    plt.figure(figsize=(6,5))\n",
    "    plt.title('Pressure Profile: Bird\\'s Eye View')\n",
    "    plt.xlabel('x (km)')\n",
    "    plt.ylabel('y (km)')\n",
    "    plt.axis('equal')\n",
    "    plt.pcolormesh(Xarr,Yarr,press,vmin=np.amin(np.log10(P/101325.)),vmax=np.amax(np.log10(P/101325.)))\n",
    "    plt.colorbar(label='log$_{10}$(pressure) (atm)')\n",
    "    plt.show()\n",
    "    plt.close()\n",
    "\n",
    "interact(pressure_xz,yvalue = FloatSlider(value=0, min=-30e3, max=30e3, step=2e3, description='Depth into Planet (km)',\n",
    "                      continuous_update=True, readout=True, readout_format='.1e', style=style, layout=layout),\n",
    "         Xarr=fixed(Xarr), Zarr=fixed(Zarr), P=fixed(P)\n",
    "        )\n",
    "interact(pressure_xy,zvalue = FloatSlider(value=0, min=-20e3, max=20e3, step=2e3, description='Distance from Midplane (km)',\n",
    "                      continuous_update=True, readout=True, readout_format='.1e', style=style, layout=layout),\n",
    "         Xarr=fixed(Xarr2), Yarr=fixed(Yarr), P=fixed(P)\n",
    "        )"
   ]
  },
  {
   "cell_type": "markdown",
   "metadata": {},
   "source": [
    "If you have ever been swimming, the pressure you feel (most noticeably in your ears) at a depth of 10 meters (33 feet) of water is 2 bars. The pressure felt by a synestia's vapor in its moon-forming region (# in this case) will be at least five times that. That's a tremendous amount of pressure! It's the reason why a synestia's gas has such an effect on the dynamics within a synestia. The pressure is an additional significant force that allows the synestia to be very puffy and large and emplaces more moon-forming material in the moon-forming region than a traditional moon-forming disk could. High pressures also contribute to chemical equilibrium of material (making rocky material in a synestia as \"homogeneous\" as possible) and the gaseous and vaporous thermal regime of the rocky material in a synestia.\n",
    "\n",
    "Now that you have an idea of how heavy a synestia's gas would feel, how thick would the gas be? In order words, how dense would it be? For example, in our own atmosphere, we experience fog, which is much more dense with water than we typically experience in our air. For comparison, our air's density is 1.225 kg/m$^3$ [under standard conditions (at sea level and 15&deg;C); International Standard Atmosphere], fog has an average density of 0.05 g/m$^3$ for medium fog (visibility of the order of 300 m) and 0.5 g/m$^3$ for thick fog (visibility ofthe order of 50 m)(https://www.itu.int/dms_pubrec/itu-r/rec/p/R-REC-P.840-2-199708-S!!PDF-E.pdf), and liquid water on Earth has a density of about 1000 kg/m$^3$."
   ]
  },
  {
   "cell_type": "markdown",
   "metadata": {},
   "source": [
    "## Density Profile of a Synestia"
   ]
  },
  {
   "cell_type": "code",
   "execution_count": 4,
   "metadata": {},
   "outputs": [
    {
     "data": {
      "application/vnd.jupyter.widget-view+json": {
       "model_id": "904dcbadf14941a88551d90ac371d73a",
       "version_major": 2,
       "version_minor": 0
      },
      "text/plain": [
       "interactive(children=(FloatSlider(value=0.0, description='Depth into Planet (km)', layout=Layout(width='400px'…"
      ]
     },
     "metadata": {},
     "output_type": "display_data"
    },
    {
     "data": {
      "application/vnd.jupyter.widget-view+json": {
       "model_id": "10323fd0f2274df4a913652f43fdf77f",
       "version_major": 2,
       "version_minor": 0
      },
      "text/plain": [
       "interactive(children=(FloatSlider(value=0.0, description='Distance from Midplane (km)', layout=Layout(width='4…"
      ]
     },
     "metadata": {},
     "output_type": "display_data"
    },
    {
     "data": {
      "text/plain": [
       "<function __main__.density_xy(zvalue, Xarr, Yarr, rho)>"
      ]
     },
     "execution_count": 4,
     "metadata": {},
     "output_type": "execute_result"
    }
   ],
   "source": [
    "#do same thing for density\n",
    "rho=synfits.SNAP_CukStewart.rho #kg/m^3\n",
    "\n",
    "def density_xz(yvalue,Xarr,Zarr,rho):\n",
    "#yvalue,Xarr,Zarr are in km; rho is in kg/m^3\n",
    "    Yarr = np.ones_like(Xarr)*yvalue #km\n",
    "    XYZ = np.vstack((Xarr.flatten(),Yarr.flatten(),Zarr.flatten())).transpose() #km\n",
    "    d,ind = tree.query(XYZ) #find nearest neighbor to use for temperature at X,Y,Z points\n",
    "    #dtest,indtest = tree.query(XYZ,k=3) #find nearest 3 neighbors\n",
    "    #temp_k = ((T[indtest[:,0]] + 0.5*T[indtest[:,1]] + (1./3.)*T[indtest[:,2]])/3).reshape(Xarr.shape) #weighted mean\n",
    "    dens = np.log10(rho[ind].reshape(Xarr.shape)) #kg/m^3\n",
    "\n",
    "    plt.figure(figsize=(6,3.25))\n",
    "    plt.title('Density Profile: Side View')\n",
    "    plt.xlabel('x (km)')\n",
    "    plt.ylabel('z (km)')\n",
    "    plt.axis('equal')\n",
    "    plt.pcolormesh(Xarr,Zarr,dens,vmin=np.amin(np.log10(rho)),vmax=np.amax(np.log10(rho)))\n",
    "    plt.colorbar(label='log$_{10}$(density) (kg/m$^3$)')\n",
    "    plt.show()\n",
    "    plt.close()\n",
    "\n",
    "def density_xy(zvalue,Xarr,Yarr,rho):\n",
    "#zvalue,Xarr,Yarr are in km; rho is in kg/m^3\n",
    "    Zarr = np.ones_like(Xarr)*zvalue #km\n",
    "    XYZ = np.vstack((Xarr.flatten(),Yarr.flatten(),Zarr.flatten())).transpose() #km\n",
    "    d,ind = tree.query(XYZ) #find nearest neighbor to use for temperature at X,Y,Z points\n",
    "    #dtest,indtest = tree.query(XYZ,k=3) #find nearest 3 neighbors\n",
    "    #temp_k = ((T[indtest[:,0]] + 0.5*T[indtest[:,1]] + (1./3.)*T[indtest[:,2]])/3).reshape(Xarr.shape) #weighted mean\n",
    "    dens = np.log10(rho[ind].reshape(Xarr.shape)) #kg/m^3\n",
    "\n",
    "    plt.figure(figsize=(6,5))\n",
    "    plt.title('Density Profile: Bird\\'s Eye View')\n",
    "    plt.xlabel('x (km)')\n",
    "    plt.ylabel('y (km)')\n",
    "    plt.axis('equal')\n",
    "    plt.pcolormesh(Xarr,Yarr,dens,vmin=np.amin(np.log10(rho)),vmax=np.amax(np.log10(rho)))\n",
    "    plt.colorbar(label='log$_{10}$(density) (kg/m$^3$)')\n",
    "    plt.show()\n",
    "    plt.close()\n",
    "\n",
    "interact(density_xz,yvalue = FloatSlider(value=0, min=-30e3, max=30e3, step=2e3, description='Depth into Planet (km)',\n",
    "                      continuous_update=True, readout=True, readout_format='.1e', style=style, layout=layout),\n",
    "         Xarr=fixed(Xarr), Zarr=fixed(Zarr), rho=fixed(rho)\n",
    "        )\n",
    "interact(density_xy,zvalue = FloatSlider(value=0, min=-20e3, max=20e3, step=2e3, description='Distance from Midplane (km)',\n",
    "                      continuous_update=True, readout=True, readout_format='.1e', style=style, layout=layout),\n",
    "         Xarr=fixed(Xarr2), Yarr=fixed(Yarr), rho=fixed(rho)\n",
    "        )"
   ]
  },
  {
   "cell_type": "markdown",
   "metadata": {},
   "source": [
    "A synestia can be either very dense or hardly dense at all (less dense than our air); it depends largely on the region we investigate. The vapor at the farthest radii will be less dense, while the center and vapor along the midplane will be the most dense (#-# times as dense as _).\n",
    "\n",
    "Part of this has to with the temperature and pressure regime a particular region is in; part of it has to do with the mass distribution within a synestia. Let's take a look at the gravity field to get a better sense of the mass distribution within a synestia."
   ]
  },
  {
   "cell_type": "markdown",
   "metadata": {},
   "source": [
    "## Gravity Field of a Synestia"
   ]
  },
  {
   "cell_type": "markdown",
   "metadata": {},
   "source": [
    "A gravity field represents the spatial distribution of mass within a body. Physicists and geologists think about the total gravity of a body as the sum of the body's individual parts and contributions to its total gravity field. So, if we were to break up Earth into lots of chunks, these chunks each have their individual mass and position relative to the center of the body. The more mass and closer to the center a chunk is, the stronger effect it will have gravitationally on the gravity field, which emananates from the center of the body.\n",
    "\n",
    "If we apply this thought process to a synestia, then we can represent a synestia, a continuous body of fluid (gas in particular), as a cloud of gas particles, where each particle has its own mass, size, position, and velocity. In fact, this is how synestias are modeled (because fluid dynamics are complicated and this is the easiest way to approximate the physics of fluids). Let's take a look below."
   ]
  },
  {
   "cell_type": "code",
   "execution_count": null,
   "metadata": {},
   "outputs": [],
   "source": [
    "#3D PLOT OF GRAVITY FIELD OF SYNESTIA WITH VECTORS\n",
    "#gadget spits out grav accel #want pre-set load"
   ]
  },
  {
   "cell_type": "markdown",
   "metadata": {},
   "source": [
    "You'll notice that the gravity field of a synestia is quite different from that a sphere (which we are used to since present-day Earth is nearly spherical). Gravitational acceleration is much stronger along the midplane than it is off the midplane. The extra gravitational pull arises from the oblate structure of a synestia. A synestia is very flared and has a disk-like shape away from its center. Its interior is spinning very rapidly, causing mass along the midplane to bulge out. The contribution this bulge, or oblateness, has on the gravitational field is what is called the second-order gravity term, or J$_2$ term.\n",
    "\n",
    "The first-order term of the gravitational acceleration that a particular body exerts on other objects is largely affected by the radius (how far its mass extends out from its center) of that body. However, the second-order term is largely affected by the mass distribution within that body, namely, along the midplane (z = 0, i.e. equator if you're thinking about Earth). Let's take a look below at the equation for gravitational acceleration a (in 3-D Cartesian coordinates, i.e. xyz).\n",
    "\n",
    "$$a_x = -\\frac{GM}{r}(1 + \\frac{1}{r}) .....(\\frac{J_2 x}{r^7}(6z^2 + 1.5(x^2 + y^2)))$$\n",
    "$$a_y = \\frac{J_2 y}{r^7}(6z^2 + 1.5(x^2 + y^2))$$\n",
    "$$a_z = \\frac{J_2 z}{r^7}(3z^2 - 4.5(x^2 + y^2))$$\n",
    "\n",
    "G is the gravitational constant, M is the total mass of the body, r(x,y,z) is the position of a particle in 3-D space, and J$_2$ is a unitless number that depends on how spherical the mass distribution is. The more spherical the body is, the smaller J$_2$ will be. If the body is more squashed, bulging, or oblate, J$_2$ will be larger. Try out the interactive figure below to get a sense of how changing J$_2$ term affects the mass distribution within a body.\n",
    "\n",
    "The midplane gravity is dictated by a$_z$, the second-order term in particular, which confirms that gravitational acceleration will decrease as an object moves away from the midplane of a synestia."
   ]
  },
  {
   "cell_type": "code",
   "execution_count": null,
   "metadata": {},
   "outputs": [],
   "source": [
    "#interactive figure where body changes according to strength of J2 term (and mass of body?)"
   ]
  }
 ],
 "metadata": {
  "kernelspec": {
   "display_name": "Python 3",
   "language": "python",
   "name": "python3"
  },
  "language_info": {
   "codemirror_mode": {
    "name": "ipython",
    "version": 3
   },
   "file_extension": ".py",
   "mimetype": "text/x-python",
   "name": "python",
   "nbconvert_exporter": "python",
   "pygments_lexer": "ipython3",
   "version": "3.6.8"
  }
 },
 "nbformat": 4,
 "nbformat_minor": 2
}
